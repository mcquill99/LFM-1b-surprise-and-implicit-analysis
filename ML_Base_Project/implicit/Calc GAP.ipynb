{
 "cells": [
  {
   "cell_type": "code",
   "execution_count": 47,
   "metadata": {},
   "outputs": [],
   "source": [
    "import pandas as pd\n",
    "import numpy as np\n",
    "import matplotlib.pyplot as plot\n",
    "import scipy\n",
    "import implicit"
   ]
  },
  {
   "cell_type": "markdown",
   "metadata": {},
   "source": [
    "## Load in data from Original Study"
   ]
  },
  {
   "cell_type": "code",
   "execution_count": 60,
   "metadata": {},
   "outputs": [],
   "source": [
    "# initialize data\n",
    "item_threshold = 1 # used to filter out user/artist pairs that have been \n",
    "                   #listened to less than the threshold number of times\n",
    "popular_artist_fraction = 0.2 # top cutoff for what we consider popular artists, in this case the top 20%\n",
    "\n",
    "user_events_file = '../data/user_events.txt'\n",
    "low_user_file = '../data/low_main_users.txt'\n",
    "medium_user_file = '../data/medium_main_users.txt'\n",
    "high_user_file = '../data/high_main_users.txt'\n",
    "\n",
    "#read in user events file\n",
    "cols = ['user', 'artist', 'album', 'track', 'timestamp']\n",
    "df_events = pd.read_csv(user_events_file, sep='\\t', names=cols)\n",
    "#print('No. of user events: ' + str(len(df_events)))\n",
    "df_events.head() # check it is all read in properly\n",
    "\n",
    "# create unique user-artist matrix\n",
    "df_events = df_events.groupby(['user', 'artist']).size().reset_index(name='count')\n",
    "#print('No. user-artist pairs: ' + str(len(df_events)))\n",
    "# each row contains a unique user-artist pair, along with how many times the\n",
    "# user has listened to the artist\n",
    "df_events.head()\n",
    "\n",
    "# filters out artist/user pairs who havent been listened two more than\n",
    "# item_threshold amount of times to reduce\n",
    "# kept mostly to 1 so we dont filter out any data currently\n",
    "df_events = df_events[df_events['count'] >= item_threshold] \n",
    "\n",
    "# With 1, we see no difference between user-artist pairs here\n",
    "#print('No. filtered user-artist pairs: ' + str(len(df_events))) \n",
    "\n",
    "# here, we see the number of unique artists in our matrix\n",
    "#print('No. unique artists: ' + str(len(df_events['artist'].unique())))\n",
    "\n",
    "# get matrix where each row is a user-id and how many artists they've \n",
    "#listened to\n",
    "user_dist = df_events['user'].value_counts() \n",
    "\n",
    "# counts how many unique users there are. prints out user id & a count of how \n",
    "# many rows they're included in, which effectively shows how many artists \n",
    "# they listen to\n",
    "num_users = len(user_dist)\n",
    "#print('Mean artists of all users: ' + str(user_dist.mean()))\n",
    "#print('Min artists of all users: ' + str(user_dist.min()))\n",
    "#print('Max artists of all users: ' + str(user_dist.max()))\n",
    "\n",
    "\n",
    "# get artist distribution\n",
    "# same as previous but with artists, shows artist-id and how many times they\n",
    "# were listened to buy unique users\n",
    "artist_dist = df_events['artist'].value_counts()\n",
    "num_artists = len(artist_dist)\n",
    "#print('No. artists: ' + str(num_artists))\n",
    "#df_events['artist'].value_counts().head"
   ]
  },
  {
   "cell_type": "markdown",
   "metadata": {},
   "source": [
    "## Create Artist to User Matrix with Data"
   ]
  },
  {
   "cell_type": "code",
   "execution_count": 50,
   "metadata": {},
   "outputs": [
    {
     "name": "stdout",
     "output_type": "stream",
     "text": [
      "1000000/ 28718087\n",
      "2000000/ 28718087\n",
      "3000000/ 28718087\n",
      "4000000/ 28718087\n",
      "5000000/ 28718087\n",
      "6000000/ 28718087\n",
      "7000000/ 28718087\n",
      "8000000/ 28718087\n",
      "9000000/ 28718087\n",
      "10000000/ 28718087\n",
      "11000000/ 28718087\n",
      "12000000/ 28718087\n",
      "13000000/ 28718087\n",
      "14000000/ 28718087\n",
      "15000000/ 28718087\n",
      "16000000/ 28718087\n",
      "17000000/ 28718087\n",
      "18000000/ 28718087\n",
      "19000000/ 28718087\n",
      "20000000/ 28718087\n",
      "21000000/ 28718087\n",
      "22000000/ 28718087\n",
      "23000000/ 28718087\n",
      "24000000/ 28718087\n",
      "25000000/ 28718087\n",
      "26000000/ 28718087\n",
      "27000000/ 28718087\n",
      "28000000/ 28718087\n",
      "end of file \n",
      "3000\n",
      "352805\n"
     ]
    }
   ],
   "source": [
    "# Artist to User matrix where artist_user_matrix[a, u] = num of times user u listened to artist a\n",
    "\n",
    "# 352805, 3000 (total artists, users)\n",
    "rows, cols = 352805, 3000\n",
    "artist_user_matrix = scipy.sparse.lil_matrix((rows, cols), dtype=int)\n",
    "\n",
    "# user\tartist\talbum\ttrack\ttimestamp\n",
    "\n",
    "user_dict = {} #simplify user id to 1, 2, 3 ...\n",
    "artist_dict = {}\n",
    "\n",
    "# populate with user_events_file\n",
    "with open(user_events_file, 'r') as fp:\n",
    "    line = fp.readline()\n",
    "    loop_count = 0\n",
    "    while line:\n",
    "        # get data from line\n",
    "        line = fp.readline()\n",
    "        parts = line.split(\"\\t\")\n",
    "        \n",
    "        # end case\n",
    "        try:\n",
    "            user_id = int(parts[0])\n",
    "            artist_id = int(parts[1])\n",
    "        except ValueError:\n",
    "            print(\"end of file \" + line)\n",
    "            break\n",
    "        \n",
    "        # use user_dict to shorten user_id\n",
    "        if user_id not in user_dict:\n",
    "            # this user_id has not bee seen\n",
    "            user_dict[user_id] = len(user_dict)\n",
    "        user_idx = user_dict[user_id]\n",
    "        \n",
    "        # use track_dict to shorten track_id\n",
    "        if artist_id not in artist_dict:\n",
    "            # this user_id has not bee seen\n",
    "            artist_dict[artist_id] = len(artist_dict)\n",
    "        artist_idx = artist_dict[artist_id]\n",
    "        \n",
    "        # increment count of user to track\n",
    "        artist_user_matrix[artist_idx, user_idx] += 1\n",
    "        \n",
    "        # progress marker\n",
    "        loop_count = loop_count + 1\n",
    "        if loop_count % 10000000 == 0:\n",
    "            print(str(loop_count) + \"/ 28718087\")  # / num of lines in file\n",
    "\n",
    "print(len(user_dict))\n",
    "print(len(artist_dict))"
   ]
  },
  {
   "cell_type": "code",
   "execution_count": 51,
   "metadata": {},
   "outputs": [],
   "source": [
    "# helpful dicts for converting artist and user count back to their ids\n",
    "user_count_to_id_dict ={v: k for k, v in user_dict.items()}\n",
    "artist_count_to_id_dict = {v: k for k, v in artist_dict.items()}"
   ]
  },
  {
   "cell_type": "code",
   "execution_count": 52,
   "metadata": {},
   "outputs": [],
   "source": [
    "# GAP groups from Original Study\n",
    "low_users = pd.read_csv(low_user_file, sep=',').set_index('user_id')\n",
    "medium_users = pd.read_csv(medium_user_file, sep=',').set_index('user_id')\n",
    "high_users = pd.read_csv(high_user_file, sep=',').set_index('user_id')"
   ]
  },
  {
   "cell_type": "markdown",
   "metadata": {},
   "source": [
    "## Use Implicit to Make a recommender System\n",
    "### Recommend each user 10 artists to be used for deltaGAP calculation"
   ]
  },
  {
   "cell_type": "code",
   "execution_count": 57,
   "metadata": {},
   "outputs": [
    {
     "data": {
      "application/vnd.jupyter.widget-view+json": {
       "model_id": "d5f067ae637a460086ded9d43e4672b8",
       "version_major": 2,
       "version_minor": 0
      },
      "text/plain": [
       "HBox(children=(FloatProgress(value=0.0, max=15.0), HTML(value='')))"
      ]
     },
     "metadata": {},
     "output_type": "display_data"
    },
    {
     "name": "stdout",
     "output_type": "stream",
     "text": [
      "\n",
      "[[ 2392  1004 12080 ...   224   193   659]\n",
      " [  199   208   201 ...   187  4983    74]\n",
      " [  404  1490   369 ...   330   304   346]\n",
      " ...\n",
      " [ 2913    61   433 ...   178  4283  1319]\n",
      " [ 5537 15981  4373 ...  5688  4941  5162]\n",
      " [ 4769    61  5580 ...   396   320    60]]\n"
     ]
    }
   ],
   "source": [
    "# Implicit recommendations\n",
    "# -> top_10_artist\n",
    "\n",
    "# covert dataframe to csr_matrix\n",
    "artist_user_csr = scipy.sparse.csr_matrix(artist_user_matrix)\n",
    "model = implicit.als.AlternatingLeastSquares(factors=50)\n",
    "\n",
    "# train the model on a sparse matrix of item/user/confidence weights\n",
    "model.fit(artist_user_csr)\n",
    "\n",
    "# recommend items for a user\n",
    "user_recs = artist_user_csr.T\n",
    "recommendations = model.recommend(0, user_recs, 10)\n",
    "\n",
    "# find related items\n",
    "#related = model.similar_items(0) #item number\n",
    "\n",
    "\n",
    "# matrix of top 10 artists for every user\n",
    "\n",
    "top_10_artists = np.zeros((3000,10))   # (num of users, 10 artists)\n",
    "for i in range(3000): # num of users\n",
    "    # convert i to proper user id with user_dict\n",
    "    #curr_user_id = user_dict.value\n",
    "    \n",
    "    recommendations = model.recommend(i, user_recs, 10)\n",
    "    for j in range(10):\n",
    "        top_10_artists[i, j] = recommendations[j][0]\n",
    "        \n",
    "print(top_10_artists.astype(int))"
   ]
  },
  {
   "cell_type": "markdown",
   "metadata": {},
   "source": [
    "## Compute deltaGAP based on algo from original study"
   ]
  },
  {
   "cell_type": "code",
   "execution_count": 58,
   "metadata": {
    "scrolled": true
   },
   "outputs": [],
   "source": [
    "# Compute GAP\n",
    "\n",
    "total_users = 3000\n",
    "low_user_count = 0\n",
    "med_user_count = 0\n",
    "high_user_count = 0\n",
    "low_gap_r = 0\n",
    "med_gap_r = 0\n",
    "high_gap_r = 0\n",
    "\n",
    "# for each user\n",
    "for curr_user in range(0, total_users):\n",
    "    \n",
    "    # curr_user is a count from 0 to num of users\n",
    "    # curr_user_is is the id seen in user_events.txt\n",
    "    curr_user_id = user_count_to_id_dict[curr_user]\n",
    "    \n",
    "    # compile a list (artist_id_list) of the top 10 recommendations\n",
    "    curr_users_top_10_artists = top_10_artists.astype(int)[curr_user]\n",
    "    \n",
    "    # sum(sigma) = sum(artist_dist[top_10_artist_id_list]/ no_users)\n",
    "    #locate the artist_dist idx for each top 10 artist\n",
    "    sum_of_sigma = 0\n",
    "    artists_found = 0\n",
    "    \n",
    "    # top_artist is an index, use artist_dict to get real id\n",
    "    for top_artist in top_10_artists.astype(int)[curr_user]:\n",
    "        sum_of_sigma += artist_dist[artist_count_to_id_dict[top_artist]] / total_users\n",
    "        artists_found += 1\n",
    "        \n",
    "    GAP_numerator = sum_of_sigma / artists_found\n",
    "    \n",
    "    \n",
    "    # check which GAP group the user is in\n",
    "    if curr_user_id in low_users.index:\n",
    "        low_gap_r += GAP_numerator\n",
    "        low_user_count += 1\n",
    "    if curr_user_id in medium_users.index:\n",
    "        med_gap_r += GAP_numerator\n",
    "        med_user_count += 1\n",
    "    if curr_user_id in high_users.index:\n",
    "        high_gap_r += GAP_numerator\n",
    "        high_user_count += 1\n",
    "        \n",
    "low_gap = low_gap_r / low_user_count\n",
    "med_gap = med_gap_r / med_user_count\n",
    "high_gap = high_gap_r / high_user_count"
   ]
  },
  {
   "cell_type": "markdown",
   "metadata": {},
   "source": [
    "### Print Results"
   ]
  },
  {
   "cell_type": "code",
   "execution_count": 59,
   "metadata": {},
   "outputs": [
    {
     "name": "stdout",
     "output_type": "stream",
     "text": [
      "0.1095400333333332\n",
      "0.13650840000000003\n",
      "0.16353419999999974\n"
     ]
    }
   ],
   "source": [
    "print(low_gap)\n",
    "print(med_gap)\n",
    "print(high_gap)"
   ]
  }
 ],
 "metadata": {
  "kernelspec": {
   "display_name": "Python 3",
   "language": "python",
   "name": "python3"
  },
  "language_info": {
   "codemirror_mode": {
    "name": "ipython",
    "version": 3
   },
   "file_extension": ".py",
   "mimetype": "text/x-python",
   "name": "python",
   "nbconvert_exporter": "python",
   "pygments_lexer": "ipython3",
   "version": "3.6.9"
  }
 },
 "nbformat": 4,
 "nbformat_minor": 4
}
