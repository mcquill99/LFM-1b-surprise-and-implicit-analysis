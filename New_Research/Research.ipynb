{
 "cells": [
  {
   "cell_type": "code",
   "execution_count": 1,
   "metadata": {},
   "outputs": [],
   "source": [
    "import pandas as pd\n",
    "import numpy as np\n",
    "import matplotlib.pyplot as plot\n",
    "from scipy import stats\n",
    "from scipy import sparse\n",
    "import scipy\n",
    "from collections import defaultdict\n",
    "import implicit\n",
    "from implicit.als import AlternatingLeastSquares\n",
    "import random\n",
    "from sklearn.preprocessing import MinMaxScaler\n",
    "from sklearn import metrics\n",
    "from surprise import Reader, Dataset\n",
    "from surprise.model_selection import train_test_split\n",
    "from surprise import SVDpp\n",
    "import rectorch\n",
    "from rectorch.models.baseline import SLIM, Random, Popularity\n",
    "from rectorch.data import DataProcessing\n",
    "from rectorch.samplers import ArrayDummySampler, SparseDummySampler\n",
    "from rectorch.evaluation import evaluate\n",
    "from rectorch.utils import collect_results, prepare_for_prediction"
   ]
  },
  {
   "cell_type": "markdown",
   "metadata": {},
   "source": [
    "# Data Parsing"
   ]
  },
  {
   "cell_type": "code",
   "execution_count": 2,
   "metadata": {},
   "outputs": [],
   "source": [
    "# initialize data\n",
    "item_threshold = 1 # used to filter out user/artist pairs that have been \n",
    "                   #listened to less than the threshold number of times\n",
    "popular_artist_fraction = 0.2 # top cutoff for what we consider popular artists, in this case the top 20%\n",
    "\n",
    "user_events_file = 'data/user_events.txt'\n",
    "low_user_file = 'data/low_main_users.txt'\n",
    "medium_user_file = 'data/medium_main_users.txt'\n",
    "high_user_file = 'data/high_main_users.txt'"
   ]
  },
  {
   "cell_type": "code",
   "execution_count": 3,
   "metadata": {},
   "outputs": [
    {
     "name": "stdout",
     "output_type": "stream",
     "text": [
      "No. of user events: 28718087\n"
     ]
    },
    {
     "data": {
      "text/html": [
       "<div>\n",
       "<style scoped>\n",
       "    .dataframe tbody tr th:only-of-type {\n",
       "        vertical-align: middle;\n",
       "    }\n",
       "\n",
       "    .dataframe tbody tr th {\n",
       "        vertical-align: top;\n",
       "    }\n",
       "\n",
       "    .dataframe thead th {\n",
       "        text-align: right;\n",
       "    }\n",
       "</style>\n",
       "<table border=\"1\" class=\"dataframe\">\n",
       "  <thead>\n",
       "    <tr style=\"text-align: right;\">\n",
       "      <th></th>\n",
       "      <th>user</th>\n",
       "      <th>artist</th>\n",
       "      <th>album</th>\n",
       "      <th>track</th>\n",
       "      <th>timestamp</th>\n",
       "    </tr>\n",
       "  </thead>\n",
       "  <tbody>\n",
       "    <tr>\n",
       "      <th>0</th>\n",
       "      <td>31435741</td>\n",
       "      <td>2</td>\n",
       "      <td>4</td>\n",
       "      <td>4</td>\n",
       "      <td>1385212958</td>\n",
       "    </tr>\n",
       "    <tr>\n",
       "      <th>1</th>\n",
       "      <td>31435741</td>\n",
       "      <td>2</td>\n",
       "      <td>4</td>\n",
       "      <td>4</td>\n",
       "      <td>1385212642</td>\n",
       "    </tr>\n",
       "    <tr>\n",
       "      <th>2</th>\n",
       "      <td>31435741</td>\n",
       "      <td>2</td>\n",
       "      <td>4</td>\n",
       "      <td>4</td>\n",
       "      <td>1385212325</td>\n",
       "    </tr>\n",
       "    <tr>\n",
       "      <th>3</th>\n",
       "      <td>31435741</td>\n",
       "      <td>2</td>\n",
       "      <td>4</td>\n",
       "      <td>4</td>\n",
       "      <td>1385209508</td>\n",
       "    </tr>\n",
       "    <tr>\n",
       "      <th>4</th>\n",
       "      <td>31435741</td>\n",
       "      <td>2</td>\n",
       "      <td>4</td>\n",
       "      <td>4</td>\n",
       "      <td>1385209191</td>\n",
       "    </tr>\n",
       "  </tbody>\n",
       "</table>\n",
       "</div>"
      ],
      "text/plain": [
       "       user  artist  album  track   timestamp\n",
       "0  31435741       2      4      4  1385212958\n",
       "1  31435741       2      4      4  1385212642\n",
       "2  31435741       2      4      4  1385212325\n",
       "3  31435741       2      4      4  1385209508\n",
       "4  31435741       2      4      4  1385209191"
      ]
     },
     "execution_count": 3,
     "metadata": {},
     "output_type": "execute_result"
    }
   ],
   "source": [
    "#read in user events file\n",
    "cols = ['user', 'artist', 'album', 'track', 'timestamp']\n",
    "df_events = pd.read_csv(user_events_file, sep='\\t', names=cols)\n",
    "print('No. of user events: ' + str(len(df_events)))\n",
    "df_events.head() # check it is all read in properly"
   ]
  },
  {
   "cell_type": "markdown",
   "metadata": {},
   "source": [
    "## User-Artist Matrix"
   ]
  },
  {
   "cell_type": "code",
   "execution_count": 4,
   "metadata": {},
   "outputs": [
    {
     "name": "stdout",
     "output_type": "stream",
     "text": [
      "No. user-artist pairs: 1755361\n"
     ]
    }
   ],
   "source": [
    "# create unique user-artist matrix\n",
    "df_events = df_events.groupby(['user', 'artist']).size().reset_index(name='listens')\n",
    "print('No. user-artist pairs: ' + str(len(df_events)))\n",
    "# each row contains a unique user-artist pair, along with how many times the\n",
    "# user has listened to the artist\n",
    "#df_events.sort_values(by=['user'])"
   ]
  },
  {
   "cell_type": "code",
   "execution_count": 5,
   "metadata": {},
   "outputs": [
    {
     "data": {
      "text/html": [
       "<div>\n",
       "<style scoped>\n",
       "    .dataframe tbody tr th:only-of-type {\n",
       "        vertical-align: middle;\n",
       "    }\n",
       "\n",
       "    .dataframe tbody tr th {\n",
       "        vertical-align: top;\n",
       "    }\n",
       "\n",
       "    .dataframe thead th {\n",
       "        text-align: right;\n",
       "    }\n",
       "</style>\n",
       "<table border=\"1\" class=\"dataframe\">\n",
       "  <thead>\n",
       "    <tr style=\"text-align: right;\">\n",
       "      <th></th>\n",
       "      <th>user</th>\n",
       "      <th>artist</th>\n",
       "      <th>listens</th>\n",
       "    </tr>\n",
       "  </thead>\n",
       "  <tbody>\n",
       "    <tr>\n",
       "      <th>0</th>\n",
       "      <td>1021445</td>\n",
       "      <td>12</td>\n",
       "      <td>43</td>\n",
       "    </tr>\n",
       "    <tr>\n",
       "      <th>1</th>\n",
       "      <td>1021445</td>\n",
       "      <td>16</td>\n",
       "      <td>1</td>\n",
       "    </tr>\n",
       "    <tr>\n",
       "      <th>2</th>\n",
       "      <td>1021445</td>\n",
       "      <td>28</td>\n",
       "      <td>7</td>\n",
       "    </tr>\n",
       "    <tr>\n",
       "      <th>3</th>\n",
       "      <td>1021445</td>\n",
       "      <td>29</td>\n",
       "      <td>1</td>\n",
       "    </tr>\n",
       "    <tr>\n",
       "      <th>4</th>\n",
       "      <td>1021445</td>\n",
       "      <td>46</td>\n",
       "      <td>1</td>\n",
       "    </tr>\n",
       "    <tr>\n",
       "      <th>...</th>\n",
       "      <td>...</td>\n",
       "      <td>...</td>\n",
       "      <td>...</td>\n",
       "    </tr>\n",
       "    <tr>\n",
       "      <th>1395</th>\n",
       "      <td>1021445</td>\n",
       "      <td>1864220</td>\n",
       "      <td>3</td>\n",
       "    </tr>\n",
       "    <tr>\n",
       "      <th>1396</th>\n",
       "      <td>1021445</td>\n",
       "      <td>1864221</td>\n",
       "      <td>4</td>\n",
       "    </tr>\n",
       "    <tr>\n",
       "      <th>1397</th>\n",
       "      <td>1021445</td>\n",
       "      <td>1864222</td>\n",
       "      <td>1</td>\n",
       "    </tr>\n",
       "    <tr>\n",
       "      <th>1398</th>\n",
       "      <td>1045479</td>\n",
       "      <td>3</td>\n",
       "      <td>9</td>\n",
       "    </tr>\n",
       "    <tr>\n",
       "      <th>1399</th>\n",
       "      <td>1045479</td>\n",
       "      <td>11</td>\n",
       "      <td>1</td>\n",
       "    </tr>\n",
       "  </tbody>\n",
       "</table>\n",
       "<p>1400 rows × 3 columns</p>\n",
       "</div>"
      ],
      "text/plain": [
       "         user   artist  listens\n",
       "0     1021445       12       43\n",
       "1     1021445       16        1\n",
       "2     1021445       28        7\n",
       "3     1021445       29        1\n",
       "4     1021445       46        1\n",
       "...       ...      ...      ...\n",
       "1395  1021445  1864220        3\n",
       "1396  1021445  1864221        4\n",
       "1397  1021445  1864222        1\n",
       "1398  1045479        3        9\n",
       "1399  1045479       11        1\n",
       "\n",
       "[1400 rows x 3 columns]"
      ]
     },
     "execution_count": 5,
     "metadata": {},
     "output_type": "execute_result"
    }
   ],
   "source": [
    "df_events.head(1400)"
   ]
  },
  {
   "cell_type": "code",
   "execution_count": 6,
   "metadata": {},
   "outputs": [
    {
     "name": "stdout",
     "output_type": "stream",
     "text": [
      "No. filtered user-artist pairs: 1755361\n",
      "No. unique artists: 352805\n"
     ]
    }
   ],
   "source": [
    "# filters out artist/user pairs who havent been listened two more than\n",
    "# item_threshold amount of times to reduce potential load\n",
    "# kept to 1 currently, so we dont filter out any data\n",
    "df_events = df_events[df_events['listens'] >= item_threshold] \n",
    "\n",
    "# With 1, we see no difference between user-artist pairs here\n",
    "print('No. filtered user-artist pairs: ' + str(len(df_events))) \n",
    "\n",
    "# here, we see the number of unique artists in our matrix\n",
    "print('No. unique artists: ' + str(len(df_events['artist'].unique())))"
   ]
  },
  {
   "cell_type": "markdown",
   "metadata": {},
   "source": [
    "#### How many artists have users listened to?"
   ]
  },
  {
   "cell_type": "code",
   "execution_count": 7,
   "metadata": {},
   "outputs": [
    {
     "name": "stdout",
     "output_type": "stream",
     "text": [
      "Mean artists of all users: 585.1203333333333\n",
      "Min artists of all users: 18\n",
      "Max artists of all users: 4011\n"
     ]
    },
    {
     "data": {
      "text/plain": [
       "41888522    4011\n",
       "4393555     3700\n",
       "40029632    3678\n",
       "26874346    3544\n",
       "29736410    3529\n",
       "Name: user, dtype: int64"
      ]
     },
     "execution_count": 7,
     "metadata": {},
     "output_type": "execute_result"
    }
   ],
   "source": [
    "# get matrix where each row is a user-id and how many artists they've \n",
    "#listened to\n",
    "user_dist = df_events['user'].value_counts() \n",
    "\n",
    "# counts how many unique users there are. prints out user id & a count of how \n",
    "# many rows they're included in, which effectively shows how many artists \n",
    "# they listen to\n",
    "num_users = len(user_dist)\n",
    "print('Mean artists of all users: ' + str(user_dist.mean()))\n",
    "print('Min artists of all users: ' + str(user_dist.min()))\n",
    "print('Max artists of all users: ' + str(user_dist.max()))\n",
    "\n",
    "user_dist.head()"
   ]
  },
  {
   "cell_type": "markdown",
   "metadata": {},
   "source": [
    "#### How many users listen to an artist?"
   ]
  },
  {
   "cell_type": "code",
   "execution_count": 8,
   "metadata": {},
   "outputs": [
    {
     "name": "stdout",
     "output_type": "stream",
     "text": [
      "No. artists: 352805\n"
     ]
    },
    {
     "data": {
      "text/plain": [
       "<bound method NDFrame.head of 135        1389\n",
       "1602       1359\n",
       "46         1325\n",
       "320        1297\n",
       "27         1290\n",
       "           ... \n",
       "3124286       1\n",
       "1029181       1\n",
       "1023032       1\n",
       "1008679       1\n",
       "3087545       1\n",
       "Name: artist, Length: 352805, dtype: int64>"
      ]
     },
     "execution_count": 8,
     "metadata": {},
     "output_type": "execute_result"
    }
   ],
   "source": [
    "# get artist distribution\n",
    "# same as previous but with artists, shows artist-id and how many times they\n",
    "# were listened to buy unique users\n",
    "artist_dist = df_events['artist'].value_counts()\n",
    "num_artists = len(artist_dist)\n",
    "print('No. artists: ' + str(num_artists))\n",
    "df_events['artist'].value_counts().head"
   ]
  },
  {
   "cell_type": "code",
   "execution_count": 9,
   "metadata": {},
   "outputs": [
    {
     "name": "stdout",
     "output_type": "stream",
     "text": [
      "No. top artists: 70561\n"
     ]
    }
   ],
   "source": [
    "# get number of  popular artists\n",
    "num_top_artists = int(popular_artist_fraction * num_artists)\n",
    "\n",
    "# getting the top top_fraction (0.2) percent of artists, so finding how many\n",
    "# artists make up 20% of total artists, and then only using the artists those\n",
    "#number of the most popular aritsts\n",
    "top_artist_dist = artist_dist[:num_top_artists]\n",
    "print('No. top artists: ' + str(len(top_artist_dist)))"
   ]
  },
  {
   "cell_type": "code",
   "execution_count": 10,
   "metadata": {},
   "outputs": [
    {
     "name": "stdout",
     "output_type": "stream",
     "text": [
      "Num users: 3000\n"
     ]
    }
   ],
   "source": [
    "# read in users\n",
    "# user file is just user_id and their mainstreaminess value \n",
    "low_users = pd.read_csv(low_user_file, sep=',').set_index('user_id')\n",
    "medium_users = pd.read_csv(medium_user_file, sep=',').set_index('user_id')\n",
    "high_users = pd.read_csv(high_user_file, sep=',').set_index('user_id')\n",
    "num_users = len(low_users) + len(medium_users) + len(high_users)\n",
    "print('Num users: ' + str(num_users))"
   ]
  },
  {
   "cell_type": "markdown",
   "metadata": {},
   "source": [
    "## Getting Users From Each Popularity Group & Their 10 Most Listened To Artists "
   ]
  },
  {
   "cell_type": "markdown",
   "metadata": {},
   "source": [
    "### (For Analysis of Streaming Service Algorithmic Bias)"
   ]
  },
  {
   "cell_type": "code",
   "execution_count": 11,
   "metadata": {},
   "outputs": [
    {
     "data": {
      "text/html": [
       "<div>\n",
       "<style scoped>\n",
       "    .dataframe tbody tr th:only-of-type {\n",
       "        vertical-align: middle;\n",
       "    }\n",
       "\n",
       "    .dataframe tbody tr th {\n",
       "        vertical-align: top;\n",
       "    }\n",
       "\n",
       "    .dataframe thead th {\n",
       "        text-align: right;\n",
       "    }\n",
       "</style>\n",
       "<table border=\"1\" class=\"dataframe\">\n",
       "  <thead>\n",
       "    <tr style=\"text-align: right;\">\n",
       "      <th></th>\n",
       "      <th>user</th>\n",
       "      <th>artist</th>\n",
       "      <th>listens</th>\n",
       "    </tr>\n",
       "  </thead>\n",
       "  <tbody>\n",
       "    <tr>\n",
       "      <th>1513514</th>\n",
       "      <td>42845367</td>\n",
       "      <td>495</td>\n",
       "      <td>205</td>\n",
       "    </tr>\n",
       "    <tr>\n",
       "      <th>1513639</th>\n",
       "      <td>42845367</td>\n",
       "      <td>15624</td>\n",
       "      <td>201</td>\n",
       "    </tr>\n",
       "    <tr>\n",
       "      <th>1513657</th>\n",
       "      <td>42845367</td>\n",
       "      <td>27107</td>\n",
       "      <td>171</td>\n",
       "    </tr>\n",
       "    <tr>\n",
       "      <th>1513483</th>\n",
       "      <td>42845367</td>\n",
       "      <td>163</td>\n",
       "      <td>156</td>\n",
       "    </tr>\n",
       "    <tr>\n",
       "      <th>1513485</th>\n",
       "      <td>42845367</td>\n",
       "      <td>172</td>\n",
       "      <td>156</td>\n",
       "    </tr>\n",
       "  </tbody>\n",
       "</table>\n",
       "</div>"
      ],
      "text/plain": [
       "             user  artist  listens\n",
       "1513514  42845367     495      205\n",
       "1513639  42845367   15624      201\n",
       "1513657  42845367   27107      171\n",
       "1513483  42845367     163      156\n",
       "1513485  42845367     172      156"
      ]
     },
     "execution_count": 11,
     "metadata": {},
     "output_type": "execute_result"
    }
   ],
   "source": [
    "toList = df_events.loc[df_events['user'] == 42845367].sort_values(by=['listens'], ascending=False)\n",
    "toList.head() #grabbing random users top 10 artists in 1 of the 3 groups"
   ]
  },
  {
   "cell_type": "code",
   "execution_count": 12,
   "metadata": {},
   "outputs": [
    {
     "name": "stdout",
     "output_type": "stream",
     "text": [
      "[495, 15624, 27107, 163, 172, 4311, 8047, 7, 56, 245, 52741, 173416, 140, 1703, 3887, 42794, 1092, 2558, 54, 42835]\n"
     ]
    }
   ],
   "source": [
    "to_list_2 = toList['artist'].tolist()[:20]\n",
    "print(to_list_2)"
   ]
  },
  {
   "cell_type": "markdown",
   "metadata": {},
   "source": [
    "# Calculating GAP of User Profiles"
   ]
  },
  {
   "cell_type": "code",
   "execution_count": 13,
   "metadata": {},
   "outputs": [
    {
     "name": "stdout",
     "output_type": "stream",
     "text": [
      "Low count (for check): 1000\n",
      "Med count (for check): 1000\n",
      "High count (for check): 1000\n",
      "0.04963328792099549\n",
      "0.054371119359489226\n",
      "0.06286028679778642\n"
     ]
    }
   ],
   "source": [
    "# placeholder vars for numerator of GAPp, waiting to be divided by sie of group\n",
    "low_gap_p = 0\n",
    "medium_gap_p = 0\n",
    "high_gap_p = 0\n",
    "total_gap_p = 0\n",
    "#Count for sanity check\n",
    "low_count = 0\n",
    "med_count = 0\n",
    "high_count = 0\n",
    "\n",
    "for u, df in df_events.groupby('user'):\n",
    "    \n",
    "    no_user_artists = len(set(df['artist'])) # profile size //number of artists in users profile\n",
    "    # get popularity (= fraction of users interacted with item) of user items and calculate average of it\n",
    "    user_pop_artist_fraq = sum(artist_dist[df['artist']] / num_users) / no_user_artists \n",
    "    \n",
    "    if u in low_users.index: # get user group-specific values\n",
    "        low_gap_p += user_pop_artist_fraq\n",
    "        low_count += 1\n",
    "    elif u in medium_users.index:\n",
    "        medium_gap_p += user_pop_artist_fraq\n",
    "        med_count += 1\n",
    "    else:\n",
    "        high_gap_p += user_pop_artist_fraq\n",
    "        high_count += 1\n",
    "\n",
    "total_gap_p = (low_gap_p + medium_gap_p + high_gap_p) / num_users\n",
    "low_gap_p /= len(low_users) # average popularity of items/artists in low/med/high groups (gap = group average popularity)\n",
    "medium_gap_p /= len(medium_users)\n",
    "high_gap_p /= len(high_users)\n",
    "print('Low count (for check): ' + str(low_count))\n",
    "print('Med count (for check): ' + str(med_count))\n",
    "print('High count (for check): ' + str(high_count))\n",
    "print(low_gap_p)\n",
    "print(medium_gap_p)\n",
    "print(high_gap_p)"
   ]
  },
  {
   "cell_type": "markdown",
   "metadata": {},
   "source": [
    "### Min-Max Scaling Ratings (Not Using Right Now)"
   ]
  },
  {
   "cell_type": "code",
   "execution_count": 63,
   "metadata": {},
   "outputs": [
    {
     "data": {
      "text/plain": [
       "\"scaled_df_events = pd.DataFrame()\\nfor user_id, group in df_events.groupby('user'):\\n    #print(group)\\n    min_listens = group['listens'].min()\\n    max_listens = group['listens'].max()\\n    std = (group['listens'] - min_listens) / (max_listens - min_listens)\\n    scaled_listens = std * 999 + 1\\n    to_replace = group.copy()\\n    to_replace['listens'] = scaled_listens\\n    #print(to_replace)\\n    scaled_df_events = scaled_df_events.append(to_replace)\\nscaled_df_events.head()  \""
      ]
     },
     "execution_count": 63,
     "metadata": {},
     "output_type": "execute_result"
    }
   ],
   "source": [
    "### Scale listening counts on a scale from 1-1000\n",
    "\"\"\"scaled_df_events = pd.DataFrame()\n",
    "for user_id, group in df_events.groupby('user'):\n",
    "    #print(group)\n",
    "    min_listens = group['listens'].min()\n",
    "    max_listens = group['listens'].max()\n",
    "    std = (group['listens'] - min_listens) / (max_listens - min_listens)\n",
    "    scaled_listens = std * 999 + 1\n",
    "    to_replace = group.copy()\n",
    "    to_replace['listens'] = scaled_listens\n",
    "    #print(to_replace)\n",
    "    scaled_df_events = scaled_df_events.append(to_replace)\n",
    "scaled_df_events.head()  \"\"\" \n",
    "#df_events.groupby('user').head()"
   ]
  },
  {
   "cell_type": "markdown",
   "metadata": {},
   "source": [
    "# Analysis of Alternating Least Squares with the Implicit Library"
   ]
  },
  {
   "cell_type": "markdown",
   "metadata": {},
   "source": [
    "### Shaping the Data"
   ]
  },
  {
   "cell_type": "code",
   "execution_count": 64,
   "metadata": {},
   "outputs": [],
   "source": [
    "#Normalize data to compare artist popularity vs recommendations\n",
    "#Normalize artist popularity\n",
    "normalized_artist_dist = pd.DataFrame(artist_dist)\n",
    "normalized_artist_dist.columns = ['listens']\n",
    "normalized_artist_dist['listens'] /= num_users\n",
    "normalized_artist_dist.head()\n",
    "\n",
    "num_times_recommended = pd.DataFrame(artist_dist)\n",
    "num_times_recommended.columns = ['Recommendation Frequency']\n",
    "num_times_recommended['Recommendation Frequency'] = 0\n",
    "#num_times_recommended.head()\n",
    "#normalized_artist_dist.head()\n",
    "#For potential use with graphs, not being used right now"
   ]
  },
  {
   "cell_type": "code",
   "execution_count": 65,
   "metadata": {},
   "outputs": [],
   "source": [
    "def user_events_file_to_lil_matrix():\n",
    "    # Artist to User matrix where artist_user_matrix[a, u] = num of times user u listened to artist a\n",
    "\n",
    "    # 352805, 3000 (total artists, users)\n",
    "    rows, cols = 352805, 3000\n",
    "    artist_user_matrix = scipy.sparse.lil_matrix((rows, cols), dtype=int)\n",
    "\n",
    "    # user\tartist\talbum\ttrack\ttimestamp\n",
    "\n",
    "    user_dict = {}  # simplify user id to 1, 2, 3 ...\n",
    "    artist_dict = {}\n",
    "\n",
    "    # populate with user_events_file\n",
    "    with open(\"/home/jimi/music_fairness/LFM-1b-surprise-and-implicit-analysis/ML_Base_Project/data/user_events.txt\", 'r') as fp:\n",
    "        line = fp.readline()\n",
    "        loop_count = 0\n",
    "        while line:\n",
    "            # get data from line\n",
    "            line = fp.readline()\n",
    "            parts = line.split(\"\\t\")\n",
    "\n",
    "            # end case\n",
    "            try:\n",
    "                user_id = int(parts[0])\n",
    "                artist_id = int(parts[1])\n",
    "            except ValueError:\n",
    "                print(\"end of file \" + line)\n",
    "                break\n",
    "\n",
    "            # use user_dict to shorten user_id\n",
    "            if user_id not in user_dict:\n",
    "                # this user_id has not bee seen\n",
    "                user_dict[user_id] = len(user_dict)\n",
    "            user_idx = user_dict[user_id]\n",
    "\n",
    "            # use track_dict to shorten track_id\n",
    "            if artist_id not in artist_dict:\n",
    "                # this user_id has not bee seen\n",
    "                artist_dict[artist_id] = len(artist_dict)\n",
    "            artist_idx = artist_dict[artist_id]\n",
    "\n",
    "            # increment count of user to track\n",
    "            artist_user_matrix[artist_idx, user_idx] += 1\n",
    "\n",
    "            # progress marker\n",
    "            loop_count = loop_count + 1\n",
    "            if loop_count % 10000000 == 0:\n",
    "                print(str(loop_count) + \"/ 28718087\")  # / num of lines in file\n",
    "\n",
    "    print(len(user_dict))\n",
    "    print(len(artist_dict))\n",
    "\n",
    "    # helpful dicts for converting artist and user count back to their ids\n",
    "    user_count_to_id_dict = {v: k for k, v in user_dict.items()}\n",
    "    artist_count_to_id_dict = {v: k for k, v in artist_dict.items()}\n",
    "\n",
    "    return artist_user_matrix, user_dict, artist_dict, user_count_to_id_dict, artist_count_to_id_dict\n",
    "\n",
    "\n",
    "## FUNCTIONS FROM from jmsteinw's blog post ## a_u_tuple\n"
   ]
  },
  {
   "cell_type": "code",
   "execution_count": 42,
   "metadata": {},
   "outputs": [],
   "source": [
    "def make_train(ratings, pct_test=0.2):\n",
    "    '''\n",
    "    This function will take in the original user-item matrix and \"mask\" a percentage of the original ratings where a\n",
    "    user-item interaction has taken place for use as a test set. The test set will contain all of the original ratings,\n",
    "    while the training set replaces the specified percentage of them with a zero in the original ratings matrix.\n",
    "\n",
    "    parameters:\n",
    "\n",
    "    ratings - the original ratings matrix from which you want to generate a train/test set. Test is just a complete\n",
    "    copy of the original set. This is in the form of a sparse csr_matrix.\n",
    "\n",
    "    pct_test - The percentage of user-item interactions where an interaction took place that you want to mask in the\n",
    "    training set for later comparison to the test set, which contains all of the original ratings.\n",
    "\n",
    "    returns:\n",
    "\n",
    "    training_set - The altered version of the original data with a certain percentage of the user-item pairs\n",
    "    that originally had interaction set back to zero.\n",
    "\n",
    "    test_set - A copy of the original ratings matrix, unaltered, so it can be used to see how the rank order\n",
    "    compares with the actual interactions.\n",
    "\n",
    "    user_inds - From the randomly selected user-item indices, which user rows were altered in the training data.\n",
    "    This will be necessary later when evaluating the performance via AUC.\n",
    "    '''\n",
    "    test_set = ratings.copy()  # Make a copy of the original set to be the test set.\n",
    "    test_set[test_set != 0] = 1  # Store the test set as a binary preference matrix\n",
    "    training_set = ratings.copy()  # Make a copy of the original data we can alter as our training set.\n",
    "    nonzero_inds = training_set.nonzero()  # Find the indices in the ratings data where an interaction exists\n",
    "    nonzero_pairs = list(zip(nonzero_inds[0], nonzero_inds[1]))  # Zip these pairs together of user,item index into list\n",
    "    random.seed(0)  # Set the random seed to zero for reproducibility\n",
    "    num_samples = int(\n",
    "        np.ceil(pct_test * len(nonzero_pairs)))  # Round the number of samples needed to the nearest integer\n",
    "    samples = random.sample(nonzero_pairs, num_samples)  # Sample a random number of user-item pairs without replacement\n",
    "    user_inds = [index[0] for index in samples]  # Get the user row indices\n",
    "    item_inds = [index[1] for index in samples]  # Get the item column indices\n",
    "    training_set[user_inds, item_inds] = 0  # Assign all of the randomly chosen user-item pairs to zero\n",
    "    training_set.eliminate_zeros()  # Get rid of zeros in sparse array storage after update to save space\n",
    "    return training_set, test_set, list(set(user_inds))  # Output the unique list of user rows that were altered\n",
    "\n",
    "\n",
    "# Usage\n",
    "# a_to_u_train, a_to_u_test, altered_users = make_train(csr_sparse_matrix, pct_test = 0.2)"
   ]
  },
  {
   "cell_type": "code",
   "execution_count": 43,
   "metadata": {},
   "outputs": [
    {
     "name": "stdout",
     "output_type": "stream",
     "text": [
      "10000000/ 28718087\n",
      "20000000/ 28718087\n",
      "end of file \n",
      "3000\n",
      "352805\n",
      "done\n"
     ]
    }
   ],
   "source": [
    "a_u_tuple = user_events_file_to_lil_matrix()\n",
    "a_u_matrix = a_u_tuple[0] #artist/user matrix\n",
    "back_to_user_id = a_u_tuple[3] #dictionary to convert smaller user ids to original\n",
    "back_to_artist_id = a_u_tuple[4]# same above but for artists\n",
    "print(\"done\")"
   ]
  },
  {
   "cell_type": "code",
   "execution_count": 44,
   "metadata": {},
   "outputs": [
    {
     "name": "stdout",
     "output_type": "stream",
     "text": [
      "done\n"
     ]
    }
   ],
   "source": [
    "u_to_a_train, u_to_a_test, altered_users = make_train(a_u_matrix.T.tocsr(), pct_test=0.2) #makes training/test set\n",
    "print(\"done\")"
   ]
  },
  {
   "cell_type": "markdown",
   "metadata": {},
   "source": [
    "### Training the Algorithm"
   ]
  },
  {
   "cell_type": "code",
   "execution_count": 45,
   "metadata": {},
   "outputs": [
    {
     "name": "stderr",
     "output_type": "stream",
     "text": [
      "[15:35:08-140421]  This method is deprecated. Please use the AlternatingLeastSquares class instead\n",
      "[15:35:08-140421]  GPU training requires factor size to be a multiple of 32. Increasing factors from 50 to 64.\n",
      "[15:35:08-140421]  OpenBLAS detected. Its highly recommend to set the environment variable 'export OPENBLAS_NUM_THREADS=1' to disable its internal multithreading\n"
     ]
    },
    {
     "data": {
      "application/vnd.jupyter.widget-view+json": {
       "model_id": "f2ddc14c626a4a4a83cfce88a9310fb1",
       "version_major": 2,
       "version_minor": 0
      },
      "text/plain": [
       "  0%|          | 0/50 [00:00<?, ?it/s]"
      ]
     },
     "metadata": {},
     "output_type": "display_data"
    },
    {
     "name": "stdout",
     "output_type": "stream",
     "text": [
      "done\n"
     ]
    }
   ],
   "source": [
    "# split original matrix into user vector and artist vector through ALS\n",
    "user_vecs, artists_vecs = implicit.alternating_least_squares((u_to_a_train).astype('double'),iterations=50, factors=50)\n",
    "print(\"done\")"
   ]
  },
  {
   "cell_type": "code",
   "execution_count": 46,
   "metadata": {},
   "outputs": [
    {
     "name": "stdout",
     "output_type": "stream",
     "text": [
      "[0.7734145  0.9261155  0.50536424 0.83280516 0.9921204  0.84349346\n",
      " 0.86699915 0.72439003 0.8522642  0.24458975]\n"
     ]
    }
   ],
   "source": [
    "print(np.array(user_vecs[0,:].dot(artists_vecs.T))[:10]) # gets first 5 recommendations"
   ]
  },
  {
   "cell_type": "markdown",
   "metadata": {},
   "source": [
    "### Get Top N Recommendations"
   ]
  },
  {
   "cell_type": "code",
   "execution_count": 47,
   "metadata": {},
   "outputs": [],
   "source": [
    "def get_top_artists_implicit(user_vecs, artists_vecs, mf_train, back_to_user_id,back_to_artist_id, num=10):\n",
    "    \"\"\"Return the top-N recommendation for each user from a set of predictions.\n",
    "\n",
    "    Args:\n",
    "        user_vecs: the feature vector for users\n",
    "        mf_train: training matrix\n",
    "        artists_vecs: the feature vector for artists\n",
    "        back_to_user_id: dictionary to convert back to original user id\n",
    "        back_to_artist_id: dictionary to convert back to original artist id\n",
    "        n(int): The number of recommendation to output for each user. Default\n",
    "            is 10.\n",
    "\n",
    "    Returns:\n",
    "    A dict where keys are user (raw) ids and values are lists of tuples:\n",
    "        [(raw item id), ...] of size n.\n",
    "    \"\"\"\n",
    "    top_artists_dict = defaultdict(list)\n",
    "        # creating dictionary where user id is the key, and the val is a list of tuples of the artist id and \n",
    "        # the rating it thinks the user would give it\n",
    "        \n",
    "    for user_id in range(len(user_vecs)):\n",
    "        \n",
    "        pref_vec = mf_train[user_id,:].toarray() # Get the ratings from the training set ratings matrix\n",
    "        pref_vec = pref_vec.reshape(-1)\n",
    "        pref_vec =  pref_vec + 1 # Add 1 to everything, so that artists not listened to yet are equal to 1\n",
    "        pref_vec[pref_vec > 1] = 0 # Make everything already purchased zero\n",
    "        \n",
    "        rec_vector = user_vecs[user_id,:].dot(artists_vecs.T) # Get dot product of user vector and all artist vectors\n",
    "        # Scale this recommendation vector between 0 and 1\n",
    "        \n",
    "        min_max = MinMaxScaler()\n",
    "        rec_vector_scaled = min_max.fit_transform(rec_vector.reshape(-1,1))[:,0] \n",
    "        recommend_vector = pref_vec*rec_vector_scaled \n",
    "        # Items already purchased have their recommendation multiplied by zero\n",
    "        \n",
    "        product_idx = np.argsort(recommend_vector)[::-1][:num] # Sort the indices of the items into order \n",
    "        # of best recommendations\n",
    "        rec_list = [] # start empty list to store items\n",
    "        actual_user_id = back_to_user_id[user_id]\n",
    "        #print(actual_user_id)\n",
    "        \n",
    "        for index in product_idx:\n",
    "            actual_artist_id = back_to_artist_id[index]\n",
    "            rec_list.append(actual_artist_id)\n",
    "            \n",
    "        top_artists_dict[actual_user_id] = rec_list\n",
    "    print(\"done\")\n",
    "    return top_artists_dict\n",
    "    \n",
    "    "
   ]
  },
  {
   "cell_type": "code",
   "execution_count": 48,
   "metadata": {},
   "outputs": [
    {
     "name": "stdout",
     "output_type": "stream",
     "text": [
      "done\n",
      "done\n"
     ]
    }
   ],
   "source": [
    "implixit_top_n = get_top_artists_implicit(user_vecs, artists_vecs, u_to_a_train,back_to_user_id, back_to_artist_id,num = 10) \n",
    "#gets top n artists for all the users in the dataset\n",
    "print(\"done\")"
   ]
  },
  {
   "cell_type": "code",
   "execution_count": 49,
   "metadata": {},
   "outputs": [
    {
     "name": "stdout",
     "output_type": "stream",
     "text": [
      "[2908, 15483, 6443, 43, 2836, 1998, 93, 3103, 6236, 2562]\n"
     ]
    }
   ],
   "source": [
    "print(implicit_top_n[6532902]) #testing out getting top recommendations for a user"
   ]
  },
  {
   "cell_type": "code",
   "execution_count": 50,
   "metadata": {},
   "outputs": [
    {
     "name": "stdout",
     "output_type": "stream",
     "text": [
      "180\n"
     ]
    }
   ],
   "source": [
    "print(artist_dist[6443]) #getting popularity of artist by indexing by id"
   ]
  },
  {
   "cell_type": "markdown",
   "metadata": {},
   "source": [
    "### Calculating GAPr and Delta GAP for ALS"
   ]
  },
  {
   "cell_type": "code",
   "execution_count": 52,
   "metadata": {},
   "outputs": [
    {
     "name": "stdout",
     "output_type": "stream",
     "text": [
      "done\n"
     ]
    }
   ],
   "source": [
    "# Train and test the four algorithms on our data set\n",
    "low_gap_r_list = []\n",
    "medium_gap_r_list = []\n",
    "high_gap_r_list = []\n",
    "total_gap_r_list= []\n",
    "#keeps track of the GAPr of each of the algs\n",
    "\n",
    "alg_recommendations = [] #Keeps track of how many times each artist was recommended\n",
    "\n",
    "#Will put for loop here with training, but for now we already have predictions\n",
    "    \n",
    "num_times_recommended = pd.DataFrame(artist_dist)\n",
    "num_times_recommended.columns = ['Recommendation Frequency']\n",
    "num_times_recommended['Recommendation Frequency'] = 0 #resets for each algorithm\n",
    "    \n",
    "    \n",
    "# resets to 0 before calculating for new alg\n",
    "low_gap_r = 0\n",
    "medium_gap_r = 0\n",
    "high_gap_r = 0\n",
    "    \n",
    "#keeps track of group size since it is unpredictable since the test set is selected randomly\n",
    "num_low_users = 0\n",
    "num_medium_users = 0\n",
    "num_high_users = 0\n",
    "    \n",
    "#keeps track of the mean absolute error of the current alg\n",
    "low_mae = 0\n",
    "medium_mae = 0\n",
    "high_mae = 0\n",
    "top_artists = implicit_top_n #Gets the top N recommendations for each user\n",
    "    \n",
    "\n",
    "for user_id, ratings in top_artists.items():\n",
    "    artist_id_list = [] #user profile size to compute top fraction in GAPr\n",
    "    for artist_id in ratings:\n",
    "            \n",
    "        artist_id_list.append(artist_id)\n",
    "        num_times_recommended.loc[artist_id] += 1 #increments the number of times the artist was recommended\n",
    "\n",
    "    gap = sum(artist_dist[artist_id_list]/ num_users) / len(artist_id_list) #fraction in numerator for GAPr\n",
    "    #print(\"gap:\" ,gap)\n",
    "    if user_id in low_users.index: #summation of all of the top fractions to compute numerator for GAPr\n",
    "        low_gap_r += gap\n",
    "        num_low_users += 1 #increments group size to get the denominator to compute GAPr\n",
    "\n",
    "    elif user_id in medium_users.index:\n",
    "        medium_gap_r += gap\n",
    "        num_medium_users += 1\n",
    "\n",
    "    elif user_id in high_users.index:\n",
    "        high_gap_r += gap\n",
    "        num_high_users += 1\n",
    "alg_recommendations.append(num_times_recommended)\n",
    "            \n",
    "total_gap_r = (low_gap_r + medium_gap_r + high_gap_r) / (num_low_users + num_medium_users + num_high_users)\n",
    "low_gap_r = low_gap_r / num_low_users #Computing GAPr for each group size for each algorithm\n",
    "medium_gap_r = medium_gap_r / num_medium_users\n",
    "high_gap_r = high_gap_r / num_high_users\n",
    "\n",
    "total_gap_r_list.append(total_gap_r)\n",
    "low_gap_r_list.append(low_gap_r)\n",
    "medium_gap_r_list.append(medium_gap_r)\n",
    "high_gap_r_list.append(high_gap_r)\n",
    "\n",
    "print(\"done\")"
   ]
  },
  {
   "cell_type": "code",
   "execution_count": 53,
   "metadata": {},
   "outputs": [
    {
     "name": "stdout",
     "output_type": "stream",
     "text": [
      "1.5132151940425258\n",
      "1.7332807395549104\n",
      "1.7789633524148147\n",
      "1.6850323399738416\n"
     ]
    }
   ],
   "source": [
    "#Computes change in GAP for each RecSys alg\n",
    "delta_gap_low_list = []\n",
    "delta_gap_medium_list = []\n",
    "delta_gap_high_list = []\n",
    "delta_gap_total_list = []\n",
    "\n",
    "for i in range(len(low_gap_r_list)):\n",
    "    delta_gap_low = ((low_gap_r_list[i] - low_gap_p) / low_gap_p)\n",
    "    delta_gap_medium = ((medium_gap_r_list[i] - medium_gap_p) / medium_gap_p)\n",
    "    delta_gap_high = ((high_gap_r_list[i] - high_gap_p) / high_gap_p)\n",
    "    delta_gap_total = ((total_gap_r_list[i] - total_gap_p) / total_gap_p)\n",
    "    \n",
    "    delta_gap_low_list.append(delta_gap_low)\n",
    "    delta_gap_medium_list.append(delta_gap_medium)\n",
    "    delta_gap_high_list.append(delta_gap_high)\n",
    "    delta_gap_total_list.append(delta_gap_total)\n",
    "    \n",
    "print(delta_gap_low_list[0])\n",
    "\n",
    "print(delta_gap_medium_list[0])\n",
    "\n",
    "print(delta_gap_high_list[0])\n",
    "\n",
    "print(delta_gap_total_list[0])\n"
   ]
  },
  {
   "cell_type": "markdown",
   "metadata": {},
   "source": [
    "### Calculating AUC for ALS"
   ]
  },
  {
   "cell_type": "code",
   "execution_count": null,
   "metadata": {},
   "outputs": [],
   "source": [
    "def auc_score(predictions, test):\n",
    "    '''\n",
    "    This simple function will output the area under the curve using sklearn's metrics.\n",
    "\n",
    "    parameters:\n",
    "\n",
    "    - predictions: your prediction output\n",
    "\n",
    "    - test: the actual target result you are comparing to\n",
    "\n",
    "    returns:\n",
    "\n",
    "    - AUC (area under the Receiver Operating Characterisic curve)\n",
    "    '''\n",
    "    # shuffle list of predictions (shuffle function)\n",
    "    # shuffling dissassociates link to artist - > roc of .5 (random)\n",
    "    fpr, tpr, thresholds = metrics.roc_curve(test, predictions)\n",
    "    return metrics.auc(fpr, tpr)"
   ]
  },
  {
   "cell_type": "code",
   "execution_count": null,
   "metadata": {},
   "outputs": [],
   "source": [
    "def calc_mean_auc(training_set, altered_users, predictions, test_set):\n",
    "    '''\n",
    "    This function will calculate the mean AUC by user for any user that had their user-item matrix altered.\n",
    "\n",
    "    parameters:\n",
    "\n",
    "    training_set - The training set resulting from make_train, where a certain percentage of the original\n",
    "    user/item interactions are reset to zero to hide them from the model\n",
    "\n",
    "    predictions - The matrix of your predicted ratings for each user/item pair as output from the implicit MF.\n",
    "    These should be stored in a list, with user vectors as item zero and item vectors as item one.\n",
    "\n",
    "    altered_users - The indices of the users where at least one user/item pair was altered from make_train function\n",
    "\n",
    "    test_set - The test set constucted earlier from make_train function\n",
    "\n",
    "    returns:\n",
    "\n",
    "    The mean AUC (area under the Receiver Operator Characteristic curve) of the test set only on user-item interactions\n",
    "    there were originally zero to test ranking ability in addition to the most popular items as a benchmark.\n",
    "    '''\n",
    "\n",
    "    store_auc = []  # An empty list to store the AUC for each user that had an item removed from the training set\n",
    "    popularity_auc = []  # To store popular AUC scores\n",
    "    pop_items = np.array(test_set.sum(axis=0)).reshape(-1)  # Get sum of item iteractions to find most popular\n",
    "    item_vecs = predictions[1]\n",
    "    for user in altered_users:  # Iterate through each user that had an item altered\n",
    "        training_row = training_set[user, :].toarray().reshape(-1)  # Get the training set row\n",
    "        zero_inds = np.where(training_row == 0)  # Find where the interaction had not yet occurred\n",
    "        # Get the predicted values based on our user/item vectors\n",
    "        user_vec = predictions[0][user, :]\n",
    "        pred = user_vec.dot(item_vecs).toarray()[0, zero_inds].reshape(-1)\n",
    "        # Get only the items that were originally zero\n",
    "        # Select all ratings from the MF prediction for this user that originally had no iteraction\n",
    "        actual = test_set[user, :].toarray()[0, zero_inds].reshape(-1)\n",
    "        # Select the binarized yes/no interaction pairs from the original full data\n",
    "        # that align with the same pairs in training\n",
    "        pop = pop_items[zero_inds]  # Get the item popularity for our chosen items\n",
    "        curr_auc_score = auc_score(pred, actual)\n",
    "        store_auc.append(curr_auc_score)  # Calculate AUC for the given user and store\n",
    "        curr_pop_score = auc_score(pop, actual)\n",
    "        popularity_auc.append(curr_pop_score)  # Calculate AUC using most popular and score\n",
    "        # print(user, \"\\t\", curr_auc_score , \"\\t\", curr_pop_score)\n",
    "    # End users iteration\n",
    "\n",
    "    return float('%.3f' % np.mean(store_auc)), float('%.3f' % np.mean(popularity_auc))\n",
    "    # Return the mean AUC rounded to three decimal places for both test and popularity benchmark\n"
   ]
  },
  {
   "cell_type": "code",
   "execution_count": null,
   "metadata": {},
   "outputs": [],
   "source": [
    "rec_auc, pop_auc = calc_mean_auc(u_to_a_train, altered_users,[sparse.csr_matrix(user_vecs), sparse.csr_matrix(artists_vecs.T)],\n",
    "                                             u_to_a_test)\n",
    "print(rec_auc)\n",
    "print(pop_auc)"
   ]
  },
  {
   "cell_type": "markdown",
   "metadata": {},
   "source": [
    "# Rectorch Training"
   ]
  },
  {
   "cell_type": "markdown",
   "metadata": {},
   "source": [
    "### Setting Up The Data"
   ]
  },
  {
   "cell_type": "code",
   "execution_count": 14,
   "metadata": {},
   "outputs": [
    {
     "name": "stdout",
     "output_type": "stream",
     "text": [
      "done\n"
     ]
    }
   ],
   "source": [
    "data_events = df_events.copy(deep=True)\n",
    "data_events.to_csv('data_events.csv',index=False,header=False )\n",
    "print(\"done\")"
   ]
  },
  {
   "cell_type": "code",
   "execution_count": 15,
   "metadata": {},
   "outputs": [],
   "source": [
    "cfg_data_test = {\n",
    "    \"processing\": {\n",
    "        \"data_path\": \"data_events.csv\",\n",
    "        \"threshold\": 0,\n",
    "        \"separator\": \",\",\n",
    "        \"header\": None,\n",
    "        \"u_min\": 50,\n",
    "        \"i_min\": 50\n",
    "    },\n",
    "    \"splitting\": {\n",
    "        \"split_type\": \"horizontal\",\n",
    "        \"sort_by\": None,\n",
    "        \"seed\": 98765,\n",
    "        \"shuffle\": True,\n",
    "        \"valid_size\": 0.1,\n",
    "        \"test_size\": 0.1,\n",
    "        \"test_prop\": 0.2\n",
    "    }\n",
    "}\n",
    "\n",
    "cfg_data_full = {\n",
    "    \"processing\": {\n",
    "        \"data_path\": \"data_events.csv\",\n",
    "        \"threshold\": 0,\n",
    "        \"separator\": \",\",\n",
    "        \"header\": None,\n",
    "        \"u_min\": 0,\n",
    "        \"i_min\": 0\n",
    "    },\n",
    "    \"splitting\": {\n",
    "        \"split_type\": \"horizontal\",\n",
    "        \"sort_by\": None,\n",
    "        \"seed\": 98765,\n",
    "        \"shuffle\": True,\n",
    "        \"valid_size\": 0.1,\n",
    "        \"test_size\": 0.1,\n",
    "        \"test_prop\": 0.2\n",
    "    }\n",
    "}"
   ]
  },
  {
   "cell_type": "code",
   "execution_count": 16,
   "metadata": {},
   "outputs": [
    {
     "name": "stderr",
     "output_type": "stream",
     "text": [
      "[16:27:27-140421]  Reading raw data file data_events.csv.\n",
      "[16:27:33-140421]  Applying filtering.\n",
      "[16:27:33-140421]  Filtered 988317 ratings.\n",
      "[16:27:33-140421]  Shuffling data.\n",
      "[16:27:34-140421]  Creating training, validation and test set.\n"
     ]
    },
    {
     "data": {
      "text/plain": [
       "Dataset(n_users=2804, n_items=5131, n_ratings=767044)"
      ]
     },
     "execution_count": 16,
     "metadata": {},
     "output_type": "execute_result"
    }
   ],
   "source": [
    "dataset = DataProcessing(cfg_data_test).process_and_split()\n",
    "dataset"
   ]
  },
  {
   "cell_type": "code",
   "execution_count": 17,
   "metadata": {},
   "outputs": [],
   "source": [
    "sparse_sampler = SparseDummySampler(dataset, mode=\"train\")"
   ]
  },
  {
   "cell_type": "markdown",
   "metadata": {},
   "source": [
    "### Grid Search on SLIM"
   ]
  },
  {
   "cell_type": "code",
   "execution_count": 46,
   "metadata": {},
   "outputs": [
    {
     "name": "stderr",
     "output_type": "stream",
     "text": [
      "[12:19:59-090421]  | item 513/5131 | ms/user 14.73 |\n",
      "[12:20:06-090421]  | item 1026/5131 | ms/user 14.50 |\n",
      "[12:20:13-090421]  | item 1539/5131 | ms/user 14.36 |\n",
      "[12:20:21-090421]  | item 2052/5131 | ms/user 13.94 |\n",
      "[12:20:28-090421]  | item 2565/5131 | ms/user 13.64 |\n",
      "[12:20:35-090421]  | item 3078/5131 | ms/user 13.65 |\n",
      "[12:20:41-090421]  | item 3591/5131 | ms/user 13.53 |\n",
      "[12:20:48-090421]  | item 4104/5131 | ms/user 13.41 |\n",
      "[12:20:55-090421]  | item 4617/5131 | ms/user 13.35 |\n",
      "[12:21:02-090421]  | item 5130/5131 | ms/user 13.19 |\n",
      "[12:21:02-090421]  | training complete | total training time 71.00 s |\n",
      "/home/jimi/music_fairness/music_fairness/lib/python3.6/site-packages/rectorch/metrics.py:245: RuntimeWarning: invalid value encountered in multiply\n",
      "  num = pred_scores * ground_truth\n"
     ]
    },
    {
     "name": "stdout",
     "output_type": "stream",
     "text": [
      "{'ap@5000': (0.12851225090805365, 0.0801624333389584)}\n",
      "0.12851225090805365\n"
     ]
    },
    {
     "name": "stderr",
     "output_type": "stream",
     "text": [
      "[12:21:13-090421]  | item 513/5131 | ms/user 14.72 |\n",
      "[12:21:20-090421]  | item 1026/5131 | ms/user 14.43 |\n",
      "[12:21:27-090421]  | item 1539/5131 | ms/user 14.14 |\n",
      "[12:21:34-090421]  | item 2052/5131 | ms/user 13.84 |\n",
      "[12:21:41-090421]  | item 2565/5131 | ms/user 13.51 |\n",
      "[12:21:48-090421]  | item 3078/5131 | ms/user 13.60 |\n",
      "[12:21:55-090421]  | item 3591/5131 | ms/user 13.26 |\n",
      "[12:22:02-090421]  | item 4104/5131 | ms/user 13.17 |\n",
      "[12:22:09-090421]  | item 4617/5131 | ms/user 13.27 |\n",
      "[12:22:15-090421]  | item 5130/5131 | ms/user 13.12 |\n",
      "[12:22:16-090421]  | training complete | total training time 70.37 s |\n",
      "/home/jimi/music_fairness/music_fairness/lib/python3.6/site-packages/rectorch/metrics.py:245: RuntimeWarning: invalid value encountered in multiply\n",
      "  num = pred_scores * ground_truth\n"
     ]
    },
    {
     "name": "stdout",
     "output_type": "stream",
     "text": [
      "{'ap@5000': (0.12882273749332865, 0.0800273683108513)}\n",
      "0.12882273749332865\n"
     ]
    },
    {
     "name": "stderr",
     "output_type": "stream",
     "text": [
      "[12:22:26-090421]  | item 513/5131 | ms/user 14.73 |\n",
      "[12:22:33-090421]  | item 1026/5131 | ms/user 14.39 |\n",
      "[12:22:41-090421]  | item 1539/5131 | ms/user 13.81 |\n",
      "[12:22:48-090421]  | item 2052/5131 | ms/user 13.52 |\n",
      "[12:22:54-090421]  | item 2565/5131 | ms/user 13.16 |\n",
      "[12:23:01-090421]  | item 3078/5131 | ms/user 13.21 |\n",
      "[12:23:08-090421]  | item 3591/5131 | ms/user 13.06 |\n",
      "[12:23:14-090421]  | item 4104/5131 | ms/user 12.91 |\n",
      "[12:23:21-090421]  | item 4617/5131 | ms/user 12.96 |\n",
      "[12:23:28-090421]  | item 5130/5131 | ms/user 12.73 |\n",
      "[12:23:28-090421]  | training complete | total training time 69.05 s |\n",
      "/home/jimi/music_fairness/music_fairness/lib/python3.6/site-packages/rectorch/metrics.py:245: RuntimeWarning: invalid value encountered in multiply\n",
      "  num = pred_scores * ground_truth\n"
     ]
    },
    {
     "name": "stdout",
     "output_type": "stream",
     "text": [
      "{'ap@5000': (0.1298847378187582, 0.08035649950853102)}\n",
      "0.1298847378187582\n"
     ]
    },
    {
     "name": "stderr",
     "output_type": "stream",
     "text": [
      "[12:23:38-090421]  | item 513/5131 | ms/user 14.35 |\n",
      "[12:23:45-090421]  | item 1026/5131 | ms/user 14.01 |\n",
      "[12:23:52-090421]  | item 1539/5131 | ms/user 13.75 |\n",
      "[12:23:59-090421]  | item 2052/5131 | ms/user 13.57 |\n",
      "[12:24:06-090421]  | item 2565/5131 | ms/user 13.25 |\n",
      "[12:24:13-090421]  | item 3078/5131 | ms/user 13.28 |\n",
      "[12:24:19-090421]  | item 3591/5131 | ms/user 12.91 |\n",
      "[12:24:26-090421]  | item 4104/5131 | ms/user 12.77 |\n",
      "[12:24:33-090421]  | item 4617/5131 | ms/user 12.80 |\n",
      "[12:24:39-090421]  | item 5130/5131 | ms/user 12.50 |\n",
      "[12:24:39-090421]  | training complete | total training time 68.39 s |\n",
      "/home/jimi/music_fairness/music_fairness/lib/python3.6/site-packages/rectorch/metrics.py:245: RuntimeWarning: invalid value encountered in multiply\n",
      "  num = pred_scores * ground_truth\n"
     ]
    },
    {
     "name": "stdout",
     "output_type": "stream",
     "text": [
      "{'ap@5000': (0.1323847403163994, 0.08073806453447546)}\n",
      "0.1323847403163994\n"
     ]
    },
    {
     "name": "stderr",
     "output_type": "stream",
     "text": [
      "[12:24:49-090421]  | item 513/5131 | ms/user 13.79 |\n",
      "[12:24:56-090421]  | item 1026/5131 | ms/user 13.43 |\n",
      "[12:25:03-090421]  | item 1539/5131 | ms/user 13.21 |\n",
      "[12:25:09-090421]  | item 2052/5131 | ms/user 12.98 |\n",
      "[12:25:16-090421]  | item 2565/5131 | ms/user 12.70 |\n",
      "[12:25:22-090421]  | item 3078/5131 | ms/user 12.68 |\n",
      "[12:25:29-090421]  | item 3591/5131 | ms/user 12.59 |\n",
      "[12:25:35-090421]  | item 4104/5131 | ms/user 12.36 |\n",
      "[12:25:42-090421]  | item 4617/5131 | ms/user 12.27 |\n",
      "[12:25:48-090421]  | item 5130/5131 | ms/user 12.24 |\n",
      "[12:25:48-090421]  | training complete | total training time 65.84 s |\n",
      "/home/jimi/music_fairness/music_fairness/lib/python3.6/site-packages/rectorch/metrics.py:245: RuntimeWarning: invalid value encountered in multiply\n",
      "  num = pred_scores * ground_truth\n"
     ]
    },
    {
     "name": "stdout",
     "output_type": "stream",
     "text": [
      "{'ap@5000': (0.13731051770578215, 0.08214806521738265)}\n",
      "0.13731051770578215\n"
     ]
    },
    {
     "name": "stderr",
     "output_type": "stream",
     "text": [
      "[12:25:58-090421]  | item 513/5131 | ms/user 13.77 |\n",
      "[12:26:05-090421]  | item 1026/5131 | ms/user 13.45 |\n",
      "[12:26:12-090421]  | item 1539/5131 | ms/user 13.35 |\n",
      "[12:26:19-090421]  | item 2052/5131 | ms/user 13.14 |\n",
      "[12:26:25-090421]  | item 2565/5131 | ms/user 12.88 |\n",
      "[12:26:32-090421]  | item 3078/5131 | ms/user 12.78 |\n",
      "[12:26:38-090421]  | item 3591/5131 | ms/user 12.56 |\n",
      "[12:26:45-090421]  | item 4104/5131 | ms/user 12.47 |\n",
      "[12:26:51-090421]  | item 4617/5131 | ms/user 12.37 |\n",
      "[12:26:57-090421]  | item 5130/5131 | ms/user 12.03 |\n",
      "[12:26:57-090421]  | training complete | total training time 66.13 s |\n",
      "/home/jimi/music_fairness/music_fairness/lib/python3.6/site-packages/rectorch/metrics.py:245: RuntimeWarning: invalid value encountered in multiply\n",
      "  num = pred_scores * ground_truth\n"
     ]
    },
    {
     "name": "stdout",
     "output_type": "stream",
     "text": [
      "{'ap@5000': (0.14098560223339726, 0.08232541868800651)}\n",
      "0.14098560223339726\n"
     ]
    },
    {
     "name": "stderr",
     "output_type": "stream",
     "text": [
      "[12:27:08-090421]  | item 513/5131 | ms/user 14.85 |\n",
      "[12:27:16-090421]  | item 1026/5131 | ms/user 14.35 |\n",
      "[12:27:23-090421]  | item 1539/5131 | ms/user 14.04 |\n",
      "[12:27:30-090421]  | item 2052/5131 | ms/user 13.78 |\n",
      "[12:27:37-090421]  | item 2565/5131 | ms/user 13.16 |\n",
      "[12:27:44-090421]  | item 3078/5131 | ms/user 13.18 |\n",
      "[12:27:50-090421]  | item 3591/5131 | ms/user 13.05 |\n",
      "[12:27:57-090421]  | item 4104/5131 | ms/user 12.79 |\n",
      "[12:28:03-090421]  | item 4617/5131 | ms/user 12.60 |\n",
      "[12:28:10-090421]  | item 5130/5131 | ms/user 12.36 |\n",
      "[12:28:10-090421]  | training complete | total training time 68.89 s |\n",
      "/home/jimi/music_fairness/music_fairness/lib/python3.6/site-packages/rectorch/metrics.py:245: RuntimeWarning: invalid value encountered in multiply\n",
      "  num = pred_scores * ground_truth\n"
     ]
    },
    {
     "name": "stdout",
     "output_type": "stream",
     "text": [
      "{'ap@5000': (0.13895126545488126, 0.08100697349312087)}\n",
      "0.13895126545488126\n"
     ]
    },
    {
     "name": "stderr",
     "output_type": "stream",
     "text": [
      "[12:28:22-090421]  | item 513/5131 | ms/user 16.19 |\n",
      "[12:28:30-090421]  | item 1026/5131 | ms/user 15.53 |\n",
      "[12:28:38-090421]  | item 1539/5131 | ms/user 15.17 |\n",
      "[12:28:45-090421]  | item 2052/5131 | ms/user 15.08 |\n",
      "[12:28:53-090421]  | item 2565/5131 | ms/user 14.52 |\n",
      "[12:29:00-090421]  | item 3078/5131 | ms/user 14.27 |\n",
      "[12:29:07-090421]  | item 3591/5131 | ms/user 14.10 |\n",
      "[12:29:14-090421]  | item 4104/5131 | ms/user 13.70 |\n",
      "[12:29:21-090421]  | item 4617/5131 | ms/user 13.30 |\n",
      "[12:29:28-090421]  | item 5130/5131 | ms/user 13.08 |\n",
      "[12:29:28-090421]  | training complete | total training time 74.44 s |\n",
      "/home/jimi/music_fairness/music_fairness/lib/python3.6/site-packages/rectorch/metrics.py:245: RuntimeWarning: invalid value encountered in multiply\n",
      "  num = pred_scores * ground_truth\n"
     ]
    },
    {
     "name": "stdout",
     "output_type": "stream",
     "text": [
      "{'ap@5000': (0.1306207639081934, 0.07857607025407029)}\n",
      "0.1306207639081934\n"
     ]
    },
    {
     "name": "stderr",
     "output_type": "stream",
     "text": [
      "[12:29:40-090421]  | item 513/5131 | ms/user 14.22 |\n",
      "[12:29:47-090421]  | item 1026/5131 | ms/user 13.89 |\n",
      "[12:29:54-090421]  | item 1539/5131 | ms/user 13.68 |\n",
      "[12:30:01-090421]  | item 2052/5131 | ms/user 13.47 |\n",
      "[12:30:08-090421]  | item 2565/5131 | ms/user 13.12 |\n",
      "[12:30:14-090421]  | item 3078/5131 | ms/user 13.15 |\n",
      "[12:30:21-090421]  | item 3591/5131 | ms/user 13.03 |\n",
      "[12:30:28-090421]  | item 4104/5131 | ms/user 12.86 |\n",
      "[12:30:34-090421]  | item 4617/5131 | ms/user 12.89 |\n",
      "[12:30:41-090421]  | item 5130/5131 | ms/user 12.80 |\n",
      "[12:30:41-090421]  | training complete | total training time 68.35 s |\n",
      "/home/jimi/music_fairness/music_fairness/lib/python3.6/site-packages/rectorch/metrics.py:245: RuntimeWarning: invalid value encountered in multiply\n",
      "  num = pred_scores * ground_truth\n"
     ]
    },
    {
     "name": "stdout",
     "output_type": "stream",
     "text": [
      "{'ap@5000': (0.13091648107659634, 0.0807727375482733)}\n",
      "0.13091648107659634\n"
     ]
    },
    {
     "name": "stderr",
     "output_type": "stream",
     "text": [
      "[12:30:51-090421]  | item 513/5131 | ms/user 14.49 |\n",
      "[12:30:58-090421]  | item 1026/5131 | ms/user 14.14 |\n",
      "[12:31:06-090421]  | item 1539/5131 | ms/user 13.92 |\n",
      "[12:31:13-090421]  | item 2052/5131 | ms/user 13.72 |\n",
      "[12:31:20-090421]  | item 2565/5131 | ms/user 13.39 |\n",
      "[12:31:26-090421]  | item 3078/5131 | ms/user 13.33 |\n",
      "[12:31:33-090421]  | item 3591/5131 | ms/user 13.23 |\n",
      "[12:31:40-090421]  | item 4104/5131 | ms/user 13.10 |\n",
      "[12:31:47-090421]  | item 4617/5131 | ms/user 12.99 |\n",
      "[12:31:53-090421]  | item 5130/5131 | ms/user 12.87 |\n",
      "[12:31:53-090421]  | training complete | total training time 69.40 s |\n",
      "/home/jimi/music_fairness/music_fairness/lib/python3.6/site-packages/rectorch/metrics.py:245: RuntimeWarning: invalid value encountered in multiply\n",
      "  num = pred_scores * ground_truth\n"
     ]
    },
    {
     "name": "stdout",
     "output_type": "stream",
     "text": [
      "{'ap@5000': (0.13111136224822686, 0.080755475550111)}\n",
      "0.13111136224822686\n"
     ]
    },
    {
     "name": "stderr",
     "output_type": "stream",
     "text": [
      "[12:32:03-090421]  | item 513/5131 | ms/user 14.23 |\n",
      "[12:32:10-090421]  | item 1026/5131 | ms/user 13.90 |\n",
      "[12:32:18-090421]  | item 1539/5131 | ms/user 13.80 |\n",
      "[12:32:24-090421]  | item 2052/5131 | ms/user 13.48 |\n",
      "[12:32:31-090421]  | item 2565/5131 | ms/user 13.17 |\n",
      "[12:32:38-090421]  | item 3078/5131 | ms/user 13.17 |\n",
      "[12:32:45-090421]  | item 3591/5131 | ms/user 12.97 |\n",
      "[12:32:51-090421]  | item 4104/5131 | ms/user 12.89 |\n",
      "[12:32:58-090421]  | item 4617/5131 | ms/user 12.79 |\n",
      "[12:33:04-090421]  | item 5130/5131 | ms/user 12.76 |\n",
      "[12:33:04-090421]  | training complete | total training time 68.36 s |\n",
      "/home/jimi/music_fairness/music_fairness/lib/python3.6/site-packages/rectorch/metrics.py:245: RuntimeWarning: invalid value encountered in multiply\n",
      "  num = pred_scores * ground_truth\n"
     ]
    },
    {
     "name": "stdout",
     "output_type": "stream",
     "text": [
      "{'ap@5000': (0.13198310645974376, 0.0809295641936457)}\n",
      "0.13198310645974376\n"
     ]
    },
    {
     "name": "stderr",
     "output_type": "stream",
     "text": [
      "[12:33:15-090421]  | item 513/5131 | ms/user 14.10 |\n",
      "[12:33:22-090421]  | item 1026/5131 | ms/user 13.79 |\n",
      "[12:33:29-090421]  | item 1539/5131 | ms/user 13.56 |\n",
      "[12:33:35-090421]  | item 2052/5131 | ms/user 13.37 |\n",
      "[12:33:42-090421]  | item 2565/5131 | ms/user 13.11 |\n",
      "[12:33:49-090421]  | item 3078/5131 | ms/user 13.01 |\n",
      "[12:33:55-090421]  | item 3591/5131 | ms/user 12.80 |\n",
      "[12:34:02-090421]  | item 4104/5131 | ms/user 12.72 |\n",
      "[12:34:08-090421]  | item 4617/5131 | ms/user 12.55 |\n",
      "[12:34:15-090421]  | item 5130/5131 | ms/user 12.48 |\n",
      "[12:34:15-090421]  | training complete | total training time 67.51 s |\n",
      "/home/jimi/music_fairness/music_fairness/lib/python3.6/site-packages/rectorch/metrics.py:245: RuntimeWarning: invalid value encountered in multiply\n",
      "  num = pred_scores * ground_truth\n"
     ]
    },
    {
     "name": "stdout",
     "output_type": "stream",
     "text": [
      "{'ap@5000': (0.1342459304203584, 0.08127866152578421)}\n",
      "0.1342459304203584\n"
     ]
    },
    {
     "name": "stderr",
     "output_type": "stream",
     "text": [
      "[12:34:25-090421]  | item 513/5131 | ms/user 14.06 |\n",
      "[12:34:32-090421]  | item 1026/5131 | ms/user 13.58 |\n",
      "[12:34:39-090421]  | item 1539/5131 | ms/user 13.35 |\n",
      "[12:34:45-090421]  | item 2052/5131 | ms/user 13.08 |\n",
      "[12:34:52-090421]  | item 2565/5131 | ms/user 12.80 |\n",
      "[12:34:59-090421]  | item 3078/5131 | ms/user 12.80 |\n",
      "[12:35:05-090421]  | item 3591/5131 | ms/user 12.53 |\n",
      "[12:35:11-090421]  | item 4104/5131 | ms/user 12.41 |\n",
      "[12:35:18-090421]  | item 4617/5131 | ms/user 12.38 |\n",
      "[12:35:24-090421]  | item 5130/5131 | ms/user 12.12 |\n",
      "[12:35:24-090421]  | training complete | total training time 66.29 s |\n",
      "/home/jimi/music_fairness/music_fairness/lib/python3.6/site-packages/rectorch/metrics.py:245: RuntimeWarning: invalid value encountered in multiply\n",
      "  num = pred_scores * ground_truth\n"
     ]
    },
    {
     "name": "stdout",
     "output_type": "stream",
     "text": [
      "{'ap@5000': (0.13834157986672768, 0.08224373632744121)}\n",
      "0.13834157986672768\n"
     ]
    },
    {
     "name": "stderr",
     "output_type": "stream",
     "text": [
      "[12:35:34-090421]  | item 513/5131 | ms/user 13.46 |\n",
      "[12:35:41-090421]  | item 1026/5131 | ms/user 13.11 |\n",
      "[12:35:47-090421]  | item 1539/5131 | ms/user 13.07 |\n",
      "[12:35:54-090421]  | item 2052/5131 | ms/user 12.79 |\n",
      "[12:36:00-090421]  | item 2565/5131 | ms/user 12.45 |\n",
      "[12:36:07-090421]  | item 3078/5131 | ms/user 12.36 |\n",
      "[12:36:13-090421]  | item 3591/5131 | ms/user 12.29 |\n",
      "[12:36:19-090421]  | item 4104/5131 | ms/user 12.11 |\n",
      "[12:36:25-090421]  | item 4617/5131 | ms/user 12.01 |\n",
      "[12:36:31-090421]  | item 5130/5131 | ms/user 11.68 |\n",
      "[12:36:31-090421]  | training complete | total training time 64.35 s |\n",
      "/home/jimi/music_fairness/music_fairness/lib/python3.6/site-packages/rectorch/metrics.py:245: RuntimeWarning: invalid value encountered in multiply\n",
      "  num = pred_scores * ground_truth\n"
     ]
    },
    {
     "name": "stdout",
     "output_type": "stream",
     "text": [
      "{'ap@5000': (0.1413148602088728, 0.0823447788600624)}\n",
      "0.1413148602088728\n"
     ]
    },
    {
     "name": "stderr",
     "output_type": "stream",
     "text": [
      "[12:36:42-090421]  | item 513/5131 | ms/user 14.11 |\n",
      "[12:36:49-090421]  | item 1026/5131 | ms/user 13.51 |\n",
      "[12:36:56-090421]  | item 1539/5131 | ms/user 13.56 |\n",
      "[12:37:03-090421]  | item 2052/5131 | ms/user 13.10 |\n",
      "[12:37:09-090421]  | item 2565/5131 | ms/user 12.61 |\n",
      "[12:37:16-090421]  | item 3078/5131 | ms/user 12.56 |\n",
      "[12:37:22-090421]  | item 3591/5131 | ms/user 12.36 |\n",
      "[12:37:28-090421]  | item 4104/5131 | ms/user 12.20 |\n",
      "[12:37:34-090421]  | item 4617/5131 | ms/user 12.06 |\n",
      "[12:37:40-090421]  | item 5130/5131 | ms/user 11.81 |\n",
      "[12:37:41-090421]  | training complete | total training time 65.67 s |\n",
      "/home/jimi/music_fairness/music_fairness/lib/python3.6/site-packages/rectorch/metrics.py:245: RuntimeWarning: invalid value encountered in multiply\n",
      "  num = pred_scores * ground_truth\n"
     ]
    },
    {
     "name": "stdout",
     "output_type": "stream",
     "text": [
      "{'ap@5000': (0.13877305999913941, 0.0809913855811405)}\n",
      "0.13877305999913941\n"
     ]
    },
    {
     "name": "stderr",
     "output_type": "stream",
     "text": [
      "[12:37:53-090421]  | item 513/5131 | ms/user 16.06 |\n",
      "[12:38:00-090421]  | item 1026/5131 | ms/user 15.35 |\n",
      "[12:38:08-090421]  | item 1539/5131 | ms/user 15.35 |\n",
      "[12:38:16-090421]  | item 2052/5131 | ms/user 14.95 |\n",
      "[12:38:23-090421]  | item 2565/5131 | ms/user 14.13 |\n",
      "[12:38:30-090421]  | item 3078/5131 | ms/user 14.12 |\n",
      "[12:38:38-090421]  | item 3591/5131 | ms/user 14.08 |\n",
      "[12:38:45-090421]  | item 4104/5131 | ms/user 13.69 |\n",
      "[12:38:52-090421]  | item 4617/5131 | ms/user 13.32 |\n",
      "[12:38:58-090421]  | item 5130/5131 | ms/user 12.79 |\n",
      "[12:38:58-090421]  | training complete | total training time 73.86 s |\n",
      "/home/jimi/music_fairness/music_fairness/lib/python3.6/site-packages/rectorch/metrics.py:245: RuntimeWarning: invalid value encountered in multiply\n",
      "  num = pred_scores * ground_truth\n"
     ]
    },
    {
     "name": "stdout",
     "output_type": "stream",
     "text": [
      "{'ap@5000': (0.13034790053046727, 0.07861194066397766)}\n",
      "0.13034790053046727\n"
     ]
    },
    {
     "name": "stderr",
     "output_type": "stream",
     "text": [
      "[12:39:10-090421]  | item 513/5131 | ms/user 14.13 |\n",
      "[12:39:17-090421]  | item 1026/5131 | ms/user 13.73 |\n",
      "[12:39:24-090421]  | item 1539/5131 | ms/user 13.56 |\n",
      "[12:39:31-090421]  | item 2052/5131 | ms/user 13.32 |\n",
      "[12:39:37-090421]  | item 2565/5131 | ms/user 12.99 |\n",
      "[12:39:44-090421]  | item 3078/5131 | ms/user 12.95 |\n",
      "[12:39:50-090421]  | item 3591/5131 | ms/user 12.65 |\n",
      "[12:39:57-090421]  | item 4104/5131 | ms/user 12.63 |\n",
      "[12:40:03-090421]  | item 4617/5131 | ms/user 12.66 |\n",
      "[12:40:10-090421]  | item 5130/5131 | ms/user 12.49 |\n",
      "[12:40:10-090421]  | training complete | total training time 67.31 s |\n",
      "/home/jimi/music_fairness/music_fairness/lib/python3.6/site-packages/rectorch/metrics.py:245: RuntimeWarning: invalid value encountered in multiply\n",
      "  num = pred_scores * ground_truth\n"
     ]
    },
    {
     "name": "stdout",
     "output_type": "stream",
     "text": [
      "{'ap@5000': (0.13537905128482414, 0.08129386882060483)}\n",
      "0.13537905128482414\n"
     ]
    },
    {
     "name": "stderr",
     "output_type": "stream",
     "text": [
      "[12:40:20-090421]  | item 513/5131 | ms/user 14.08 |\n",
      "[12:40:27-090421]  | item 1026/5131 | ms/user 13.74 |\n",
      "[12:40:34-090421]  | item 1539/5131 | ms/user 13.44 |\n",
      "[12:40:41-090421]  | item 2052/5131 | ms/user 13.30 |\n",
      "[12:40:47-090421]  | item 2565/5131 | ms/user 12.91 |\n",
      "[12:40:54-090421]  | item 3078/5131 | ms/user 12.89 |\n",
      "[12:41:00-090421]  | item 3591/5131 | ms/user 12.70 |\n",
      "[12:41:07-090421]  | item 4104/5131 | ms/user 12.59 |\n",
      "[12:41:13-090421]  | item 4617/5131 | ms/user 12.59 |\n",
      "[12:41:20-090421]  | item 5130/5131 | ms/user 12.37 |\n",
      "[12:41:20-090421]  | training complete | total training time 67.06 s |\n",
      "/home/jimi/music_fairness/music_fairness/lib/python3.6/site-packages/rectorch/metrics.py:245: RuntimeWarning: invalid value encountered in multiply\n",
      "  num = pred_scores * ground_truth\n"
     ]
    },
    {
     "name": "stdout",
     "output_type": "stream",
     "text": [
      "{'ap@5000': (0.13560079694729407, 0.08137100426862193)}\n",
      "0.13560079694729407\n"
     ]
    },
    {
     "name": "stderr",
     "output_type": "stream",
     "text": [
      "[12:41:30-090421]  | item 513/5131 | ms/user 14.12 |\n",
      "[12:41:37-090421]  | item 1026/5131 | ms/user 13.92 |\n",
      "[12:41:44-090421]  | item 1539/5131 | ms/user 13.48 |\n",
      "[12:41:50-090421]  | item 2052/5131 | ms/user 13.27 |\n",
      "[12:41:57-090421]  | item 2565/5131 | ms/user 12.93 |\n",
      "[12:42:04-090421]  | item 3078/5131 | ms/user 12.89 |\n",
      "[12:42:10-090421]  | item 3591/5131 | ms/user 12.75 |\n",
      "[12:42:17-090421]  | item 4104/5131 | ms/user 12.61 |\n",
      "[12:42:23-090421]  | item 4617/5131 | ms/user 12.60 |\n",
      "[12:42:30-090421]  | item 5130/5131 | ms/user 12.41 |\n",
      "[12:42:30-090421]  | training complete | total training time 67.25 s |\n",
      "/home/jimi/music_fairness/music_fairness/lib/python3.6/site-packages/rectorch/metrics.py:245: RuntimeWarning: invalid value encountered in multiply\n",
      "  num = pred_scores * ground_truth\n"
     ]
    },
    {
     "name": "stdout",
     "output_type": "stream",
     "text": [
      "{'ap@5000': (0.136260143244536, 0.08158902895488893)}\n",
      "0.136260143244536\n"
     ]
    },
    {
     "name": "stderr",
     "output_type": "stream",
     "text": [
      "[12:42:39-090421]  | item 513/5131 | ms/user 13.78 |\n",
      "[12:42:46-090421]  | item 1026/5131 | ms/user 13.54 |\n",
      "[12:42:53-090421]  | item 1539/5131 | ms/user 13.17 |\n",
      "[12:43:00-090421]  | item 2052/5131 | ms/user 13.03 |\n",
      "[12:43:06-090421]  | item 2565/5131 | ms/user 12.62 |\n",
      "[12:43:13-090421]  | item 3078/5131 | ms/user 12.59 |\n",
      "[12:43:19-090421]  | item 3591/5131 | ms/user 12.42 |\n",
      "[12:43:25-090421]  | item 4104/5131 | ms/user 12.26 |\n",
      "[12:43:32-090421]  | item 4617/5131 | ms/user 12.17 |\n",
      "[12:43:38-090421]  | item 5130/5131 | ms/user 11.95 |\n",
      "[12:43:38-090421]  | training complete | total training time 65.47 s |\n",
      "/home/jimi/music_fairness/music_fairness/lib/python3.6/site-packages/rectorch/metrics.py:245: RuntimeWarning: invalid value encountered in multiply\n",
      "  num = pred_scores * ground_truth\n"
     ]
    },
    {
     "name": "stdout",
     "output_type": "stream",
     "text": [
      "{'ap@5000': (0.13759538807524982, 0.08198737483182451)}\n",
      "0.13759538807524982\n"
     ]
    },
    {
     "name": "stderr",
     "output_type": "stream",
     "text": [
      "[12:43:47-090421]  | item 513/5131 | ms/user 13.60 |\n",
      "[12:43:54-090421]  | item 1026/5131 | ms/user 13.29 |\n",
      "[12:44:01-090421]  | item 1539/5131 | ms/user 13.06 |\n",
      "[12:44:07-090421]  | item 2052/5131 | ms/user 12.73 |\n",
      "[12:44:14-090421]  | item 2565/5131 | ms/user 12.46 |\n",
      "[12:44:20-090421]  | item 3078/5131 | ms/user 12.46 |\n",
      "[12:44:27-090421]  | item 3591/5131 | ms/user 12.38 |\n",
      "[12:44:33-090421]  | item 4104/5131 | ms/user 12.16 |\n",
      "[12:44:39-090421]  | item 4617/5131 | ms/user 12.03 |\n",
      "[12:44:45-090421]  | item 5130/5131 | ms/user 11.77 |\n",
      "[12:44:45-090421]  | training complete | total training time 64.67 s |\n",
      "/home/jimi/music_fairness/music_fairness/lib/python3.6/site-packages/rectorch/metrics.py:245: RuntimeWarning: invalid value encountered in multiply\n",
      "  num = pred_scores * ground_truth\n"
     ]
    },
    {
     "name": "stdout",
     "output_type": "stream",
     "text": [
      "{'ap@5000': (0.13994234075821907, 0.08230686903103586)}\n",
      "0.13994234075821907\n"
     ]
    },
    {
     "name": "stderr",
     "output_type": "stream",
     "text": [
      "[12:44:55-090421]  | item 513/5131 | ms/user 13.52 |\n",
      "[12:45:02-090421]  | item 1026/5131 | ms/user 13.10 |\n",
      "[12:45:08-090421]  | item 1539/5131 | ms/user 12.98 |\n",
      "[12:45:15-090421]  | item 2052/5131 | ms/user 12.81 |\n",
      "[12:45:21-090421]  | item 2565/5131 | ms/user 12.31 |\n",
      "[12:45:27-090421]  | item 3078/5131 | ms/user 12.33 |\n",
      "[12:45:34-090421]  | item 3591/5131 | ms/user 12.10 |\n",
      "[12:45:40-090421]  | item 4104/5131 | ms/user 11.96 |\n",
      "[12:45:46-090421]  | item 4617/5131 | ms/user 11.83 |\n",
      "[12:45:52-090421]  | item 5130/5131 | ms/user 11.56 |\n",
      "[12:45:52-090421]  | training complete | total training time 63.92 s |\n",
      "/home/jimi/music_fairness/music_fairness/lib/python3.6/site-packages/rectorch/metrics.py:245: RuntimeWarning: invalid value encountered in multiply\n",
      "  num = pred_scores * ground_truth\n"
     ]
    },
    {
     "name": "stdout",
     "output_type": "stream",
     "text": [
      "{'ap@5000': (0.14052815812788977, 0.08183238542973412)}\n",
      "0.14052815812788977\n"
     ]
    },
    {
     "name": "stderr",
     "output_type": "stream",
     "text": [
      "[12:46:02-090421]  | item 513/5131 | ms/user 13.39 |\n",
      "[12:46:08-090421]  | item 1026/5131 | ms/user 12.95 |\n",
      "[12:46:15-090421]  | item 1539/5131 | ms/user 12.89 |\n",
      "[12:46:22-090421]  | item 2052/5131 | ms/user 12.74 |\n",
      "[12:46:28-090421]  | item 2565/5131 | ms/user 12.27 |\n",
      "[12:46:34-090421]  | item 3078/5131 | ms/user 12.23 |\n",
      "[12:46:40-090421]  | item 3591/5131 | ms/user 12.08 |\n",
      "[12:46:46-090421]  | item 4104/5131 | ms/user 11.74 |\n",
      "[12:46:52-090421]  | item 4617/5131 | ms/user 11.68 |\n",
      "[12:46:58-090421]  | item 5130/5131 | ms/user 11.45 |\n",
      "[12:46:58-090421]  | training complete | total training time 63.37 s |\n",
      "/home/jimi/music_fairness/music_fairness/lib/python3.6/site-packages/rectorch/metrics.py:245: RuntimeWarning: invalid value encountered in multiply\n",
      "  num = pred_scores * ground_truth\n"
     ]
    },
    {
     "name": "stdout",
     "output_type": "stream",
     "text": [
      "{'ap@5000': (0.1370983343050098, 0.08063126525328794)}\n",
      "0.1370983343050098\n"
     ]
    },
    {
     "name": "stderr",
     "output_type": "stream",
     "text": [
      "[12:47:09-090421]  | item 513/5131 | ms/user 14.65 |\n",
      "[12:47:17-090421]  | item 1026/5131 | ms/user 14.13 |\n",
      "[12:47:24-090421]  | item 1539/5131 | ms/user 14.25 |\n",
      "[12:47:31-090421]  | item 2052/5131 | ms/user 13.83 |\n",
      "[12:47:38-090421]  | item 2565/5131 | ms/user 13.25 |\n",
      "[12:47:44-090421]  | item 3078/5131 | ms/user 13.12 |\n",
      "[12:47:51-090421]  | item 3591/5131 | ms/user 12.99 |\n",
      "[12:47:58-090421]  | item 4104/5131 | ms/user 12.60 |\n",
      "[12:48:04-090421]  | item 4617/5131 | ms/user 12.30 |\n",
      "[12:48:10-090421]  | item 5130/5131 | ms/user 11.80 |\n",
      "[12:48:10-090421]  | training complete | total training time 68.25 s |\n",
      "/home/jimi/music_fairness/music_fairness/lib/python3.6/site-packages/rectorch/metrics.py:245: RuntimeWarning: invalid value encountered in multiply\n",
      "  num = pred_scores * ground_truth\n"
     ]
    },
    {
     "name": "stdout",
     "output_type": "stream",
     "text": [
      "{'ap@5000': (0.12844513621986195, 0.07805855750359657)}\n",
      "0.12844513621986195\n"
     ]
    },
    {
     "name": "stderr",
     "output_type": "stream",
     "text": [
      "[12:48:21-090421]  | item 513/5131 | ms/user 13.86 |\n",
      "[12:48:28-090421]  | item 1026/5131 | ms/user 13.45 |\n",
      "[12:48:35-090421]  | item 1539/5131 | ms/user 13.32 |\n",
      "[12:48:42-090421]  | item 2052/5131 | ms/user 12.99 |\n",
      "[12:48:48-090421]  | item 2565/5131 | ms/user 12.61 |\n",
      "[12:48:54-090421]  | item 3078/5131 | ms/user 12.59 |\n",
      "[12:49:01-090421]  | item 3591/5131 | ms/user 12.46 |\n",
      "[12:49:07-090421]  | item 4104/5131 | ms/user 12.27 |\n",
      "[12:49:13-090421]  | item 4617/5131 | ms/user 12.29 |\n",
      "[12:49:20-090421]  | item 5130/5131 | ms/user 11.98 |\n",
      "[12:49:20-090421]  | training complete | total training time 65.61 s |\n",
      "/home/jimi/music_fairness/music_fairness/lib/python3.6/site-packages/rectorch/metrics.py:245: RuntimeWarning: invalid value encountered in multiply\n",
      "  num = pred_scores * ground_truth\n"
     ]
    },
    {
     "name": "stdout",
     "output_type": "stream",
     "text": [
      "{'ap@5000': (0.1317895642666725, 0.07888871864952085)}\n",
      "0.1317895642666725\n"
     ]
    },
    {
     "name": "stderr",
     "output_type": "stream",
     "text": [
      "[12:49:29-090421]  | item 513/5131 | ms/user 13.49 |\n",
      "[12:49:36-090421]  | item 1026/5131 | ms/user 13.47 |\n",
      "[12:49:43-090421]  | item 1539/5131 | ms/user 13.08 |\n",
      "[12:49:49-090421]  | item 2052/5131 | ms/user 12.87 |\n",
      "[12:49:56-090421]  | item 2565/5131 | ms/user 12.50 |\n",
      "[12:50:02-090421]  | item 3078/5131 | ms/user 12.57 |\n",
      "[12:50:08-090421]  | item 3591/5131 | ms/user 12.33 |\n",
      "[12:50:15-090421]  | item 4104/5131 | ms/user 12.20 |\n",
      "[12:50:21-090421]  | item 4617/5131 | ms/user 12.15 |\n",
      "[12:50:27-090421]  | item 5130/5131 | ms/user 11.97 |\n",
      "[12:50:27-090421]  | training complete | total training time 65.01 s |\n",
      "/home/jimi/music_fairness/music_fairness/lib/python3.6/site-packages/rectorch/metrics.py:245: RuntimeWarning: invalid value encountered in multiply\n",
      "  num = pred_scores * ground_truth\n"
     ]
    },
    {
     "name": "stdout",
     "output_type": "stream",
     "text": [
      "{'ap@5000': (0.1317692337233854, 0.07884474316254579)}\n",
      "0.1317692337233854\n"
     ]
    },
    {
     "name": "stderr",
     "output_type": "stream",
     "text": [
      "[12:50:37-090421]  | item 513/5131 | ms/user 13.74 |\n",
      "[12:50:44-090421]  | item 1026/5131 | ms/user 13.37 |\n",
      "[12:50:50-090421]  | item 1539/5131 | ms/user 13.28 |\n",
      "[12:50:57-090421]  | item 2052/5131 | ms/user 13.13 |\n",
      "[12:51:04-090421]  | item 2565/5131 | ms/user 12.76 |\n",
      "[12:51:10-090421]  | item 3078/5131 | ms/user 12.59 |\n",
      "[12:51:17-090421]  | item 3591/5131 | ms/user 12.43 |\n",
      "[12:51:23-090421]  | item 4104/5131 | ms/user 12.27 |\n",
      "[12:51:29-090421]  | item 4617/5131 | ms/user 12.17 |\n",
      "[12:51:35-090421]  | item 5130/5131 | ms/user 12.07 |\n",
      "[12:51:35-090421]  | training complete | total training time 65.62 s |\n",
      "/home/jimi/music_fairness/music_fairness/lib/python3.6/site-packages/rectorch/metrics.py:245: RuntimeWarning: invalid value encountered in multiply\n",
      "  num = pred_scores * ground_truth\n"
     ]
    },
    {
     "name": "stdout",
     "output_type": "stream",
     "text": [
      "{'ap@5000': (0.13187089659739498, 0.07882999565499475)}\n",
      "0.13187089659739498\n"
     ]
    },
    {
     "name": "stderr",
     "output_type": "stream",
     "text": [
      "[12:51:45-090421]  | item 513/5131 | ms/user 13.67 |\n",
      "[12:51:52-090421]  | item 1026/5131 | ms/user 13.44 |\n",
      "[12:51:59-090421]  | item 1539/5131 | ms/user 13.20 |\n",
      "[12:52:05-090421]  | item 2052/5131 | ms/user 12.98 |\n",
      "[12:52:12-090421]  | item 2565/5131 | ms/user 12.64 |\n",
      "[12:52:18-090421]  | item 3078/5131 | ms/user 12.60 |\n",
      "[12:52:25-090421]  | item 3591/5131 | ms/user 12.48 |\n",
      "[12:52:31-090421]  | item 4104/5131 | ms/user 12.27 |\n",
      "[12:52:37-090421]  | item 4617/5131 | ms/user 12.19 |\n",
      "[12:52:43-090421]  | item 5130/5131 | ms/user 11.89 |\n",
      "[12:52:43-090421]  | training complete | total training time 65.38 s |\n",
      "/home/jimi/music_fairness/music_fairness/lib/python3.6/site-packages/rectorch/metrics.py:245: RuntimeWarning: invalid value encountered in multiply\n",
      "  num = pred_scores * ground_truth\n"
     ]
    },
    {
     "name": "stdout",
     "output_type": "stream",
     "text": [
      "{'ap@5000': (0.1318511213403227, 0.07888545524883614)}\n",
      "0.1318511213403227\n"
     ]
    },
    {
     "name": "stderr",
     "output_type": "stream",
     "text": [
      "[12:52:53-090421]  | item 513/5131 | ms/user 13.27 |\n",
      "[12:52:59-090421]  | item 1026/5131 | ms/user 12.95 |\n",
      "[12:53:06-090421]  | item 1539/5131 | ms/user 12.71 |\n",
      "[12:53:12-090421]  | item 2052/5131 | ms/user 12.58 |\n",
      "[12:53:18-090421]  | item 2565/5131 | ms/user 12.19 |\n",
      "[12:53:25-090421]  | item 3078/5131 | ms/user 12.25 |\n",
      "[12:53:31-090421]  | item 3591/5131 | ms/user 12.05 |\n",
      "[12:53:37-090421]  | item 4104/5131 | ms/user 11.79 |\n",
      "[12:53:43-090421]  | item 4617/5131 | ms/user 11.62 |\n",
      "[12:53:49-090421]  | item 5130/5131 | ms/user 11.29 |\n",
      "[12:53:49-090421]  | training complete | total training time 62.98 s |\n",
      "/home/jimi/music_fairness/music_fairness/lib/python3.6/site-packages/rectorch/metrics.py:245: RuntimeWarning: invalid value encountered in multiply\n",
      "  num = pred_scores * ground_truth\n"
     ]
    },
    {
     "name": "stdout",
     "output_type": "stream",
     "text": [
      "{'ap@5000': (0.13179570667055693, 0.07917788970787944)}\n",
      "0.13179570667055693\n"
     ]
    },
    {
     "name": "stderr",
     "output_type": "stream",
     "text": [
      "[12:53:58-090421]  | item 513/5131 | ms/user 13.01 |\n",
      "[12:54:05-090421]  | item 1026/5131 | ms/user 12.75 |\n",
      "[12:54:11-090421]  | item 1539/5131 | ms/user 12.73 |\n",
      "[12:54:18-090421]  | item 2052/5131 | ms/user 12.59 |\n",
      "[12:54:24-090421]  | item 2565/5131 | ms/user 12.17 |\n",
      "[12:54:30-090421]  | item 3078/5131 | ms/user 12.19 |\n",
      "[12:54:36-090421]  | item 3591/5131 | ms/user 12.04 |\n",
      "[12:54:42-090421]  | item 4104/5131 | ms/user 11.89 |\n",
      "[12:54:48-090421]  | item 4617/5131 | ms/user 11.66 |\n",
      "[12:54:54-090421]  | item 5130/5131 | ms/user 11.34 |\n",
      "[12:54:54-090421]  | training complete | total training time 62.82 s |\n",
      "/home/jimi/music_fairness/music_fairness/lib/python3.6/site-packages/rectorch/metrics.py:245: RuntimeWarning: invalid value encountered in multiply\n",
      "  num = pred_scores * ground_truth\n"
     ]
    },
    {
     "name": "stdout",
     "output_type": "stream",
     "text": [
      "{'ap@5000': (0.1307936581255456, 0.07850416553070412)}\n",
      "0.1307936581255456\n"
     ]
    },
    {
     "name": "stderr",
     "output_type": "stream",
     "text": [
      "[12:55:04-090421]  | item 513/5131 | ms/user 13.21 |\n",
      "[12:55:11-090421]  | item 1026/5131 | ms/user 12.89 |\n",
      "[12:55:17-090421]  | item 1539/5131 | ms/user 12.68 |\n",
      "[12:55:24-090421]  | item 2052/5131 | ms/user 12.61 |\n",
      "[12:55:30-090421]  | item 2565/5131 | ms/user 12.15 |\n",
      "[12:55:36-090421]  | item 3078/5131 | ms/user 12.10 |\n",
      "[12:55:42-090421]  | item 3591/5131 | ms/user 11.95 |\n",
      "[12:55:48-090421]  | item 4104/5131 | ms/user 11.82 |\n",
      "[12:55:54-090421]  | item 4617/5131 | ms/user 11.62 |\n",
      "[12:56:00-090421]  | item 5130/5131 | ms/user 11.33 |\n",
      "[12:56:00-090421]  | training complete | total training time 62.81 s |\n",
      "/home/jimi/music_fairness/music_fairness/lib/python3.6/site-packages/rectorch/metrics.py:245: RuntimeWarning: invalid value encountered in multiply\n",
      "  num = pred_scores * ground_truth\n"
     ]
    },
    {
     "name": "stdout",
     "output_type": "stream",
     "text": [
      "{'ap@5000': (0.12743127766856416, 0.07762598761543481)}\n",
      "0.12743127766856416\n"
     ]
    },
    {
     "name": "stderr",
     "output_type": "stream",
     "text": [
      "[12:56:10-090421]  | item 513/5131 | ms/user 13.07 |\n",
      "[12:56:16-090421]  | item 1026/5131 | ms/user 12.74 |\n",
      "[12:56:23-090421]  | item 1539/5131 | ms/user 12.48 |\n",
      "[12:56:29-090421]  | item 2052/5131 | ms/user 12.45 |\n",
      "[12:56:35-090421]  | item 2565/5131 | ms/user 11.94 |\n",
      "[12:56:41-090421]  | item 3078/5131 | ms/user 11.88 |\n",
      "[12:56:47-090421]  | item 3591/5131 | ms/user 11.51 |\n",
      "[12:56:53-090421]  | item 4104/5131 | ms/user 11.24 |\n",
      "[12:56:59-090421]  | item 4617/5131 | ms/user 11.02 |\n",
      "[12:57:04-090421]  | item 5130/5131 | ms/user 10.78 |\n",
      "[12:57:04-090421]  | training complete | total training time 61.15 s |\n",
      "/home/jimi/music_fairness/music_fairness/lib/python3.6/site-packages/rectorch/metrics.py:245: RuntimeWarning: invalid value encountered in multiply\n",
      "  num = pred_scores * ground_truth\n"
     ]
    },
    {
     "name": "stdout",
     "output_type": "stream",
     "text": [
      "{'ap@5000': (0.11991232209433533, 0.07516821422817616)}\n",
      "0.11991232209433533\n"
     ]
    },
    {
     "name": "stderr",
     "output_type": "stream",
     "text": [
      "[12:57:14-090421]  | item 513/5131 | ms/user 12.01 |\n",
      "[12:57:20-090421]  | item 1026/5131 | ms/user 11.47 |\n",
      "[12:57:26-090421]  | item 1539/5131 | ms/user 11.23 |\n",
      "[12:57:31-090421]  | item 2052/5131 | ms/user 10.99 |\n",
      "[12:57:36-090421]  | item 2565/5131 | ms/user 10.13 |\n",
      "[12:57:41-090421]  | item 3078/5131 | ms/user 9.58 |\n",
      "[12:57:46-090421]  | item 3591/5131 | ms/user 9.41 |\n",
      "[12:57:50-090421]  | item 4104/5131 | ms/user 8.56 |\n",
      "[12:57:55-090421]  | item 4617/5131 | ms/user 7.90 |\n",
      "[12:57:58-090421]  | item 5130/5131 | ms/user 6.44 |\n",
      "[12:57:58-090421]  | training complete | total training time 50.16 s |\n",
      "/home/jimi/music_fairness/music_fairness/lib/python3.6/site-packages/rectorch/metrics.py:245: RuntimeWarning: invalid value encountered in multiply\n",
      "  num = pred_scores * ground_truth\n"
     ]
    },
    {
     "name": "stdout",
     "output_type": "stream",
     "text": [
      "{'ap@5000': (0.1000489842648506, 0.06843348399695678)}\n",
      "0.1000489842648506\n"
     ]
    },
    {
     "name": "stderr",
     "output_type": "stream",
     "text": [
      "[12:58:06-090421]  | item 513/5131 | ms/user 12.14 |\n",
      "[12:58:12-090421]  | item 1026/5131 | ms/user 11.51 |\n",
      "[12:58:18-090421]  | item 1539/5131 | ms/user 11.30 |\n",
      "[12:58:23-090421]  | item 2052/5131 | ms/user 10.95 |\n",
      "[12:58:29-090421]  | item 2565/5131 | ms/user 10.20 |\n",
      "[12:58:33-090421]  | item 3078/5131 | ms/user 9.54 |\n",
      "[12:58:38-090421]  | item 3591/5131 | ms/user 9.55 |\n",
      "[12:58:43-090421]  | item 4104/5131 | ms/user 8.68 |\n",
      "[12:58:47-090421]  | item 4617/5131 | ms/user 8.00 |\n",
      "[12:58:50-090421]  | item 5130/5131 | ms/user 6.40 |\n",
      "[12:58:50-090421]  | training complete | total training time 50.45 s |\n",
      "/home/jimi/music_fairness/music_fairness/lib/python3.6/site-packages/rectorch/metrics.py:245: RuntimeWarning: invalid value encountered in multiply\n",
      "  num = pred_scores * ground_truth\n"
     ]
    },
    {
     "name": "stdout",
     "output_type": "stream",
     "text": [
      "{'ap@5000': (0.10006404887871537, 0.06846325111816061)}\n",
      "0.10006404887871537\n"
     ]
    },
    {
     "name": "stderr",
     "output_type": "stream",
     "text": [
      "[12:58:58-090421]  | item 513/5131 | ms/user 12.14 |\n",
      "[12:59:04-090421]  | item 1026/5131 | ms/user 11.65 |\n",
      "[12:59:10-090421]  | item 1539/5131 | ms/user 11.14 |\n",
      "[12:59:16-090421]  | item 2052/5131 | ms/user 11.08 |\n",
      "[12:59:21-090421]  | item 2565/5131 | ms/user 10.27 |\n",
      "[12:59:26-090421]  | item 3078/5131 | ms/user 9.49 |\n",
      "[12:59:31-090421]  | item 3591/5131 | ms/user 9.37 |\n",
      "[12:59:35-090421]  | item 4104/5131 | ms/user 8.53 |\n",
      "[12:59:39-090421]  | item 4617/5131 | ms/user 7.92 |\n",
      "[12:59:43-090421]  | item 5130/5131 | ms/user 6.51 |\n",
      "[12:59:43-090421]  | training complete | total training time 50.36 s |\n",
      "/home/jimi/music_fairness/music_fairness/lib/python3.6/site-packages/rectorch/metrics.py:245: RuntimeWarning: invalid value encountered in multiply\n",
      "  num = pred_scores * ground_truth\n"
     ]
    },
    {
     "name": "stdout",
     "output_type": "stream",
     "text": [
      "{'ap@5000': (0.10001021198615744, 0.06847827025914185)}\n",
      "0.10001021198615744\n"
     ]
    },
    {
     "name": "stderr",
     "output_type": "stream",
     "text": [
      "[12:59:51-090421]  | item 513/5131 | ms/user 12.12 |\n",
      "[12:59:57-090421]  | item 1026/5131 | ms/user 11.72 |\n",
      "[13:00:03-090421]  | item 1539/5131 | ms/user 11.32 |\n",
      "[13:00:08-090421]  | item 2052/5131 | ms/user 11.01 |\n",
      "[13:00:13-090421]  | item 2565/5131 | ms/user 10.19 |\n",
      "[13:00:18-090421]  | item 3078/5131 | ms/user 9.65 |\n",
      "[13:00:23-090421]  | item 3591/5131 | ms/user 9.46 |\n",
      "[13:00:28-090421]  | item 4104/5131 | ms/user 8.64 |\n",
      "[13:00:32-090421]  | item 4617/5131 | ms/user 7.88 |\n",
      "[13:00:35-090421]  | item 5130/5131 | ms/user 6.47 |\n",
      "[13:00:35-090421]  | training complete | total training time 50.55 s |\n",
      "/home/jimi/music_fairness/music_fairness/lib/python3.6/site-packages/rectorch/metrics.py:245: RuntimeWarning: invalid value encountered in multiply\n",
      "  num = pred_scores * ground_truth\n"
     ]
    },
    {
     "name": "stdout",
     "output_type": "stream",
     "text": [
      "{'ap@5000': (0.09991465374744232, 0.06835075441036462)}\n",
      "0.09991465374744232\n"
     ]
    },
    {
     "name": "stderr",
     "output_type": "stream",
     "text": [
      "[13:00:43-090421]  | item 513/5131 | ms/user 12.24 |\n",
      "[13:00:49-090421]  | item 1026/5131 | ms/user 11.69 |\n",
      "[13:00:55-090421]  | item 1539/5131 | ms/user 11.37 |\n",
      "[13:01:01-090421]  | item 2052/5131 | ms/user 11.11 |\n",
      "[13:01:06-090421]  | item 2565/5131 | ms/user 10.33 |\n",
      "[13:01:11-090421]  | item 3078/5131 | ms/user 9.81 |\n",
      "[13:01:16-090421]  | item 3591/5131 | ms/user 9.54 |\n",
      "[13:01:21-090421]  | item 4104/5131 | ms/user 8.73 |\n",
      "[13:01:25-090421]  | item 4617/5131 | ms/user 8.10 |\n",
      "[13:01:28-090421]  | item 5130/5131 | ms/user 6.53 |\n",
      "[13:01:28-090421]  | training complete | total training time 51.05 s |\n",
      "/home/jimi/music_fairness/music_fairness/lib/python3.6/site-packages/rectorch/metrics.py:245: RuntimeWarning: invalid value encountered in multiply\n",
      "  num = pred_scores * ground_truth\n"
     ]
    },
    {
     "name": "stdout",
     "output_type": "stream",
     "text": [
      "{'ap@5000': (0.09985705159038279, 0.06841746557500146)}\n",
      "0.09985705159038279\n"
     ]
    },
    {
     "name": "stderr",
     "output_type": "stream",
     "text": [
      "[13:01:36-090421]  | item 513/5131 | ms/user 11.82 |\n",
      "[13:01:42-090421]  | item 1026/5131 | ms/user 11.40 |\n",
      "[13:01:48-090421]  | item 1539/5131 | ms/user 10.94 |\n",
      "[13:01:53-090421]  | item 2052/5131 | ms/user 10.84 |\n",
      "[13:01:58-090421]  | item 2565/5131 | ms/user 10.17 |\n",
      "[13:02:03-090421]  | item 3078/5131 | ms/user 9.52 |\n",
      "[13:02:08-090421]  | item 3591/5131 | ms/user 9.45 |\n",
      "[13:02:12-090421]  | item 4104/5131 | ms/user 8.52 |\n",
      "[13:02:16-090421]  | item 4617/5131 | ms/user 7.72 |\n",
      "[13:02:20-090421]  | item 5130/5131 | ms/user 6.39 |\n",
      "[13:02:20-090421]  | training complete | total training time 49.69 s |\n",
      "/home/jimi/music_fairness/music_fairness/lib/python3.6/site-packages/rectorch/metrics.py:245: RuntimeWarning: invalid value encountered in multiply\n",
      "  num = pred_scores * ground_truth\n"
     ]
    },
    {
     "name": "stdout",
     "output_type": "stream",
     "text": [
      "{'ap@5000': (0.09944694368008117, 0.0683550889455675)}\n",
      "0.09944694368008117\n"
     ]
    },
    {
     "name": "stderr",
     "output_type": "stream",
     "text": [
      "[13:02:28-090421]  | item 513/5131 | ms/user 11.50 |\n",
      "[13:02:33-090421]  | item 1026/5131 | ms/user 10.95 |\n",
      "[13:02:39-090421]  | item 1539/5131 | ms/user 10.78 |\n",
      "[13:02:44-090421]  | item 2052/5131 | ms/user 10.59 |\n",
      "[13:02:49-090421]  | item 2565/5131 | ms/user 9.69 |\n",
      "[13:02:54-090421]  | item 3078/5131 | ms/user 9.19 |\n",
      "[13:02:59-090421]  | item 3591/5131 | ms/user 9.02 |\n",
      "[13:03:03-090421]  | item 4104/5131 | ms/user 8.25 |\n",
      "[13:03:07-090421]  | item 4617/5131 | ms/user 7.56 |\n",
      "[13:03:10-090421]  | item 5130/5131 | ms/user 6.29 |\n",
      "[13:03:10-090421]  | training complete | total training time 48.17 s |\n",
      "/home/jimi/music_fairness/music_fairness/lib/python3.6/site-packages/rectorch/metrics.py:245: RuntimeWarning: invalid value encountered in multiply\n",
      "  num = pred_scores * ground_truth\n"
     ]
    },
    {
     "name": "stdout",
     "output_type": "stream",
     "text": [
      "{'ap@5000': (0.09835088997411223, 0.06815248978058688)}\n",
      "0.09835088997411223\n"
     ]
    },
    {
     "name": "stderr",
     "output_type": "stream",
     "text": [
      "[13:03:18-090421]  | item 513/5131 | ms/user 11.48 |\n",
      "[13:03:24-090421]  | item 1026/5131 | ms/user 11.01 |\n",
      "[13:03:29-090421]  | item 1539/5131 | ms/user 10.48 |\n",
      "[13:03:34-090421]  | item 2052/5131 | ms/user 10.47 |\n",
      "[13:03:39-090421]  | item 2565/5131 | ms/user 9.57 |\n",
      "[13:03:44-090421]  | item 3078/5131 | ms/user 9.03 |\n",
      "[13:03:48-090421]  | item 3591/5131 | ms/user 8.97 |\n",
      "[13:03:53-090421]  | item 4104/5131 | ms/user 8.31 |\n",
      "[13:03:57-090421]  | item 4617/5131 | ms/user 7.72 |\n",
      "[13:04:00-090421]  | item 5130/5131 | ms/user 6.38 |\n",
      "[13:04:00-090421]  | training complete | total training time 47.96 s |\n",
      "/home/jimi/music_fairness/music_fairness/lib/python3.6/site-packages/rectorch/metrics.py:245: RuntimeWarning: invalid value encountered in multiply\n",
      "  num = pred_scores * ground_truth\n"
     ]
    },
    {
     "name": "stdout",
     "output_type": "stream",
     "text": [
      "{'ap@5000': (0.09482608917175468, 0.06703067298206372)}\n",
      "0.09482608917175468\n"
     ]
    },
    {
     "name": "stderr",
     "output_type": "stream",
     "text": [
      "[13:04:06-090421]  | item 513/5131 | ms/user 8.13 |\n",
      "[13:04:10-090421]  | item 1026/5131 | ms/user 6.93 |\n",
      "[13:04:13-090421]  | item 1539/5131 | ms/user 6.37 |\n",
      "[13:04:16-090421]  | item 2052/5131 | ms/user 5.41 |\n",
      "[13:04:18-090421]  | item 2565/5131 | ms/user 4.48 |\n",
      "[13:04:21-090421]  | item 3078/5131 | ms/user 4.40 |\n",
      "[13:04:23-090421]  | item 3591/5131 | ms/user 3.83 |\n",
      "[13:04:24-090421]  | item 4104/5131 | ms/user 3.49 |\n",
      "[13:04:26-090421]  | item 4617/5131 | ms/user 3.40 |\n",
      "[13:04:28-090421]  | item 5130/5131 | ms/user 3.25 |\n",
      "[13:04:28-090421]  | training complete | total training time 25.52 s |\n",
      "/home/jimi/music_fairness/music_fairness/lib/python3.6/site-packages/rectorch/metrics.py:245: RuntimeWarning: invalid value encountered in multiply\n",
      "  num = pred_scores * ground_truth\n"
     ]
    },
    {
     "name": "stdout",
     "output_type": "stream",
     "text": [
      "{'ap@5000': (0.06335927294695892, 0.05397007976052173)}\n",
      "0.06335927294695892\n"
     ]
    },
    {
     "name": "stderr",
     "output_type": "stream",
     "text": [
      "[13:04:33-090421]  | item 513/5131 | ms/user 7.99 |\n",
      "[13:04:36-090421]  | item 1026/5131 | ms/user 6.90 |\n",
      "[13:04:40-090421]  | item 1539/5131 | ms/user 6.41 |\n",
      "[13:04:42-090421]  | item 2052/5131 | ms/user 5.49 |\n",
      "[13:04:45-090421]  | item 2565/5131 | ms/user 4.44 |\n",
      "[13:04:47-090421]  | item 3078/5131 | ms/user 4.45 |\n",
      "[13:04:49-090421]  | item 3591/5131 | ms/user 3.86 |\n",
      "[13:04:51-090421]  | item 4104/5131 | ms/user 3.52 |\n",
      "[13:04:53-090421]  | item 4617/5131 | ms/user 3.45 |\n",
      "[13:04:54-090421]  | item 5130/5131 | ms/user 3.30 |\n",
      "[13:04:54-090421]  | training complete | total training time 25.57 s |\n",
      "/home/jimi/music_fairness/music_fairness/lib/python3.6/site-packages/rectorch/metrics.py:245: RuntimeWarning: invalid value encountered in multiply\n",
      "  num = pred_scores * ground_truth\n"
     ]
    },
    {
     "name": "stdout",
     "output_type": "stream",
     "text": [
      "{'ap@5000': (0.06332918573789995, 0.05397077695042961)}\n",
      "0.06332918573789995\n"
     ]
    },
    {
     "name": "stderr",
     "output_type": "stream",
     "text": [
      "[13:04:59-090421]  | item 513/5131 | ms/user 8.20 |\n",
      "[13:05:03-090421]  | item 1026/5131 | ms/user 7.11 |\n",
      "[13:05:06-090421]  | item 1539/5131 | ms/user 6.51 |\n",
      "[13:05:09-090421]  | item 2052/5131 | ms/user 5.61 |\n",
      "[13:05:11-090421]  | item 2565/5131 | ms/user 4.48 |\n",
      "[13:05:14-090421]  | item 3078/5131 | ms/user 4.51 |\n",
      "[13:05:16-090421]  | item 3591/5131 | ms/user 3.90 |\n",
      "[13:05:18-090421]  | item 4104/5131 | ms/user 3.64 |\n",
      "[13:05:19-090421]  | item 4617/5131 | ms/user 3.56 |\n",
      "[13:05:21-090421]  | item 5130/5131 | ms/user 3.39 |\n",
      "[13:05:21-090421]  | training complete | total training time 26.14 s |\n",
      "/home/jimi/music_fairness/music_fairness/lib/python3.6/site-packages/rectorch/metrics.py:245: RuntimeWarning: invalid value encountered in multiply\n",
      "  num = pred_scores * ground_truth\n"
     ]
    },
    {
     "name": "stdout",
     "output_type": "stream",
     "text": [
      "{'ap@5000': (0.06334652434107829, 0.05399209989988103)}\n",
      "0.06334652434107829\n"
     ]
    },
    {
     "name": "stderr",
     "output_type": "stream",
     "text": [
      "[13:05:26-090421]  | item 513/5131 | ms/user 8.07 |\n",
      "[13:05:30-090421]  | item 1026/5131 | ms/user 6.93 |\n",
      "[13:05:33-090421]  | item 1539/5131 | ms/user 6.33 |\n",
      "[13:05:36-090421]  | item 2052/5131 | ms/user 5.31 |\n",
      "[13:05:38-090421]  | item 2565/5131 | ms/user 4.42 |\n",
      "[13:05:40-090421]  | item 3078/5131 | ms/user 4.36 |\n",
      "[13:05:42-090421]  | item 3591/5131 | ms/user 3.81 |\n",
      "[13:05:44-090421]  | item 4104/5131 | ms/user 3.51 |\n",
      "[13:05:46-090421]  | item 4617/5131 | ms/user 3.40 |\n",
      "[13:05:47-090421]  | item 5130/5131 | ms/user 3.24 |\n",
      "[13:05:47-090421]  | training complete | total training time 25.37 s |\n",
      "/home/jimi/music_fairness/music_fairness/lib/python3.6/site-packages/rectorch/metrics.py:245: RuntimeWarning: invalid value encountered in multiply\n",
      "  num = pred_scores * ground_truth\n"
     ]
    },
    {
     "name": "stdout",
     "output_type": "stream",
     "text": [
      "{'ap@5000': (0.06346480615982246, 0.05409448868496606)}\n",
      "0.06346480615982246\n"
     ]
    },
    {
     "name": "stderr",
     "output_type": "stream",
     "text": [
      "[13:05:52-090421]  | item 513/5131 | ms/user 7.98 |\n",
      "[13:05:56-090421]  | item 1026/5131 | ms/user 7.03 |\n",
      "[13:05:59-090421]  | item 1539/5131 | ms/user 6.45 |\n",
      "[13:06:02-090421]  | item 2052/5131 | ms/user 5.40 |\n",
      "[13:06:04-090421]  | item 2565/5131 | ms/user 4.50 |\n",
      "[13:06:07-090421]  | item 3078/5131 | ms/user 4.40 |\n",
      "[13:06:09-090421]  | item 3591/5131 | ms/user 3.84 |\n",
      "[13:06:10-090421]  | item 4104/5131 | ms/user 3.54 |\n",
      "[13:06:12-090421]  | item 4617/5131 | ms/user 3.46 |\n",
      "[13:06:14-090421]  | item 5130/5131 | ms/user 3.31 |\n",
      "[13:06:14-090421]  | training complete | total training time 25.63 s |\n",
      "/home/jimi/music_fairness/music_fairness/lib/python3.6/site-packages/rectorch/metrics.py:245: RuntimeWarning: invalid value encountered in multiply\n",
      "  num = pred_scores * ground_truth\n"
     ]
    },
    {
     "name": "stdout",
     "output_type": "stream",
     "text": [
      "{'ap@5000': (0.06355087134203047, 0.05415319250584071)}\n",
      "0.06355087134203047\n"
     ]
    },
    {
     "name": "stderr",
     "output_type": "stream",
     "text": [
      "[13:06:19-090421]  | item 513/5131 | ms/user 8.10 |\n",
      "[13:06:22-090421]  | item 1026/5131 | ms/user 7.06 |\n",
      "[13:06:26-090421]  | item 1539/5131 | ms/user 6.40 |\n",
      "[13:06:29-090421]  | item 2052/5131 | ms/user 5.52 |\n",
      "[13:06:31-090421]  | item 2565/5131 | ms/user 4.53 |\n",
      "[13:06:33-090421]  | item 3078/5131 | ms/user 4.45 |\n",
      "[13:06:35-090421]  | item 3591/5131 | ms/user 3.93 |\n",
      "[13:06:37-090421]  | item 4104/5131 | ms/user 3.63 |\n",
      "[13:06:39-090421]  | item 4617/5131 | ms/user 3.54 |\n",
      "[13:06:41-090421]  | item 5130/5131 | ms/user 3.38 |\n",
      "[13:06:41-090421]  | training complete | total training time 25.96 s |\n",
      "/home/jimi/music_fairness/music_fairness/lib/python3.6/site-packages/rectorch/metrics.py:245: RuntimeWarning: invalid value encountered in multiply\n",
      "  num = pred_scores * ground_truth\n"
     ]
    },
    {
     "name": "stdout",
     "output_type": "stream",
     "text": [
      "{'ap@5000': (0.0636546500314441, 0.05416815256025451)}\n",
      "0.0636546500314441\n"
     ]
    },
    {
     "name": "stderr",
     "output_type": "stream",
     "text": [
      "[13:06:45-090421]  | item 513/5131 | ms/user 7.78 |\n",
      "[13:06:49-090421]  | item 1026/5131 | ms/user 6.72 |\n",
      "[13:06:52-090421]  | item 1539/5131 | ms/user 6.13 |\n",
      "[13:06:55-090421]  | item 2052/5131 | ms/user 5.28 |\n",
      "[13:06:57-090421]  | item 2565/5131 | ms/user 4.43 |\n",
      "[13:06:59-090421]  | item 3078/5131 | ms/user 4.33 |\n",
      "[13:07:01-090421]  | item 3591/5131 | ms/user 3.81 |\n",
      "[13:07:03-090421]  | item 4104/5131 | ms/user 3.50 |\n",
      "[13:07:05-090421]  | item 4617/5131 | ms/user 3.40 |\n",
      "[13:07:06-090421]  | item 5130/5131 | ms/user 3.26 |\n",
      "[13:07:06-090421]  | training complete | total training time 24.98 s |\n",
      "/home/jimi/music_fairness/music_fairness/lib/python3.6/site-packages/rectorch/metrics.py:245: RuntimeWarning: invalid value encountered in multiply\n",
      "  num = pred_scores * ground_truth\n"
     ]
    },
    {
     "name": "stdout",
     "output_type": "stream",
     "text": [
      "{'ap@5000': (0.06411408941120662, 0.054783953993177224)}\n",
      "0.06411408941120662\n"
     ]
    },
    {
     "name": "stderr",
     "output_type": "stream",
     "text": [
      "[13:07:11-090421]  | item 513/5131 | ms/user 7.47 |\n",
      "[13:07:15-090421]  | item 1026/5131 | ms/user 6.51 |\n",
      "[13:07:18-090421]  | item 1539/5131 | ms/user 5.98 |\n",
      "[13:07:20-090421]  | item 2052/5131 | ms/user 5.18 |\n",
      "[13:07:23-090421]  | item 2565/5131 | ms/user 4.36 |\n",
      "[13:07:25-090421]  | item 3078/5131 | ms/user 4.30 |\n",
      "[13:07:27-090421]  | item 3591/5131 | ms/user 3.80 |\n",
      "[13:07:28-090421]  | item 4104/5131 | ms/user 3.56 |\n",
      "[13:07:30-090421]  | item 4617/5131 | ms/user 3.45 |\n",
      "[13:07:32-090421]  | item 5130/5131 | ms/user 3.31 |\n",
      "[13:07:32-090421]  | training complete | total training time 24.61 s |\n",
      "/home/jimi/music_fairness/music_fairness/lib/python3.6/site-packages/rectorch/metrics.py:245: RuntimeWarning: invalid value encountered in multiply\n",
      "  num = pred_scores * ground_truth\n"
     ]
    },
    {
     "name": "stdout",
     "output_type": "stream",
     "text": [
      "{'ap@5000': (0.06393327773446064, 0.05509877544129514)}\n",
      "0.06393327773446064\n"
     ]
    },
    {
     "name": "stderr",
     "output_type": "stream",
     "text": [
      "[13:07:35-090421]  | item 513/5131 | ms/user 4.08 |\n",
      "[13:07:37-090421]  | item 1026/5131 | ms/user 3.78 |\n",
      "[13:07:39-090421]  | item 1539/5131 | ms/user 3.47 |\n",
      "[13:07:40-090421]  | item 2052/5131 | ms/user 3.41 |\n",
      "[13:07:42-090421]  | item 2565/5131 | ms/user 3.36 |\n",
      "[13:07:44-090421]  | item 3078/5131 | ms/user 3.36 |\n",
      "[13:07:46-090421]  | item 3591/5131 | ms/user 3.34 |\n",
      "[13:07:47-090421]  | item 4104/5131 | ms/user 3.32 |\n",
      "[13:07:49-090421]  | item 4617/5131 | ms/user 3.34 |\n",
      "[13:07:51-090421]  | item 5130/5131 | ms/user 3.33 |\n",
      "[13:07:51-090421]  | training complete | total training time 17.87 s |\n",
      "/home/jimi/music_fairness/music_fairness/lib/python3.6/site-packages/rectorch/metrics.py:245: RuntimeWarning: invalid value encountered in multiply\n",
      "  num = pred_scores * ground_truth\n"
     ]
    },
    {
     "name": "stdout",
     "output_type": "stream",
     "text": [
      "{'ap@5000': (0.023974007487717636, 0.03294889194947303)}\n",
      "0.023974007487717636\n"
     ]
    },
    {
     "name": "stderr",
     "output_type": "stream",
     "text": [
      "[13:07:54-090421]  | item 513/5131 | ms/user 4.77 |\n",
      "[13:07:56-090421]  | item 1026/5131 | ms/user 4.52 |\n",
      "[13:07:58-090421]  | item 1539/5131 | ms/user 4.25 |\n",
      "[13:08:00-090421]  | item 2052/5131 | ms/user 4.20 |\n",
      "[13:08:02-090421]  | item 2565/5131 | ms/user 4.13 |\n",
      "[13:08:05-090421]  | item 3078/5131 | ms/user 4.13 |\n",
      "[13:08:07-090421]  | item 3591/5131 | ms/user 4.15 |\n",
      "[13:08:09-090421]  | item 4104/5131 | ms/user 4.11 |\n",
      "[13:08:11-090421]  | item 4617/5131 | ms/user 4.14 |\n",
      "[13:08:13-090421]  | item 5130/5131 | ms/user 4.14 |\n",
      "[13:08:13-090421]  | training complete | total training time 21.86 s |\n",
      "/home/jimi/music_fairness/music_fairness/lib/python3.6/site-packages/rectorch/metrics.py:245: RuntimeWarning: invalid value encountered in multiply\n",
      "  num = pred_scores * ground_truth\n"
     ]
    },
    {
     "name": "stdout",
     "output_type": "stream",
     "text": [
      "{'ap@5000': (0.02395415698749253, 0.03286551901803043)}\n",
      "0.02395415698749253\n"
     ]
    },
    {
     "name": "stderr",
     "output_type": "stream",
     "text": [
      "[13:08:16-090421]  | item 513/5131 | ms/user 4.40 |\n",
      "[13:08:18-090421]  | item 1026/5131 | ms/user 4.06 |\n",
      "[13:08:20-090421]  | item 1539/5131 | ms/user 3.80 |\n",
      "[13:08:22-090421]  | item 2052/5131 | ms/user 3.76 |\n",
      "[13:08:24-090421]  | item 2565/5131 | ms/user 3.70 |\n",
      "[13:08:26-090421]  | item 3078/5131 | ms/user 3.68 |\n",
      "[13:08:27-090421]  | item 3591/5131 | ms/user 3.68 |\n",
      "[13:08:29-090421]  | item 4104/5131 | ms/user 3.68 |\n",
      "[13:08:31-090421]  | item 4617/5131 | ms/user 3.69 |\n",
      "[13:08:33-090421]  | item 5130/5131 | ms/user 3.68 |\n",
      "[13:08:33-090421]  | training complete | total training time 19.59 s |\n",
      "/home/jimi/music_fairness/music_fairness/lib/python3.6/site-packages/rectorch/metrics.py:245: RuntimeWarning: invalid value encountered in multiply\n",
      "  num = pred_scores * ground_truth\n"
     ]
    },
    {
     "name": "stdout",
     "output_type": "stream",
     "text": [
      "{'ap@5000': (0.023824316329212513, 0.032827226858666535)}\n",
      "0.023824316329212513\n"
     ]
    },
    {
     "name": "stderr",
     "output_type": "stream",
     "text": [
      "[13:08:36-090421]  | item 513/5131 | ms/user 4.69 |\n",
      "[13:08:38-090421]  | item 1026/5131 | ms/user 4.50 |\n",
      "[13:08:40-090421]  | item 1539/5131 | ms/user 4.13 |\n",
      "[13:08:42-090421]  | item 2052/5131 | ms/user 4.04 |\n",
      "[13:08:45-090421]  | item 2565/5131 | ms/user 4.01 |\n",
      "[13:08:47-090421]  | item 3078/5131 | ms/user 4.02 |\n",
      "[13:08:49-090421]  | item 3591/5131 | ms/user 3.99 |\n",
      "[13:08:51-090421]  | item 4104/5131 | ms/user 3.98 |\n",
      "[13:08:53-090421]  | item 4617/5131 | ms/user 4.00 |\n",
      "[13:08:55-090421]  | item 5130/5131 | ms/user 3.98 |\n",
      "[13:08:55-090421]  | training complete | total training time 21.24 s |\n",
      "/home/jimi/music_fairness/music_fairness/lib/python3.6/site-packages/rectorch/metrics.py:245: RuntimeWarning: invalid value encountered in multiply\n",
      "  num = pred_scores * ground_truth\n"
     ]
    },
    {
     "name": "stdout",
     "output_type": "stream",
     "text": [
      "{'ap@5000': (0.02411175130420463, 0.033125042234399514)}\n",
      "0.02411175130420463\n"
     ]
    },
    {
     "name": "stderr",
     "output_type": "stream",
     "text": [
      "[13:08:57-090421]  | item 513/5131 | ms/user 3.88 |\n",
      "[13:08:59-090421]  | item 1026/5131 | ms/user 3.60 |\n",
      "[13:09:01-090421]  | item 1539/5131 | ms/user 3.32 |\n",
      "[13:09:02-090421]  | item 2052/5131 | ms/user 3.28 |\n",
      "[13:09:04-090421]  | item 2565/5131 | ms/user 3.19 |\n",
      "[13:09:06-090421]  | item 3078/5131 | ms/user 3.21 |\n",
      "[13:09:07-090421]  | item 3591/5131 | ms/user 3.20 |\n",
      "[13:09:09-090421]  | item 4104/5131 | ms/user 3.19 |\n",
      "[13:09:11-090421]  | item 4617/5131 | ms/user 3.19 |\n",
      "[13:09:12-090421]  | item 5130/5131 | ms/user 3.19 |\n",
      "[13:09:12-090421]  | training complete | total training time 17.09 s |\n",
      "/home/jimi/music_fairness/music_fairness/lib/python3.6/site-packages/rectorch/metrics.py:245: RuntimeWarning: invalid value encountered in multiply\n",
      "  num = pred_scores * ground_truth\n"
     ]
    },
    {
     "name": "stdout",
     "output_type": "stream",
     "text": [
      "{'ap@5000': (0.02396451714971799, 0.032960742225966)}\n",
      "0.02396451714971799\n"
     ]
    },
    {
     "name": "stderr",
     "output_type": "stream",
     "text": [
      "[13:09:15-090421]  | item 513/5131 | ms/user 3.99 |\n",
      "[13:09:17-090421]  | item 1026/5131 | ms/user 3.75 |\n",
      "[13:09:19-090421]  | item 1539/5131 | ms/user 3.46 |\n",
      "[13:09:20-090421]  | item 2052/5131 | ms/user 3.37 |\n",
      "[13:09:22-090421]  | item 2565/5131 | ms/user 3.31 |\n",
      "[13:09:24-090421]  | item 3078/5131 | ms/user 3.31 |\n",
      "[13:09:25-090421]  | item 3591/5131 | ms/user 3.30 |\n",
      "[13:09:27-090421]  | item 4104/5131 | ms/user 3.29 |\n",
      "[13:09:29-090421]  | item 4617/5131 | ms/user 3.31 |\n",
      "[13:09:30-090421]  | item 5130/5131 | ms/user 3.30 |\n",
      "[13:09:30-090421]  | training complete | total training time 17.67 s |\n",
      "/home/jimi/music_fairness/music_fairness/lib/python3.6/site-packages/rectorch/metrics.py:245: RuntimeWarning: invalid value encountered in multiply\n",
      "  num = pred_scores * ground_truth\n"
     ]
    },
    {
     "name": "stdout",
     "output_type": "stream",
     "text": [
      "{'ap@5000': (0.024058546848538316, 0.03270161827902854)}\n",
      "0.024058546848538316\n"
     ]
    },
    {
     "name": "stderr",
     "output_type": "stream",
     "text": [
      "[13:09:33-090421]  | item 513/5131 | ms/user 4.01 |\n",
      "[13:09:35-090421]  | item 1026/5131 | ms/user 3.76 |\n",
      "[13:09:37-090421]  | item 1539/5131 | ms/user 3.50 |\n",
      "[13:09:38-090421]  | item 2052/5131 | ms/user 3.39 |\n",
      "[13:09:40-090421]  | item 2565/5131 | ms/user 3.34 |\n",
      "[13:09:42-090421]  | item 3078/5131 | ms/user 3.34 |\n",
      "[13:09:44-090421]  | item 3591/5131 | ms/user 3.32 |\n",
      "[13:09:45-090421]  | item 4104/5131 | ms/user 3.31 |\n",
      "[13:09:47-090421]  | item 4617/5131 | ms/user 3.33 |\n",
      "[13:09:49-090421]  | item 5130/5131 | ms/user 3.33 |\n",
      "[13:09:49-090421]  | training complete | total training time 17.80 s |\n",
      "/home/jimi/music_fairness/music_fairness/lib/python3.6/site-packages/rectorch/metrics.py:245: RuntimeWarning: invalid value encountered in multiply\n",
      "  num = pred_scores * ground_truth\n"
     ]
    },
    {
     "name": "stdout",
     "output_type": "stream",
     "text": [
      "{'ap@5000': (0.024736127137358375, 0.03339698075243033)}\n",
      "0.024736127137358375\n"
     ]
    },
    {
     "name": "stderr",
     "output_type": "stream",
     "text": [
      "[13:09:51-090421]  | item 513/5131 | ms/user 3.81 |\n",
      "[13:09:53-090421]  | item 1026/5131 | ms/user 3.59 |\n",
      "[13:09:55-090421]  | item 1539/5131 | ms/user 3.31 |\n",
      "[13:09:56-090421]  | item 2052/5131 | ms/user 3.24 |\n",
      "[13:09:58-090421]  | item 2565/5131 | ms/user 3.19 |\n",
      "[13:10:00-090421]  | item 3078/5131 | ms/user 3.19 |\n",
      "[13:10:01-090421]  | item 3591/5131 | ms/user 3.19 |\n",
      "[13:10:03-090421]  | item 4104/5131 | ms/user 3.18 |\n",
      "[13:10:05-090421]  | item 4617/5131 | ms/user 3.19 |\n",
      "[13:10:06-090421]  | item 5130/5131 | ms/user 3.17 |\n",
      "[13:10:06-090421]  | training complete | total training time 17.00 s |\n",
      "/home/jimi/music_fairness/music_fairness/lib/python3.6/site-packages/rectorch/metrics.py:245: RuntimeWarning: invalid value encountered in multiply\n",
      "  num = pred_scores * ground_truth\n"
     ]
    },
    {
     "name": "stdout",
     "output_type": "stream",
     "text": [
      "{'ap@5000': (0.02574048450108085, 0.03397734333154869)}\n",
      "0.02574048450108085\n"
     ]
    },
    {
     "name": "stderr",
     "output_type": "stream",
     "text": [
      "[13:10:09-090421]  | item 513/5131 | ms/user 3.90 |\n",
      "[13:10:11-090421]  | item 1026/5131 | ms/user 3.87 |\n",
      "[13:10:13-090421]  | item 1539/5131 | ms/user 3.86 |\n",
      "[13:10:15-090421]  | item 2052/5131 | ms/user 3.88 |\n",
      "[13:10:17-090421]  | item 2565/5131 | ms/user 3.84 |\n",
      "[13:10:19-090421]  | item 3078/5131 | ms/user 3.86 |\n",
      "[13:10:21-090421]  | item 3591/5131 | ms/user 3.86 |\n",
      "[13:10:22-090421]  | item 4104/5131 | ms/user 3.86 |\n",
      "[13:10:24-090421]  | item 4617/5131 | ms/user 3.85 |\n",
      "[13:10:26-090421]  | item 5130/5131 | ms/user 3.86 |\n",
      "[13:10:26-090421]  | training complete | total training time 19.85 s |\n",
      "/home/jimi/music_fairness/music_fairness/lib/python3.6/site-packages/rectorch/metrics.py:245: RuntimeWarning: invalid value encountered in multiply\n",
      "  num = pred_scores * ground_truth\n"
     ]
    },
    {
     "name": "stdout",
     "output_type": "stream",
     "text": [
      "{'ap@5000': (0.0, 0.0)}\n",
      "0.0\n"
     ]
    },
    {
     "name": "stderr",
     "output_type": "stream",
     "text": [
      "[13:10:29-090421]  | item 513/5131 | ms/user 3.34 |\n",
      "[13:10:30-090421]  | item 1026/5131 | ms/user 3.36 |\n",
      "[13:10:32-090421]  | item 1539/5131 | ms/user 3.34 |\n",
      "[13:10:34-090421]  | item 2052/5131 | ms/user 3.35 |\n",
      "[13:10:35-090421]  | item 2565/5131 | ms/user 3.37 |\n",
      "[13:10:37-090421]  | item 3078/5131 | ms/user 3.36 |\n",
      "[13:10:39-090421]  | item 3591/5131 | ms/user 3.35 |\n",
      "[13:10:41-090421]  | item 4104/5131 | ms/user 3.34 |\n",
      "[13:10:42-090421]  | item 4617/5131 | ms/user 3.34 |\n",
      "[13:10:44-090421]  | item 5130/5131 | ms/user 3.35 |\n",
      "[13:10:44-090421]  | training complete | total training time 17.22 s |\n",
      "/home/jimi/music_fairness/music_fairness/lib/python3.6/site-packages/rectorch/metrics.py:245: RuntimeWarning: invalid value encountered in multiply\n",
      "  num = pred_scores * ground_truth\n"
     ]
    },
    {
     "name": "stdout",
     "output_type": "stream",
     "text": [
      "{'ap@5000': (0.0, 0.0)}\n",
      "0.0\n"
     ]
    },
    {
     "name": "stderr",
     "output_type": "stream",
     "text": [
      "[13:10:46-090421]  | item 513/5131 | ms/user 3.28 |\n",
      "[13:10:48-090421]  | item 1026/5131 | ms/user 3.23 |\n",
      "[13:10:50-090421]  | item 1539/5131 | ms/user 3.27 |\n",
      "[13:10:51-090421]  | item 2052/5131 | ms/user 3.26 |\n",
      "[13:10:53-090421]  | item 2565/5131 | ms/user 3.26 |\n",
      "[13:10:55-090421]  | item 3078/5131 | ms/user 3.23 |\n",
      "[13:10:56-090421]  | item 3591/5131 | ms/user 3.26 |\n",
      "[13:10:58-090421]  | item 4104/5131 | ms/user 3.26 |\n",
      "[13:11:00-090421]  | item 4617/5131 | ms/user 3.27 |\n",
      "[13:11:01-090421]  | item 5130/5131 | ms/user 3.25 |\n",
      "[13:11:01-090421]  | training complete | total training time 16.75 s |\n",
      "/home/jimi/music_fairness/music_fairness/lib/python3.6/site-packages/rectorch/metrics.py:245: RuntimeWarning: invalid value encountered in multiply\n",
      "  num = pred_scores * ground_truth\n"
     ]
    },
    {
     "name": "stdout",
     "output_type": "stream",
     "text": [
      "{'ap@5000': (0.0, 0.0)}\n",
      "0.0\n"
     ]
    },
    {
     "name": "stderr",
     "output_type": "stream",
     "text": [
      "[13:11:03-090421]  | item 513/5131 | ms/user 3.32 |\n",
      "[13:11:05-090421]  | item 1026/5131 | ms/user 3.29 |\n",
      "[13:11:07-090421]  | item 1539/5131 | ms/user 3.29 |\n",
      "[13:11:08-090421]  | item 2052/5131 | ms/user 3.29 |\n",
      "[13:11:10-090421]  | item 2565/5131 | ms/user 3.30 |\n",
      "[13:11:12-090421]  | item 3078/5131 | ms/user 3.31 |\n",
      "[13:11:14-090421]  | item 3591/5131 | ms/user 3.30 |\n",
      "[13:11:15-090421]  | item 4104/5131 | ms/user 3.31 |\n",
      "[13:11:17-090421]  | item 4617/5131 | ms/user 3.31 |\n",
      "[13:11:19-090421]  | item 5130/5131 | ms/user 3.29 |\n",
      "[13:11:19-090421]  | training complete | total training time 16.97 s |\n",
      "/home/jimi/music_fairness/music_fairness/lib/python3.6/site-packages/rectorch/metrics.py:245: RuntimeWarning: invalid value encountered in multiply\n",
      "  num = pred_scores * ground_truth\n"
     ]
    },
    {
     "name": "stdout",
     "output_type": "stream",
     "text": [
      "{'ap@5000': (0.0, 0.0)}\n",
      "0.0\n"
     ]
    },
    {
     "name": "stderr",
     "output_type": "stream",
     "text": [
      "[13:11:21-090421]  | item 513/5131 | ms/user 3.37 |\n",
      "[13:11:22-090421]  | item 1026/5131 | ms/user 3.38 |\n",
      "[13:11:24-090421]  | item 1539/5131 | ms/user 3.38 |\n",
      "[13:11:26-090421]  | item 2052/5131 | ms/user 3.35 |\n",
      "[13:11:28-090421]  | item 2565/5131 | ms/user 3.37 |\n",
      "[13:11:29-090421]  | item 3078/5131 | ms/user 3.37 |\n",
      "[13:11:31-090421]  | item 3591/5131 | ms/user 3.36 |\n",
      "[13:11:33-090421]  | item 4104/5131 | ms/user 3.37 |\n",
      "[13:11:35-090421]  | item 4617/5131 | ms/user 3.37 |\n",
      "[13:11:36-090421]  | item 5130/5131 | ms/user 3.38 |\n",
      "[13:11:36-090421]  | training complete | total training time 17.32 s |\n",
      "/home/jimi/music_fairness/music_fairness/lib/python3.6/site-packages/rectorch/metrics.py:245: RuntimeWarning: invalid value encountered in multiply\n",
      "  num = pred_scores * ground_truth\n"
     ]
    },
    {
     "name": "stdout",
     "output_type": "stream",
     "text": [
      "{'ap@5000': (0.0, 0.0)}\n",
      "0.0\n"
     ]
    },
    {
     "name": "stderr",
     "output_type": "stream",
     "text": [
      "[13:11:38-090421]  | item 513/5131 | ms/user 3.24 |\n",
      "[13:11:40-090421]  | item 1026/5131 | ms/user 3.24 |\n",
      "[13:11:42-090421]  | item 1539/5131 | ms/user 3.25 |\n",
      "[13:11:43-090421]  | item 2052/5131 | ms/user 3.24 |\n",
      "[13:11:45-090421]  | item 2565/5131 | ms/user 3.23 |\n",
      "[13:11:47-090421]  | item 3078/5131 | ms/user 3.23 |\n",
      "[13:11:48-090421]  | item 3591/5131 | ms/user 3.25 |\n",
      "[13:11:50-090421]  | item 4104/5131 | ms/user 3.23 |\n",
      "[13:11:52-090421]  | item 4617/5131 | ms/user 3.24 |\n",
      "[13:11:53-090421]  | item 5130/5131 | ms/user 3.24 |\n",
      "[13:11:53-090421]  | training complete | total training time 16.65 s |\n",
      "/home/jimi/music_fairness/music_fairness/lib/python3.6/site-packages/rectorch/metrics.py:245: RuntimeWarning: invalid value encountered in multiply\n",
      "  num = pred_scores * ground_truth\n"
     ]
    },
    {
     "name": "stdout",
     "output_type": "stream",
     "text": [
      "{'ap@5000': (0.0, 0.0)}\n",
      "0.0\n"
     ]
    },
    {
     "name": "stderr",
     "output_type": "stream",
     "text": [
      "[13:11:55-090421]  | item 513/5131 | ms/user 3.31 |\n",
      "[13:11:57-090421]  | item 1026/5131 | ms/user 3.29 |\n",
      "[13:11:59-090421]  | item 1539/5131 | ms/user 3.29 |\n",
      "[13:12:01-090421]  | item 2052/5131 | ms/user 3.29 |\n",
      "[13:12:02-090421]  | item 2565/5131 | ms/user 3.29 |\n",
      "[13:12:04-090421]  | item 3078/5131 | ms/user 3.29 |\n",
      "[13:12:06-090421]  | item 3591/5131 | ms/user 3.29 |\n",
      "[13:12:07-090421]  | item 4104/5131 | ms/user 3.29 |\n",
      "[13:12:09-090421]  | item 4617/5131 | ms/user 3.30 |\n",
      "[13:12:11-090421]  | item 5130/5131 | ms/user 3.29 |\n",
      "[13:12:11-090421]  | training complete | total training time 16.92 s |\n",
      "/home/jimi/music_fairness/music_fairness/lib/python3.6/site-packages/rectorch/metrics.py:245: RuntimeWarning: invalid value encountered in multiply\n",
      "  num = pred_scores * ground_truth\n"
     ]
    },
    {
     "name": "stdout",
     "output_type": "stream",
     "text": [
      "{'ap@5000': (0.0, 0.0)}\n",
      "0.0\n"
     ]
    },
    {
     "name": "stderr",
     "output_type": "stream",
     "text": [
      "[13:12:13-090421]  | item 513/5131 | ms/user 3.36 |\n",
      "[13:12:15-090421]  | item 1026/5131 | ms/user 3.34 |\n",
      "[13:12:16-090421]  | item 1539/5131 | ms/user 3.34 |\n",
      "[13:12:18-090421]  | item 2052/5131 | ms/user 3.33 |\n",
      "[13:12:20-090421]  | item 2565/5131 | ms/user 3.34 |\n",
      "[13:12:21-090421]  | item 3078/5131 | ms/user 3.34 |\n",
      "[13:12:23-090421]  | item 3591/5131 | ms/user 3.34 |\n",
      "[13:12:25-090421]  | item 4104/5131 | ms/user 3.34 |\n",
      "[13:12:27-090421]  | item 4617/5131 | ms/user 3.34 |\n",
      "[13:12:28-090421]  | item 5130/5131 | ms/user 3.35 |\n",
      "[13:12:28-090421]  | training complete | total training time 17.17 s |\n",
      "/home/jimi/music_fairness/music_fairness/lib/python3.6/site-packages/rectorch/metrics.py:245: RuntimeWarning: invalid value encountered in multiply\n",
      "  num = pred_scores * ground_truth\n"
     ]
    },
    {
     "name": "stdout",
     "output_type": "stream",
     "text": [
      "{'ap@5000': (0.0, 0.0)}\n",
      "0.0\n",
      "[[0.12851225 0.12882274 0.12988474 0.13238474 0.13731052 0.1409856\n",
      "  0.13895127 0.13062076]\n",
      " [0.13091648 0.13111136 0.13198311 0.13424593 0.13834158 0.14131486\n",
      "  0.13877306 0.1303479 ]\n",
      " [0.13537905 0.1356008  0.13626014 0.13759539 0.13994234 0.14052816\n",
      "  0.13709833 0.12844514]\n",
      " [0.13178956 0.13176923 0.1318709  0.13185112 0.13179571 0.13079366\n",
      "  0.12743128 0.11991232]\n",
      " [0.10004898 0.10006405 0.10001021 0.09991465 0.09985705 0.09944694\n",
      "  0.09835089 0.09482609]\n",
      " [0.06335927 0.06332919 0.06334652 0.06346481 0.06355087 0.06365465\n",
      "  0.06411409 0.06393328]\n",
      " [0.02397401 0.02395416 0.02382432 0.02411175 0.02396452 0.02405855\n",
      "  0.02473613 0.02574048]\n",
      " [0.         0.         0.         0.         0.         0.\n",
      "  0.         0.        ]]\n",
      "0.0003\n",
      "0.03\n"
     ]
    }
   ],
   "source": [
    "lambda_vals =  np.array([0.0001, 0.0003, 0.001, 0.003, 0.01, 0.03, 0.1, 0.3])\n",
    "beta_vals =  np.array([0.0001, 0.0003, 0.001, 0.003, 0.01, 0.03, 0.1, 0.3])\n",
    "\n",
    "\n",
    "error = np.zeros([lambda_vals.size,beta_vals.size])\n",
    "\n",
    "sparse_sampler = SparseDummySampler(dataset, mode=\"train\")\n",
    "for i in range(len(lambda_vals)):\n",
    "    for j in range(len(beta_vals)):\n",
    "        sparse_sampler.train()\n",
    "        \n",
    "        slim = SLIM(l1_reg=lambda_vals[i], l2_reg=beta_vals[j])\n",
    "        slim.train(sparse_sampler)\n",
    "        \n",
    "        sparse_sampler.test()\n",
    "        \n",
    "        results = evaluate(slim, sparse_sampler, [\"ap@5000\"])\n",
    "        error[i,j] = collect_results(results).get(\"ap@5000\")[0]\n",
    "        print(collect_results(results))\n",
    "        print(collect_results(results).get(\"ap@5000\")[0])\n",
    "        \n",
    "print(error)\n",
    "        \n",
    "minError = np.argwhere(error == np.amax(error))\n",
    "Lambda = lambda_vals[(minError[0][0])]\n",
    "beta = beta_vals[(minError[0][1])]\n",
    "print(Lambda)\n",
    "print(beta)\n"
   ]
  },
  {
   "cell_type": "markdown",
   "metadata": {},
   "source": [
    "### Training SLIM on Partial Dataset with Tuned Parameters"
   ]
  },
  {
   "cell_type": "code",
   "execution_count": 47,
   "metadata": {},
   "outputs": [
    {
     "name": "stderr",
     "output_type": "stream",
     "text": [
      "[13:26:59-090421]  | item 513/5131 | ms/user 13.48 |\n",
      "[13:27:06-090421]  | item 1026/5131 | ms/user 13.20 |\n",
      "[13:27:13-090421]  | item 1539/5131 | ms/user 13.07 |\n",
      "[13:27:19-090421]  | item 2052/5131 | ms/user 12.69 |\n",
      "[13:27:25-090421]  | item 2565/5131 | ms/user 12.41 |\n",
      "[13:27:32-090421]  | item 3078/5131 | ms/user 12.44 |\n",
      "[13:27:38-090421]  | item 3591/5131 | ms/user 12.23 |\n",
      "[13:27:44-090421]  | item 4104/5131 | ms/user 12.11 |\n",
      "[13:27:50-090421]  | item 4617/5131 | ms/user 11.97 |\n",
      "[13:27:56-090421]  | item 5130/5131 | ms/user 11.72 |\n",
      "[13:27:56-090421]  | training complete | total training time 64.35 s |\n"
     ]
    }
   ],
   "source": [
    "#Learned best Lambda = 0.0003 and best Beta = 0.03\n",
    "sparse_sampler.train()\n",
    "slim = SLIM(l1_reg=Lambda, l2_reg=beta)\n",
    "slim.train(sparse_sampler)"
   ]
  },
  {
   "cell_type": "code",
   "execution_count": 48,
   "metadata": {},
   "outputs": [
    {
     "name": "stderr",
     "output_type": "stream",
     "text": [
      "/home/jimi/music_fairness/music_fairness/lib/python3.6/site-packages/rectorch/metrics.py:245: RuntimeWarning: invalid value encountered in multiply\n",
      "  num = pred_scores * ground_truth\n"
     ]
    },
    {
     "data": {
      "text/plain": [
       "{'ap@5000': (0.1413211884342339, 0.08234902229175063)}"
      ]
     },
     "execution_count": 48,
     "metadata": {},
     "output_type": "execute_result"
    }
   ],
   "source": [
    "sparse_sampler.test()\n",
    "results = evaluate(slim, sparse_sampler, [\"ap@5000\"])\n",
    "collect_results(results)"
   ]
  },
  {
   "cell_type": "markdown",
   "metadata": {},
   "source": [
    "### Saving/Loading Model"
   ]
  },
  {
   "cell_type": "code",
   "execution_count": 49,
   "metadata": {},
   "outputs": [
    {
     "name": "stderr",
     "output_type": "stream",
     "text": [
      "[13:28:22-090421]  Saving SLIM model to slimHorizontal...\n",
      "[13:28:22-090421]  Model saved!\n"
     ]
    }
   ],
   "source": [
    "slim.save_model(\"slimHorizontal\")"
   ]
  },
  {
   "cell_type": "code",
   "execution_count": 14,
   "metadata": {},
   "outputs": [
    {
     "name": "stderr",
     "output_type": "stream",
     "text": [
      "[15:18:01-140421]  Loading SLIM model from slimHorizontal...\n",
      "[15:18:01-140421]  Model loaded!\n"
     ]
    }
   ],
   "source": [
    "slim2 = SLIM(l1_reg=.0003, l2_reg=.03)\n",
    "slim2 = slim2.load_model(\"slimHorizontal\")"
   ]
  },
  {
   "cell_type": "code",
   "execution_count": 20,
   "metadata": {},
   "outputs": [
    {
     "name": "stderr",
     "output_type": "stream",
     "text": [
      "[15:24:35-140421]  Sampler must be in valid or test mode. Froced switch to test mode!\n",
      "/home/jimi/music_fairness/music_fairness/lib/python3.6/site-packages/rectorch/metrics.py:245: RuntimeWarning: invalid value encountered in multiply\n",
      "  num = pred_scores * ground_truth\n"
     ]
    },
    {
     "data": {
      "text/plain": [
       "{'ap@5000': (0.1413211884342339, 0.08234902229175063)}"
      ]
     },
     "execution_count": 20,
     "metadata": {},
     "output_type": "execute_result"
    }
   ],
   "source": [
    "results = evaluate(slim2, sparse_sampler, [\"ap@5000\"])\n",
    "collect_results(results)"
   ]
  },
  {
   "cell_type": "markdown",
   "metadata": {},
   "source": [
    "### Getting Predictions Matrix"
   ]
  },
  {
   "cell_type": "code",
   "execution_count": 25,
   "metadata": {},
   "outputs": [
    {
     "name": "stdout",
     "output_type": "stream",
     "text": [
      "[[      -inf       -inf       -inf ... 0.04992882 0.4544747  0.00770693]\n",
      " [0.00049819 0.00201185       -inf ... 0.         0.         0.00244589]\n",
      " [0.07114389       -inf 0.26453635 ... 0.00564663 0.02116286 0.01082972]\n",
      " ...\n",
      " [0.03638217 0.05174858 0.07925528 ... 0.         0.               -inf]\n",
      " [0.10311809 0.07772502 0.25239915 ... 0.00382676 0.15936436       -inf]\n",
      " [0.03482109 0.00276908 0.03124328 ... 0.         0.03244206 0.        ]]\n",
      "[[0. 0. 0. ... 0. 0. 0.]\n",
      " [0. 0. 0. ... 0. 0. 0.]\n",
      " [0. 0. 0. ... 0. 0. 0.]\n",
      " ...\n",
      " [0. 0. 0. ... 0. 0. 0.]\n",
      " [0. 0. 0. ... 0. 0. 0.]\n",
      " [0. 0. 0. ... 0. 0. 0.]]\n",
      "2804\n",
      "[      -inf       -inf       -inf ... 0.04992882 0.4544747  0.00770693]\n"
     ]
    }
   ],
   "source": [
    "sparse_sampler.test()\n",
    "for _, (data_input, ground_truth) in enumerate(sparse_sampler):\n",
    "    data_input, ground_truth = prepare_for_prediction(data_input, ground_truth)\n",
    "    predictions = slim2.predict(*data_input)[0].cpu().numpy()\n",
    "print(predictions)\n",
    "print(ground_truth)\n",
    "\n",
    "print(len(predictions))\n",
    "print(predictions[0,:])"
   ]
  },
  {
   "cell_type": "markdown",
   "metadata": {},
   "source": [
    "### Getting Top N Artists for SLIM (Works with Any Rectorch Algorithm)"
   ]
  },
  {
   "cell_type": "code",
   "execution_count": 23,
   "metadata": {},
   "outputs": [],
   "source": [
    "def get_top_artists(predictions, back_to_user_id,back_to_artist_id, num=10):\n",
    "    \"\"\"Return the top-N recommendation for each user from a set of predictions.\n",
    "\n",
    "    Args:\n",
    "        Predictions: the Prediction vectors\n",
    "        back_to_user_id: dictionary to convert back to original user id\n",
    "        back_to_artist_id: dictionary to convert back to original artist id\n",
    "        num(int): The number of recommendation to output for each user. Default\n",
    "            is 10.\n",
    "\n",
    "    Returns:\n",
    "    A dict where keys are user (raw) ids and values are lists of tuples:\n",
    "        [(raw item id), ...] of size n.\n",
    "    \"\"\"\n",
    "    top_artists_dict = defaultdict(list)\n",
    "        # creating dictionary where user id is the key, and the val is a list of tuples of the artist id and \n",
    "        # the rating it thinks the user would give it\n",
    "        \n",
    "    for user_id in range(len(predictions)):\n",
    "        \n",
    "        rec_vector = predictions[user_id,:].copy()\n",
    "        #print(rec_vector)\n",
    "        \n",
    "        recommend_vector = rec_vector\n",
    "        \n",
    "        product_idx = np.argsort(recommend_vector)[::-1][:num] # Sort the indices of the items into order \n",
    "        # of best recommendations\n",
    "        rec_list = [] # start empty list to store items\n",
    "        actual_user_id = back_to_user_id[user_id]\n",
    "        #print(actual_user_id)\n",
    "        \n",
    "        for index in product_idx:\n",
    "            actual_artist_id = back_to_artist_id[index]\n",
    "            rec_list.append(actual_artist_id)\n",
    "            \n",
    "        top_artists_dict[actual_user_id] = rec_list\n",
    "    print(\"done\")\n",
    "    return top_artists_dict\n",
    "    \n",
    "    "
   ]
  },
  {
   "cell_type": "markdown",
   "metadata": {},
   "source": [
    "#### Reversing the matrices given by the dataset so we can get the original artist and user ids"
   ]
  },
  {
   "cell_type": "code",
   "execution_count": 24,
   "metadata": {},
   "outputs": [],
   "source": [
    "id2u =  dict(map(reversed, dataset.u2id.items())) #dict for putting user ids back to normal\n",
    "id2i = dict(map(reversed, dataset.i2id.items())) #dict for translating artist ids back to normal"
   ]
  },
  {
   "cell_type": "code",
   "execution_count": 58,
   "metadata": {},
   "outputs": [
    {
     "name": "stdout",
     "output_type": "stream",
     "text": [
      "done\n"
     ]
    }
   ],
   "source": [
    "rectorch_top_n = get_top_artists(predictions, id2u, id2i)"
   ]
  },
  {
   "cell_type": "code",
   "execution_count": 59,
   "metadata": {},
   "outputs": [
    {
     "data": {
      "text/plain": [
       "[2836, 17292, 6443, 17302, 35098, 7941, 7463, 1804, 15629, 18830]"
      ]
     },
     "execution_count": 59,
     "metadata": {},
     "output_type": "execute_result"
    }
   ],
   "source": [
    "rectorch_top_n[6532902]"
   ]
  },
  {
   "cell_type": "markdown",
   "metadata": {},
   "source": [
    "### Calculating GAPr and Delta GAP for Rectorch Algorithms (SLIM)"
   ]
  },
  {
   "cell_type": "code",
   "execution_count": 60,
   "metadata": {},
   "outputs": [
    {
     "name": "stdout",
     "output_type": "stream",
     "text": [
      "done\n"
     ]
    }
   ],
   "source": [
    "# Train and test the four algorithms on our data set\n",
    "low_gap_r_list = []\n",
    "medium_gap_r_list = []\n",
    "high_gap_r_list = []\n",
    "total_gap_r_list= []\n",
    "#keeps track of the GAPr of each of the algs\n",
    "\n",
    "alg_recommendations = [] #Keeps track of how many times each artist was recommended\n",
    "\n",
    "#Will put for loop here with training, but for now we already have predictions\n",
    "    \n",
    "num_times_recommended = pd.DataFrame(artist_dist)\n",
    "num_times_recommended.columns = ['Recommendation Frequency']\n",
    "num_times_recommended['Recommendation Frequency'] = 0 #resets for each algorithm\n",
    "    \n",
    "    \n",
    "# resets to 0 before calculating for new alg\n",
    "low_gap_r = 0\n",
    "medium_gap_r = 0\n",
    "high_gap_r = 0\n",
    "    \n",
    "#keeps track of group size since it is unpredictable since the test set is selected randomly\n",
    "num_low_users = 0\n",
    "num_medium_users = 0\n",
    "num_high_users = 0\n",
    "    \n",
    "#keeps track of the mean absolute error of the current alg\n",
    "low_mae = 0\n",
    "medium_mae = 0\n",
    "high_mae = 0\n",
    "top_artists = rectorch_top_n #Gets the top N recommendations for each user\n",
    "    \n",
    "\n",
    "for user_id, ratings in top_artists.items():\n",
    "    artist_id_list = [] #user profile size to compute top fraction in GAPr\n",
    "    for artist_id in ratings:\n",
    "            \n",
    "        artist_id_list.append(artist_id)\n",
    "        num_times_recommended.loc[artist_id] += 1 #increments the number of times the artist was recommended\n",
    "\n",
    "    gap = sum(artist_dist[artist_id_list]/ num_users) / len(artist_id_list) #fraction in numerator for GAPr\n",
    "    #print(\"gap:\" ,gap)\n",
    "    if user_id in low_users.index: #summation of all of the top fractions to compute numerator for GAPr\n",
    "        low_gap_r += gap\n",
    "        num_low_users += 1 #increments group size to get the denominator to compute GAPr\n",
    "\n",
    "    elif user_id in medium_users.index:\n",
    "        medium_gap_r += gap\n",
    "        num_medium_users += 1\n",
    "\n",
    "    elif user_id in high_users.index:\n",
    "        high_gap_r += gap\n",
    "        num_high_users += 1\n",
    "alg_recommendations.append(num_times_recommended)\n",
    "            \n",
    "total_gap_r = (low_gap_r + medium_gap_r + high_gap_r) / (num_low_users + num_medium_users + num_high_users)\n",
    "low_gap_r = low_gap_r / num_low_users #Computing GAPr for each group size for each algorithm\n",
    "medium_gap_r = medium_gap_r / num_medium_users\n",
    "high_gap_r = high_gap_r / num_high_users\n",
    "\n",
    "total_gap_r_list.append(total_gap_r)\n",
    "low_gap_r_list.append(low_gap_r)\n",
    "medium_gap_r_list.append(medium_gap_r)\n",
    "high_gap_r_list.append(high_gap_r)\n",
    "\n",
    "print(\"done\")"
   ]
  },
  {
   "cell_type": "code",
   "execution_count": 61,
   "metadata": {},
   "outputs": [
    {
     "name": "stdout",
     "output_type": "stream",
     "text": [
      "2.663266993343709\n",
      "2.720945436349978\n",
      "2.409118205863711\n",
      "2.5877539912773777\n"
     ]
    }
   ],
   "source": [
    "#Computes change in GAP for each RecSys alg\n",
    "delta_gap_low_list = []\n",
    "delta_gap_medium_list = []\n",
    "delta_gap_high_list = []\n",
    "delta_gap_total_list = []\n",
    "\n",
    "for i in range(len(low_gap_r_list)):\n",
    "    delta_gap_low = ((low_gap_r_list[i] - low_gap_p) / low_gap_p)\n",
    "    delta_gap_medium = ((medium_gap_r_list[i] - medium_gap_p) / medium_gap_p)\n",
    "    delta_gap_high = ((high_gap_r_list[i] - high_gap_p) / high_gap_p)\n",
    "    delta_gap_total = ((total_gap_r_list[i] - total_gap_p) / total_gap_p)\n",
    "    \n",
    "    delta_gap_low_list.append(delta_gap_low)\n",
    "    delta_gap_medium_list.append(delta_gap_medium)\n",
    "    delta_gap_high_list.append(delta_gap_high)\n",
    "    delta_gap_total_list.append(delta_gap_total)\n",
    "    \n",
    "print(delta_gap_low_list[0])\n",
    "\n",
    "print(delta_gap_medium_list[0])\n",
    "\n",
    "print(delta_gap_high_list[0])\n",
    "\n",
    "print(delta_gap_total_list[0])"
   ]
  },
  {
   "cell_type": "code",
   "execution_count": 18,
   "metadata": {},
   "outputs": [
    {
     "name": "stderr",
     "output_type": "stream",
     "text": [
      "[16:28:19-140421]  Reading raw data file data_events.csv.\n",
      "[16:28:23-140421]  Applying filtering.\n",
      "[16:28:23-140421]  Shuffling data.\n",
      "[16:28:23-140421]  Creating training, validation and test set.\n",
      "[16:28:24-140421]  Skipped 25021 ratings in validation set.\n",
      "[16:28:24-140421]  Skipped 24878 ratings in test set.\n"
     ]
    },
    {
     "data": {
      "text/plain": [
       "Dataset(n_users=3000, n_items=304953, n_ratings=1705462)"
      ]
     },
     "execution_count": 18,
     "metadata": {},
     "output_type": "execute_result"
    }
   ],
   "source": [
    "datasetFull = DataProcessing(cfg_data_full).process_and_split()\n",
    "datasetFull"
   ]
  },
  {
   "cell_type": "code",
   "execution_count": 2,
   "metadata": {},
   "outputs": [
    {
     "ename": "NameError",
     "evalue": "name 'SparseDummySampler' is not defined",
     "output_type": "error",
     "traceback": [
      "\u001b[0;31m---------------------------------------------------------------------------\u001b[0m",
      "\u001b[0;31mNameError\u001b[0m                                 Traceback (most recent call last)",
      "\u001b[0;32m<ipython-input-2-1337b3c2c7b0>\u001b[0m in \u001b[0;36m<module>\u001b[0;34m\u001b[0m\n\u001b[0;32m----> 1\u001b[0;31m \u001b[0msparse_sampler_full\u001b[0m \u001b[0;34m=\u001b[0m \u001b[0mSparseDummySampler\u001b[0m\u001b[0;34m(\u001b[0m\u001b[0mdatasetFull\u001b[0m\u001b[0;34m,\u001b[0m \u001b[0mmode\u001b[0m\u001b[0;34m=\u001b[0m\u001b[0;34m\"train\"\u001b[0m\u001b[0;34m)\u001b[0m\u001b[0;34m\u001b[0m\u001b[0;34m\u001b[0m\u001b[0m\n\u001b[0m",
      "\u001b[0;31mNameError\u001b[0m: name 'SparseDummySampler' is not defined"
     ]
    }
   ],
   "source": [
    "sparse_sampler_full = SparseDummySampler(datasetFull, mode=\"train\")"
   ]
  },
  {
   "cell_type": "code",
   "execution_count": 20,
   "metadata": {},
   "outputs": [
    {
     "name": "stderr",
     "output_type": "stream",
     "text": [
      "[19:24:04-140421]  | item 30495/304953 | ms/user 338.65 |\n",
      "[22:14:27-140421]  | item 60990/304953 | ms/user 335.23 |\n",
      "[01:06:36-150421]  | item 91485/304953 | ms/user 338.72 |\n",
      "[03:59:30-150421]  | item 121980/304953 | ms/user 340.17 |\n",
      "[06:52:59-150421]  | item 152475/304953 | ms/user 341.34 |\n",
      "[09:48:10-150421]  | item 182970/304953 | ms/user 344.68 |\n",
      "[12:44:32-150421]  | item 213465/304953 | ms/user 347.00 |\n",
      "[15:44:01-150421]  | item 243960/304953 | ms/user 353.15 |\n",
      "[18:44:57-150421]  | item 274455/304953 | ms/user 355.98 |\n",
      "[21:47:56-150421]  | item 304950/304953 | ms/user 360.02 |\n",
      "[21:48:00-150421]  | training complete | total training time 105362.39 s |\n",
      "/home/jimi/music_fairness/music_fairness/lib/python3.6/site-packages/rectorch/metrics.py:245: RuntimeWarning: invalid value encountered in multiply\n",
      "  num = pred_scores * ground_truth\n",
      "[21:50:09-150421]  Saving SLIM model to slim_full...\n",
      "[21:50:15-150421]  Model saved!\n"
     ]
    }
   ],
   "source": [
    "sparse_sampler_full.train()\n",
    "slimFull = SLIM(l1_reg=.0003, l2_reg=.03)\n",
    "slimFull.train(sparse_sampler_full)\n",
    "\n",
    "sparse_sampler_full.test()\n",
    "results = evaluate(slimFull, sparse_sampler_full, [\"ap@5000\"])\n",
    "collect_results(results)\n",
    "\n",
    "slimFull.save_model(\"slim_full\")"
   ]
  },
  {
   "cell_type": "code",
   "execution_count": 1,
   "metadata": {},
   "outputs": [
    {
     "ename": "NameError",
     "evalue": "name 'sparse_sampler_full' is not defined",
     "output_type": "error",
     "traceback": [
      "\u001b[0;31m---------------------------------------------------------------------------\u001b[0m",
      "\u001b[0;31mNameError\u001b[0m                                 Traceback (most recent call last)",
      "\u001b[0;32m<ipython-input-1-63a1daf103f0>\u001b[0m in \u001b[0;36m<module>\u001b[0;34m\u001b[0m\n\u001b[0;32m----> 1\u001b[0;31m \u001b[0msparse_sampler_full\u001b[0m\u001b[0;34m.\u001b[0m\u001b[0mtest\u001b[0m\u001b[0;34m(\u001b[0m\u001b[0;34m)\u001b[0m\u001b[0;34m\u001b[0m\u001b[0;34m\u001b[0m\u001b[0m\n\u001b[0m\u001b[1;32m      2\u001b[0m \u001b[0;32mfor\u001b[0m \u001b[0m_\u001b[0m\u001b[0;34m,\u001b[0m \u001b[0;34m(\u001b[0m\u001b[0mdata_input\u001b[0m\u001b[0;34m,\u001b[0m \u001b[0mground_truth\u001b[0m\u001b[0;34m)\u001b[0m \u001b[0;32min\u001b[0m \u001b[0menumerate\u001b[0m\u001b[0;34m(\u001b[0m\u001b[0msparse_sampler_full\u001b[0m\u001b[0;34m)\u001b[0m\u001b[0;34m:\u001b[0m\u001b[0;34m\u001b[0m\u001b[0;34m\u001b[0m\u001b[0m\n\u001b[1;32m      3\u001b[0m     \u001b[0mdata_input\u001b[0m\u001b[0;34m,\u001b[0m \u001b[0mground_truth\u001b[0m \u001b[0;34m=\u001b[0m \u001b[0mprepare_for_prediction\u001b[0m\u001b[0;34m(\u001b[0m\u001b[0mdata_input\u001b[0m\u001b[0;34m,\u001b[0m \u001b[0mground_truth\u001b[0m\u001b[0;34m)\u001b[0m\u001b[0;34m\u001b[0m\u001b[0;34m\u001b[0m\u001b[0m\n\u001b[1;32m      4\u001b[0m     \u001b[0mpredictions\u001b[0m \u001b[0;34m=\u001b[0m \u001b[0mslimFull\u001b[0m\u001b[0;34m.\u001b[0m\u001b[0mpredict\u001b[0m\u001b[0;34m(\u001b[0m\u001b[0;34m*\u001b[0m\u001b[0mdata_input\u001b[0m\u001b[0;34m)\u001b[0m\u001b[0;34m[\u001b[0m\u001b[0;36m0\u001b[0m\u001b[0;34m]\u001b[0m\u001b[0;34m.\u001b[0m\u001b[0mcpu\u001b[0m\u001b[0;34m(\u001b[0m\u001b[0;34m)\u001b[0m\u001b[0;34m.\u001b[0m\u001b[0mnumpy\u001b[0m\u001b[0;34m(\u001b[0m\u001b[0;34m)\u001b[0m\u001b[0;34m\u001b[0m\u001b[0;34m\u001b[0m\u001b[0m\n\u001b[1;32m      5\u001b[0m \u001b[0mprint\u001b[0m\u001b[0;34m(\u001b[0m\u001b[0mpredictions\u001b[0m\u001b[0;34m)\u001b[0m\u001b[0;34m\u001b[0m\u001b[0;34m\u001b[0m\u001b[0m\n",
      "\u001b[0;31mNameError\u001b[0m: name 'sparse_sampler_full' is not defined"
     ]
    }
   ],
   "source": [
    "sparse_sampler_full.test()\n",
    "for _, (data_input, ground_truth) in enumerate(sparse_sampler_full):\n",
    "    data_input, ground_truth = prepare_for_prediction(data_input, ground_truth)\n",
    "    predictions = slimFull.predict(*data_input)[0].cpu().numpy()\n",
    "print(predictions)\n",
    "print(ground_truth)\n",
    "\n",
    "print(predictions.shape())\n",
    "print(predictions[0,:])"
   ]
  },
  {
   "cell_type": "code",
   "execution_count": 26,
   "metadata": {},
   "outputs": [],
   "source": [
    "id2u =  dict(map(reversed, datasetFull.u2id.items())) #dict for putting user ids back to normal\n",
    "id2i = dict(map(reversed, datasetFull.i2id.items())) #dict for translating artist ids back to normal"
   ]
  },
  {
   "cell_type": "code",
   "execution_count": 27,
   "metadata": {},
   "outputs": [
    {
     "name": "stdout",
     "output_type": "stream",
     "text": [
      "done\n"
     ]
    }
   ],
   "source": [
    "rectorch_top_n = get_top_artists(predictions, id2u, id2i)"
   ]
  },
  {
   "cell_type": "code",
   "execution_count": 28,
   "metadata": {},
   "outputs": [
    {
     "name": "stdout",
     "output_type": "stream",
     "text": [
      "done\n"
     ]
    }
   ],
   "source": [
    "# Train and test the four algorithms on our data set\n",
    "low_gap_r_list = []\n",
    "medium_gap_r_list = []\n",
    "high_gap_r_list = []\n",
    "total_gap_r_list= []\n",
    "#keeps track of the GAPr of each of the algs\n",
    "\n",
    "alg_recommendations = [] #Keeps track of how many times each artist was recommended\n",
    "\n",
    "#Will put for loop here with training, but for now we already have predictions\n",
    "    \n",
    "num_times_recommended = pd.DataFrame(artist_dist)\n",
    "num_times_recommended.columns = ['Recommendation Frequency']\n",
    "num_times_recommended['Recommendation Frequency'] = 0 #resets for each algorithm\n",
    "    \n",
    "    \n",
    "# resets to 0 before calculating for new alg\n",
    "low_gap_r = 0\n",
    "medium_gap_r = 0\n",
    "high_gap_r = 0\n",
    "    \n",
    "#keeps track of group size since it is unpredictable since the test set is selected randomly\n",
    "num_low_users = 0\n",
    "num_medium_users = 0\n",
    "num_high_users = 0\n",
    "    \n",
    "#keeps track of the mean absolute error of the current alg\n",
    "low_mae = 0\n",
    "medium_mae = 0\n",
    "high_mae = 0\n",
    "top_artists = rectorch_top_n #Gets the top N recommendations for each user\n",
    "    \n",
    "\n",
    "for user_id, ratings in top_artists.items():\n",
    "    artist_id_list = [] #user profile size to compute top fraction in GAPr\n",
    "    for artist_id in ratings:\n",
    "            \n",
    "        artist_id_list.append(artist_id)\n",
    "        num_times_recommended.loc[artist_id] += 1 #increments the number of times the artist was recommended\n",
    "\n",
    "    gap = sum(artist_dist[artist_id_list]/ num_users) / len(artist_id_list) #fraction in numerator for GAPr\n",
    "    #print(\"gap:\" ,gap)\n",
    "    if user_id in low_users.index: #summation of all of the top fractions to compute numerator for GAPr\n",
    "        low_gap_r += gap\n",
    "        num_low_users += 1 #increments group size to get the denominator to compute GAPr\n",
    "\n",
    "    elif user_id in medium_users.index:\n",
    "        medium_gap_r += gap\n",
    "        num_medium_users += 1\n",
    "\n",
    "    elif user_id in high_users.index:\n",
    "        high_gap_r += gap\n",
    "        num_high_users += 1\n",
    "alg_recommendations.append(num_times_recommended)\n",
    "            \n",
    "total_gap_r = (low_gap_r + medium_gap_r + high_gap_r) / (num_low_users + num_medium_users + num_high_users)\n",
    "low_gap_r = low_gap_r / num_low_users #Computing GAPr for each group size for each algorithm\n",
    "medium_gap_r = medium_gap_r / num_medium_users\n",
    "high_gap_r = high_gap_r / num_high_users\n",
    "\n",
    "total_gap_r_list.append(total_gap_r)\n",
    "low_gap_r_list.append(low_gap_r)\n",
    "medium_gap_r_list.append(medium_gap_r)\n",
    "high_gap_r_list.append(high_gap_r)\n",
    "\n",
    "print(\"done\")"
   ]
  },
  {
   "cell_type": "code",
   "execution_count": 29,
   "metadata": {},
   "outputs": [
    {
     "name": "stdout",
     "output_type": "stream",
     "text": [
      "2.723715030009914\n",
      "2.5596250781661016\n",
      "2.141520294075726\n",
      "2.450969770363109\n"
     ]
    }
   ],
   "source": [
    "#Computes change in GAP for each RecSys alg\n",
    "delta_gap_low_list = []\n",
    "delta_gap_medium_list = []\n",
    "delta_gap_high_list = []\n",
    "delta_gap_total_list = []\n",
    "\n",
    "for i in range(len(low_gap_r_list)):\n",
    "    delta_gap_low = ((low_gap_r_list[i] - low_gap_p) / low_gap_p)\n",
    "    delta_gap_medium = ((medium_gap_r_list[i] - medium_gap_p) / medium_gap_p)\n",
    "    delta_gap_high = ((high_gap_r_list[i] - high_gap_p) / high_gap_p)\n",
    "    delta_gap_total = ((total_gap_r_list[i] - total_gap_p) / total_gap_p)\n",
    "    \n",
    "    delta_gap_low_list.append(delta_gap_low)\n",
    "    delta_gap_medium_list.append(delta_gap_medium)\n",
    "    delta_gap_high_list.append(delta_gap_high)\n",
    "    delta_gap_total_list.append(delta_gap_total)\n",
    "    \n",
    "print(delta_gap_low_list[0])\n",
    "\n",
    "print(delta_gap_medium_list[0])\n",
    "\n",
    "print(delta_gap_high_list[0])\n",
    "\n",
    "print(delta_gap_total_list[0])"
   ]
  },
  {
   "cell_type": "code",
   "execution_count": null,
   "metadata": {},
   "outputs": [],
   "source": []
  }
 ],
 "metadata": {
  "kernelspec": {
   "display_name": "Python 3",
   "language": "python",
   "name": "python3"
  },
  "language_info": {
   "codemirror_mode": {
    "name": "ipython",
    "version": 3
   },
   "file_extension": ".py",
   "mimetype": "text/x-python",
   "name": "python",
   "nbconvert_exporter": "python",
   "pygments_lexer": "ipython3",
   "version": "3.6.9"
  }
 },
 "nbformat": 4,
 "nbformat_minor": 4
}
