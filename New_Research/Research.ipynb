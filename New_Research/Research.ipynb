{
 "cells": [
  {
   "cell_type": "code",
   "execution_count": 1,
   "metadata": {},
   "outputs": [],
   "source": [
    "import pandas as pd\n",
    "import numpy as np\n",
    "import matplotlib.pyplot as plot\n",
    "from scipy import stats\n",
    "from scipy import sparse\n",
    "import scipy\n",
    "from collections import defaultdict\n",
    "import implicit\n",
    "from implicit.als import AlternatingLeastSquares\n",
    "import random\n",
    "from sklearn.preprocessing import MinMaxScaler\n",
    "from sklearn import metrics\n",
    "from surprise import Reader, Dataset\n",
    "from surprise.model_selection import train_test_split\n",
    "from surprise import NormalPredictor, BaselineOnly, KNNBasic, KNNWithMeans, SVD, NMF, accuracy, SVDpp \n",
    "import rectorch\n",
    "from rectorch.models.baseline import SLIM, Random, Popularity\n",
    "from rectorch.models.mf import EASE\n",
    "from rectorch.data import DataProcessing\n",
    "from rectorch.samplers import ArrayDummySampler, SparseDummySampler\n",
    "from rectorch.evaluation import evaluate\n",
    "from rectorch.utils import collect_results, prepare_for_prediction"
   ]
  },
  {
   "cell_type": "markdown",
   "metadata": {},
   "source": [
    "# Data Parsing"
   ]
  },
  {
   "cell_type": "code",
   "execution_count": 2,
   "metadata": {},
   "outputs": [],
   "source": [
    "# initialize data\n",
    "item_threshold = 1 # used to filter out user/artist pairs that have been \n",
    "                   #listened to less than the threshold number of times\n",
    "popular_artist_fraction = 0.2 # top cutoff for what we consider popular artists, in this case the top 20%\n",
    "\n",
    "user_events_file = 'data/user_events.txt'\n",
    "low_user_file = 'data/low_main_users.txt'\n",
    "medium_user_file = 'data/medium_main_users.txt'\n",
    "high_user_file = 'data/high_main_users.txt'"
   ]
  },
  {
   "cell_type": "code",
   "execution_count": 3,
   "metadata": {},
   "outputs": [
    {
     "name": "stdout",
     "output_type": "stream",
     "text": [
      "No. of user events: 28718087\n"
     ]
    },
    {
     "data": {
      "text/html": [
       "<div>\n",
       "<style scoped>\n",
       "    .dataframe tbody tr th:only-of-type {\n",
       "        vertical-align: middle;\n",
       "    }\n",
       "\n",
       "    .dataframe tbody tr th {\n",
       "        vertical-align: top;\n",
       "    }\n",
       "\n",
       "    .dataframe thead th {\n",
       "        text-align: right;\n",
       "    }\n",
       "</style>\n",
       "<table border=\"1\" class=\"dataframe\">\n",
       "  <thead>\n",
       "    <tr style=\"text-align: right;\">\n",
       "      <th></th>\n",
       "      <th>user</th>\n",
       "      <th>artist</th>\n",
       "      <th>album</th>\n",
       "      <th>track</th>\n",
       "      <th>timestamp</th>\n",
       "    </tr>\n",
       "  </thead>\n",
       "  <tbody>\n",
       "    <tr>\n",
       "      <th>0</th>\n",
       "      <td>31435741</td>\n",
       "      <td>2</td>\n",
       "      <td>4</td>\n",
       "      <td>4</td>\n",
       "      <td>1385212958</td>\n",
       "    </tr>\n",
       "    <tr>\n",
       "      <th>1</th>\n",
       "      <td>31435741</td>\n",
       "      <td>2</td>\n",
       "      <td>4</td>\n",
       "      <td>4</td>\n",
       "      <td>1385212642</td>\n",
       "    </tr>\n",
       "    <tr>\n",
       "      <th>2</th>\n",
       "      <td>31435741</td>\n",
       "      <td>2</td>\n",
       "      <td>4</td>\n",
       "      <td>4</td>\n",
       "      <td>1385212325</td>\n",
       "    </tr>\n",
       "    <tr>\n",
       "      <th>3</th>\n",
       "      <td>31435741</td>\n",
       "      <td>2</td>\n",
       "      <td>4</td>\n",
       "      <td>4</td>\n",
       "      <td>1385209508</td>\n",
       "    </tr>\n",
       "    <tr>\n",
       "      <th>4</th>\n",
       "      <td>31435741</td>\n",
       "      <td>2</td>\n",
       "      <td>4</td>\n",
       "      <td>4</td>\n",
       "      <td>1385209191</td>\n",
       "    </tr>\n",
       "  </tbody>\n",
       "</table>\n",
       "</div>"
      ],
      "text/plain": [
       "       user  artist  album  track   timestamp\n",
       "0  31435741       2      4      4  1385212958\n",
       "1  31435741       2      4      4  1385212642\n",
       "2  31435741       2      4      4  1385212325\n",
       "3  31435741       2      4      4  1385209508\n",
       "4  31435741       2      4      4  1385209191"
      ]
     },
     "execution_count": 3,
     "metadata": {},
     "output_type": "execute_result"
    }
   ],
   "source": [
    "#read in user events file\n",
    "cols = ['user', 'artist', 'album', 'track', 'timestamp']\n",
    "df_events = pd.read_csv(user_events_file, sep='\\t', names=cols)\n",
    "print('No. of user events: ' + str(len(df_events)))\n",
    "df_events.head() # check it is all read in properly"
   ]
  },
  {
   "cell_type": "markdown",
   "metadata": {},
   "source": [
    "## User-Artist Matrix"
   ]
  },
  {
   "cell_type": "code",
   "execution_count": 4,
   "metadata": {},
   "outputs": [
    {
     "name": "stdout",
     "output_type": "stream",
     "text": [
      "No. user-artist pairs: 1755361\n"
     ]
    }
   ],
   "source": [
    "# create unique user-artist matrix\n",
    "df_events = df_events.groupby(['user', 'artist']).size().reset_index(name='listens')\n",
    "print('No. user-artist pairs: ' + str(len(df_events)))\n",
    "# each row contains a unique user-artist pair, along with how many times the\n",
    "# user has listened to the artist\n",
    "#df_events.sort_values(by=['user'])"
   ]
  },
  {
   "cell_type": "code",
   "execution_count": 5,
   "metadata": {},
   "outputs": [
    {
     "data": {
      "text/html": [
       "<div>\n",
       "<style scoped>\n",
       "    .dataframe tbody tr th:only-of-type {\n",
       "        vertical-align: middle;\n",
       "    }\n",
       "\n",
       "    .dataframe tbody tr th {\n",
       "        vertical-align: top;\n",
       "    }\n",
       "\n",
       "    .dataframe thead th {\n",
       "        text-align: right;\n",
       "    }\n",
       "</style>\n",
       "<table border=\"1\" class=\"dataframe\">\n",
       "  <thead>\n",
       "    <tr style=\"text-align: right;\">\n",
       "      <th></th>\n",
       "      <th>user</th>\n",
       "      <th>artist</th>\n",
       "      <th>listens</th>\n",
       "    </tr>\n",
       "  </thead>\n",
       "  <tbody>\n",
       "    <tr>\n",
       "      <th>0</th>\n",
       "      <td>1021445</td>\n",
       "      <td>12</td>\n",
       "      <td>43</td>\n",
       "    </tr>\n",
       "    <tr>\n",
       "      <th>1</th>\n",
       "      <td>1021445</td>\n",
       "      <td>16</td>\n",
       "      <td>1</td>\n",
       "    </tr>\n",
       "    <tr>\n",
       "      <th>2</th>\n",
       "      <td>1021445</td>\n",
       "      <td>28</td>\n",
       "      <td>7</td>\n",
       "    </tr>\n",
       "    <tr>\n",
       "      <th>3</th>\n",
       "      <td>1021445</td>\n",
       "      <td>29</td>\n",
       "      <td>1</td>\n",
       "    </tr>\n",
       "    <tr>\n",
       "      <th>4</th>\n",
       "      <td>1021445</td>\n",
       "      <td>46</td>\n",
       "      <td>1</td>\n",
       "    </tr>\n",
       "    <tr>\n",
       "      <th>...</th>\n",
       "      <td>...</td>\n",
       "      <td>...</td>\n",
       "      <td>...</td>\n",
       "    </tr>\n",
       "    <tr>\n",
       "      <th>1395</th>\n",
       "      <td>1021445</td>\n",
       "      <td>1864220</td>\n",
       "      <td>3</td>\n",
       "    </tr>\n",
       "    <tr>\n",
       "      <th>1396</th>\n",
       "      <td>1021445</td>\n",
       "      <td>1864221</td>\n",
       "      <td>4</td>\n",
       "    </tr>\n",
       "    <tr>\n",
       "      <th>1397</th>\n",
       "      <td>1021445</td>\n",
       "      <td>1864222</td>\n",
       "      <td>1</td>\n",
       "    </tr>\n",
       "    <tr>\n",
       "      <th>1398</th>\n",
       "      <td>1045479</td>\n",
       "      <td>3</td>\n",
       "      <td>9</td>\n",
       "    </tr>\n",
       "    <tr>\n",
       "      <th>1399</th>\n",
       "      <td>1045479</td>\n",
       "      <td>11</td>\n",
       "      <td>1</td>\n",
       "    </tr>\n",
       "  </tbody>\n",
       "</table>\n",
       "<p>1400 rows × 3 columns</p>\n",
       "</div>"
      ],
      "text/plain": [
       "         user   artist  listens\n",
       "0     1021445       12       43\n",
       "1     1021445       16        1\n",
       "2     1021445       28        7\n",
       "3     1021445       29        1\n",
       "4     1021445       46        1\n",
       "...       ...      ...      ...\n",
       "1395  1021445  1864220        3\n",
       "1396  1021445  1864221        4\n",
       "1397  1021445  1864222        1\n",
       "1398  1045479        3        9\n",
       "1399  1045479       11        1\n",
       "\n",
       "[1400 rows x 3 columns]"
      ]
     },
     "execution_count": 5,
     "metadata": {},
     "output_type": "execute_result"
    }
   ],
   "source": [
    "df_events.head(1400)"
   ]
  },
  {
   "cell_type": "code",
   "execution_count": 6,
   "metadata": {},
   "outputs": [
    {
     "name": "stdout",
     "output_type": "stream",
     "text": [
      "No. filtered user-artist pairs: 1755361\n",
      "No. unique artists: 352805\n"
     ]
    }
   ],
   "source": [
    "# filters out artist/user pairs who havent been listened two more than\n",
    "# item_threshold amount of times to reduce potential load\n",
    "# kept to 1 currently, so we dont filter out any data\n",
    "df_events = df_events[df_events['listens'] >= item_threshold] \n",
    "\n",
    "# With 1, we see no difference between user-artist pairs here\n",
    "print('No. filtered user-artist pairs: ' + str(len(df_events))) \n",
    "\n",
    "# here, we see the number of unique artists in our matrix\n",
    "print('No. unique artists: ' + str(len(df_events['artist'].unique())))"
   ]
  },
  {
   "cell_type": "markdown",
   "metadata": {},
   "source": [
    "#### How many artists have users listened to?"
   ]
  },
  {
   "cell_type": "code",
   "execution_count": 7,
   "metadata": {},
   "outputs": [
    {
     "name": "stdout",
     "output_type": "stream",
     "text": [
      "Mean artists of all users: 585.1203333333333\n",
      "Min artists of all users: 18\n",
      "Max artists of all users: 4011\n"
     ]
    },
    {
     "data": {
      "text/plain": [
       "41888522    4011\n",
       "4393555     3700\n",
       "40029632    3678\n",
       "26874346    3544\n",
       "29736410    3529\n",
       "Name: user, dtype: int64"
      ]
     },
     "execution_count": 7,
     "metadata": {},
     "output_type": "execute_result"
    }
   ],
   "source": [
    "# get matrix where each row is a user-id and how many artists they've \n",
    "#listened to\n",
    "user_dist = df_events['user'].value_counts() \n",
    "\n",
    "# counts how many unique users there are. prints out user id & a count of how \n",
    "# many rows they're included in, which effectively shows how many artists \n",
    "# they listen to\n",
    "num_users = len(user_dist)\n",
    "print('Mean artists of all users: ' + str(user_dist.mean()))\n",
    "print('Min artists of all users: ' + str(user_dist.min()))\n",
    "print('Max artists of all users: ' + str(user_dist.max()))\n",
    "\n",
    "user_dist.head()"
   ]
  },
  {
   "cell_type": "markdown",
   "metadata": {},
   "source": [
    "#### How many users listen to an artist?"
   ]
  },
  {
   "cell_type": "code",
   "execution_count": 8,
   "metadata": {},
   "outputs": [
    {
     "name": "stdout",
     "output_type": "stream",
     "text": [
      "No. artists: 352805\n"
     ]
    },
    {
     "data": {
      "text/plain": [
       "135     1389\n",
       "1602    1359\n",
       "46      1325\n",
       "320     1297\n",
       "27      1290\n",
       "368     1255\n",
       "153     1250\n",
       "140     1213\n",
       "54      1179\n",
       "55      1141\n",
       "238     1132\n",
       "16      1125\n",
       "1677    1110\n",
       "3       1084\n",
       "245     1080\n",
       "295     1060\n",
       "301     1056\n",
       "924     1019\n",
       "379     1016\n",
       "470     1013\n",
       "Name: artist, dtype: int64"
      ]
     },
     "execution_count": 8,
     "metadata": {},
     "output_type": "execute_result"
    }
   ],
   "source": [
    "# get artist distribution\n",
    "# same as previous but with artists, shows artist-id and how many times they\n",
    "# were listened to buy unique users\n",
    "artist_dist = df_events['artist'].value_counts()\n",
    "num_artists = len(artist_dist)\n",
    "print('No. artists: ' + str(num_artists))\n",
    "df_events['artist'].value_counts().head(20)"
   ]
  },
  {
   "cell_type": "code",
   "execution_count": 9,
   "metadata": {},
   "outputs": [
    {
     "name": "stdout",
     "output_type": "stream",
     "text": [
      "No. top artists: 70561\n"
     ]
    }
   ],
   "source": [
    "# get number of  popular artists\n",
    "num_top_artists = int(popular_artist_fraction * num_artists)\n",
    "\n",
    "# getting the top top_fraction (0.2) percent of artists, so finding how many\n",
    "# artists make up 20% of total artists, and then only using the artists those\n",
    "#number of the most popular aritsts\n",
    "top_artist_dist = artist_dist[:num_top_artists]\n",
    "print('No. top artists: ' + str(len(top_artist_dist)))"
   ]
  },
  {
   "cell_type": "code",
   "execution_count": 10,
   "metadata": {},
   "outputs": [
    {
     "name": "stdout",
     "output_type": "stream",
     "text": [
      "Num users: 3000\n"
     ]
    }
   ],
   "source": [
    "# read in users\n",
    "# user file is just user_id and their mainstreaminess value \n",
    "low_users = pd.read_csv(low_user_file, sep=',').set_index('user_id')\n",
    "medium_users = pd.read_csv(medium_user_file, sep=',').set_index('user_id')\n",
    "high_users = pd.read_csv(high_user_file, sep=',').set_index('user_id')\n",
    "num_users = len(low_users) + len(medium_users) + len(high_users)\n",
    "print('Num users: ' + str(num_users))"
   ]
  },
  {
   "cell_type": "markdown",
   "metadata": {},
   "source": [
    "## Getting Users From Each Popularity Group & Their 10 Most Listened To Artists "
   ]
  },
  {
   "cell_type": "markdown",
   "metadata": {},
   "source": [
    "### (For Analysis of Streaming Service Algorithmic Bias)"
   ]
  },
  {
   "cell_type": "code",
   "execution_count": 11,
   "metadata": {},
   "outputs": [
    {
     "data": {
      "text/html": [
       "<div>\n",
       "<style scoped>\n",
       "    .dataframe tbody tr th:only-of-type {\n",
       "        vertical-align: middle;\n",
       "    }\n",
       "\n",
       "    .dataframe tbody tr th {\n",
       "        vertical-align: top;\n",
       "    }\n",
       "\n",
       "    .dataframe thead th {\n",
       "        text-align: right;\n",
       "    }\n",
       "</style>\n",
       "<table border=\"1\" class=\"dataframe\">\n",
       "  <thead>\n",
       "    <tr style=\"text-align: right;\">\n",
       "      <th></th>\n",
       "      <th>user</th>\n",
       "      <th>artist</th>\n",
       "      <th>listens</th>\n",
       "    </tr>\n",
       "  </thead>\n",
       "  <tbody>\n",
       "    <tr>\n",
       "      <th>0</th>\n",
       "      <td>1021445</td>\n",
       "      <td>12</td>\n",
       "      <td>43</td>\n",
       "    </tr>\n",
       "    <tr>\n",
       "      <th>1</th>\n",
       "      <td>1021445</td>\n",
       "      <td>16</td>\n",
       "      <td>1</td>\n",
       "    </tr>\n",
       "    <tr>\n",
       "      <th>2</th>\n",
       "      <td>1021445</td>\n",
       "      <td>28</td>\n",
       "      <td>7</td>\n",
       "    </tr>\n",
       "    <tr>\n",
       "      <th>3</th>\n",
       "      <td>1021445</td>\n",
       "      <td>29</td>\n",
       "      <td>1</td>\n",
       "    </tr>\n",
       "    <tr>\n",
       "      <th>4</th>\n",
       "      <td>1021445</td>\n",
       "      <td>46</td>\n",
       "      <td>1</td>\n",
       "    </tr>\n",
       "  </tbody>\n",
       "</table>\n",
       "</div>"
      ],
      "text/plain": [
       "      user  artist  listens\n",
       "0  1021445      12       43\n",
       "1  1021445      16        1\n",
       "2  1021445      28        7\n",
       "3  1021445      29        1\n",
       "4  1021445      46        1"
      ]
     },
     "execution_count": 11,
     "metadata": {},
     "output_type": "execute_result"
    }
   ],
   "source": [
    "df_events.head()"
   ]
  },
  {
   "cell_type": "code",
   "execution_count": 12,
   "metadata": {},
   "outputs": [
    {
     "data": {
      "text/html": [
       "<div>\n",
       "<style scoped>\n",
       "    .dataframe tbody tr th:only-of-type {\n",
       "        vertical-align: middle;\n",
       "    }\n",
       "\n",
       "    .dataframe tbody tr th {\n",
       "        vertical-align: top;\n",
       "    }\n",
       "\n",
       "    .dataframe thead th {\n",
       "        text-align: right;\n",
       "    }\n",
       "</style>\n",
       "<table border=\"1\" class=\"dataframe\">\n",
       "  <thead>\n",
       "    <tr style=\"text-align: right;\">\n",
       "      <th></th>\n",
       "      <th>user</th>\n",
       "      <th>artist</th>\n",
       "      <th>listens</th>\n",
       "    </tr>\n",
       "  </thead>\n",
       "  <tbody>\n",
       "    <tr>\n",
       "      <th>1513514</th>\n",
       "      <td>42845367</td>\n",
       "      <td>495</td>\n",
       "      <td>205</td>\n",
       "    </tr>\n",
       "    <tr>\n",
       "      <th>1513639</th>\n",
       "      <td>42845367</td>\n",
       "      <td>15624</td>\n",
       "      <td>201</td>\n",
       "    </tr>\n",
       "    <tr>\n",
       "      <th>1513657</th>\n",
       "      <td>42845367</td>\n",
       "      <td>27107</td>\n",
       "      <td>171</td>\n",
       "    </tr>\n",
       "    <tr>\n",
       "      <th>1513483</th>\n",
       "      <td>42845367</td>\n",
       "      <td>163</td>\n",
       "      <td>156</td>\n",
       "    </tr>\n",
       "    <tr>\n",
       "      <th>1513485</th>\n",
       "      <td>42845367</td>\n",
       "      <td>172</td>\n",
       "      <td>156</td>\n",
       "    </tr>\n",
       "  </tbody>\n",
       "</table>\n",
       "</div>"
      ],
      "text/plain": [
       "             user  artist  listens\n",
       "1513514  42845367     495      205\n",
       "1513639  42845367   15624      201\n",
       "1513657  42845367   27107      171\n",
       "1513483  42845367     163      156\n",
       "1513485  42845367     172      156"
      ]
     },
     "execution_count": 12,
     "metadata": {},
     "output_type": "execute_result"
    }
   ],
   "source": [
    "toList = df_events.loc[df_events['user'] == 42845367].sort_values(by=['listens'], ascending=False)\n",
    "toList.head() #grabbing random users top 10 artists in 1 of the 3 groups"
   ]
  },
  {
   "cell_type": "code",
   "execution_count": 13,
   "metadata": {},
   "outputs": [
    {
     "name": "stdout",
     "output_type": "stream",
     "text": [
      "[495, 15624, 27107, 163, 172, 4311, 8047, 7, 56, 245, 52741, 173416, 140, 1703, 3887, 42794, 1092, 2558, 54, 42835]\n"
     ]
    }
   ],
   "source": [
    "artist_list = toList['artist'].tolist()[:20]\n",
    "print(artist_list)"
   ]
  },
  {
   "cell_type": "code",
   "execution_count": 14,
   "metadata": {},
   "outputs": [
    {
     "name": "stdout",
     "output_type": "stream",
     "text": [
      "Slash \t\n",
      "The Rasmus \t\n",
      "Enrique Bunbury \t\n",
      "Guns N' Roses \t\n",
      "Rammstein \t\n",
      "Velvet Revolver \t\n",
      "Glenn Miller \t\n",
      "Dream Theater \t\n",
      "Pantera \t\n",
      "Led Zeppelin \t\n",
      "Café Tacvba \t\n",
      "Hong Kong Blood Opera \t\n",
      "Queen \t\n",
      "Maroon 5 \t\n",
      "Elvis Presley \t\n",
      "Jarabe de Palo \t\n",
      "Marilyn Manson \t\n",
      "Bon Jovi \t\n",
      "Pink Floyd \t\n",
      "Héroes Del Silencio \t\n"
     ]
    }
   ],
   "source": [
    "artists_txt = './data/LFM-1b-Full/LFM-1b_artists.txt'\n",
    "artist_cols = ['artist_id', 'artist_name']\n",
    "artists_df = pd.read_csv(artists_txt, sep='\\t', names=artist_cols)\n",
    "\n",
    "for artist_id in artist_list:\n",
    "    print(artists_df.loc[artists_df['artist_id'] == artist_id]['artist_name'].to_numpy()[0], \"\\t\")"
   ]
  },
  {
   "cell_type": "code",
   "execution_count": 15,
   "metadata": {},
   "outputs": [
    {
     "name": "stdout",
     "output_type": "stream",
     "text": [
      "done\n"
     ]
    }
   ],
   "source": [
    "top_artists_dict = defaultdict(list)\n",
    "for a in artists_df.itertuples():\n",
    "    try:\n",
    "        count = artist_dist[a.artist_id]\n",
    "    except Exception:\n",
    "        count = 0\n",
    "        top_artists_dict[a.artist_name].append(count)\n",
    "    #print(a.artist_id, \"\\t\" , a.artist_name , \"\\t\", count)\n",
    "    top_artists_dict[a.artist_name].append(count)\n",
    "    \n",
    "print(\"done\")"
   ]
  },
  {
   "cell_type": "code",
   "execution_count": 16,
   "metadata": {},
   "outputs": [],
   "source": [
    "import csv\n",
    "\n",
    "w = csv.writer(open(\"pop_dict.csv\", \"w\"))\n",
    "for key, val in top_artists_dict.items():\n",
    "    w.writerow([key, val])\n"
   ]
  },
  {
   "cell_type": "code",
   "execution_count": 17,
   "metadata": {},
   "outputs": [],
   "source": [
    "with open('pop_dict.csv', mode='r') as infile:\n",
    "    reader = csv.reader(infile)\n",
    "    with open('pop_dict_new.csv', mode='w') as outfile:\n",
    "        writer = csv.writer(outfile)\n",
    "        mydict = {rows[0]:rows[1] for rows in reader}"
   ]
  },
  {
   "cell_type": "code",
   "execution_count": 18,
   "metadata": {},
   "outputs": [
    {
     "ename": "SyntaxError",
     "evalue": "invalid syntax (<ipython-input-18-682ea7e6ddb3>, line 2)",
     "output_type": "error",
     "traceback": [
      "\u001b[0;36m  File \u001b[0;32m\"<ipython-input-18-682ea7e6ddb3>\"\u001b[0;36m, line \u001b[0;32m2\u001b[0m\n\u001b[0;31m    while artist != \"done\"\u001b[0m\n\u001b[0m                          ^\u001b[0m\n\u001b[0;31mSyntaxError\u001b[0m\u001b[0;31m:\u001b[0m invalid syntax\n"
     ]
    }
   ],
   "source": [
    "artist= \"\"\n",
    "while artist != \"done\"\n",
    "    choice = input(\"Enter Artist Name:\")\n",
    "    if choice not in mydict:\n",
    "        print(\"Artist not in database\")\n",
    "    else:\n",
    "        print(\"Pop Score: \", mydict[choice])\n",
    "    "
   ]
  },
  {
   "cell_type": "markdown",
   "metadata": {},
   "source": [
    "# Calculating GAP of User Profiles"
   ]
  },
  {
   "cell_type": "code",
   "execution_count": 12,
   "metadata": {},
   "outputs": [
    {
     "name": "stdout",
     "output_type": "stream",
     "text": [
      "Low count (for check): 1000\n",
      "Med count (for check): 1000\n",
      "High count (for check): 1000\n",
      "0.04963328792099549\n",
      "0.054371119359489226\n",
      "0.06286028679778642\n"
     ]
    }
   ],
   "source": [
    "# placeholder vars for numerator of GAPp, waiting to be divided by sie of group\n",
    "low_gap_p = 0\n",
    "medium_gap_p = 0\n",
    "high_gap_p = 0\n",
    "total_gap_p = 0\n",
    "#Count for sanity check\n",
    "low_count = 0\n",
    "med_count = 0\n",
    "high_count = 0\n",
    "\n",
    "for u, df in df_events.groupby('user'):\n",
    "    \n",
    "    no_user_artists = len(set(df['artist'])) # profile size //number of artists in users profile\n",
    "    # get popularity (= fraction of users interacted with item) of user items and calculate average of it\n",
    "    user_pop_artist_fraq = sum(artist_dist[df['artist']] / num_users) / no_user_artists \n",
    "    \n",
    "    if u in low_users.index: # get user group-specific values\n",
    "        low_gap_p += user_pop_artist_fraq\n",
    "        low_count += 1\n",
    "    elif u in medium_users.index:\n",
    "        medium_gap_p += user_pop_artist_fraq\n",
    "        med_count += 1\n",
    "    else:\n",
    "        high_gap_p += user_pop_artist_fraq\n",
    "        high_count += 1\n",
    "\n",
    "total_gap_p = (low_gap_p + medium_gap_p + high_gap_p) / num_users\n",
    "low_gap_p /= len(low_users) # average popularity of items/artists in low/med/high groups (gap = group average popularity)\n",
    "medium_gap_p /= len(medium_users)\n",
    "high_gap_p /= len(high_users)\n",
    "print('Low count (for check): ' + str(low_count))\n",
    "print('Med count (for check): ' + str(med_count))\n",
    "print('High count (for check): ' + str(high_count))\n",
    "print(low_gap_p)\n",
    "print(medium_gap_p)\n",
    "print(high_gap_p)"
   ]
  },
  {
   "cell_type": "markdown",
   "metadata": {},
   "source": [
    "### Min-Max Scaling Ratings (Not Using Right Now)"
   ]
  },
  {
   "cell_type": "code",
   "execution_count": 12,
   "metadata": {},
   "outputs": [
    {
     "data": {
      "text/plain": [
       "\"scaled_df_events = pd.DataFrame()\\nfor user_id, group in df_events.groupby('user'):\\n    #print(group)\\n    min_listens = group['listens'].min()\\n    max_listens = group['listens'].max()\\n    std = (group['listens'] - min_listens) / (max_listens - min_listens)\\n    scaled_listens = std * 999 + 1\\n    to_replace = group.copy()\\n    to_replace['listens'] = scaled_listens\\n    #print(to_replace)\\n    scaled_df_events = scaled_df_events.append(to_replace)\\nscaled_df_events.head()  \""
      ]
     },
     "execution_count": 12,
     "metadata": {},
     "output_type": "execute_result"
    }
   ],
   "source": [
    "### Scale listening counts on a scale from 1-1000\n",
    "\"\"\"scaled_df_events = pd.DataFrame()\n",
    "for user_id, group in df_events.groupby('user'):\n",
    "    #print(group)\n",
    "    min_listens = group['listens'].min()\n",
    "    max_listens = group['listens'].max()\n",
    "    std = (group['listens'] - min_listens) / (max_listens - min_listens)\n",
    "    scaled_listens = std * 999 + 1\n",
    "    to_replace = group.copy()\n",
    "    to_replace['listens'] = scaled_listens\n",
    "    #print(to_replace)\n",
    "    scaled_df_events = scaled_df_events.append(to_replace)\n",
    "scaled_df_events.head()  \"\"\" \n",
    "#df_events.groupby('user').head()"
   ]
  },
  {
   "cell_type": "markdown",
   "metadata": {},
   "source": [
    "# Rectorch Training"
   ]
  },
  {
   "cell_type": "markdown",
   "metadata": {},
   "source": [
    "### Setting Up The Data"
   ]
  },
  {
   "cell_type": "code",
   "execution_count": 13,
   "metadata": {},
   "outputs": [
    {
     "name": "stdout",
     "output_type": "stream",
     "text": [
      "done\n"
     ]
    }
   ],
   "source": [
    "data_events = df_events.copy(deep=True)\n",
    "data_events.to_csv('data_events.csv',index=False,header=False )\n",
    "print(\"done\")"
   ]
  },
  {
   "cell_type": "code",
   "execution_count": 13,
   "metadata": {},
   "outputs": [],
   "source": [
    "cfg_data_test = {\n",
    "    \"processing\": {\n",
    "        \"data_path\": \"data_events.csv\",\n",
    "        \"threshold\": 0,\n",
    "        \"separator\": \",\",\n",
    "        \"header\": None,\n",
    "        \"u_min\": 50,\n",
    "        \"i_min\": 50\n",
    "    },\n",
    "    \"splitting\": {\n",
    "        \"split_type\": \"horizontal\",\n",
    "        \"sort_by\": None,\n",
    "        \"seed\": 98765,\n",
    "        \"shuffle\": True,\n",
    "        \"valid_size\": 0.1,\n",
    "        \"test_size\": 0.1,\n",
    "        \"test_prop\": 0.2\n",
    "    }\n",
    "}\n",
    "\n",
    "\n",
    "\n",
    "cfg_data_full = {\n",
    "    \"processing\": {\n",
    "        \"data_path\": \"data_events.csv\",\n",
    "        \"threshold\": 0,\n",
    "        \"separator\": \",\",\n",
    "        \"header\": None,\n",
    "        \"u_min\": 0,\n",
    "        \"i_min\": 0\n",
    "    },\n",
    "    \"splitting\": {\n",
    "        \"split_type\": \"horizontal\",\n",
    "        \"sort_by\": None,\n",
    "        \"seed\": 98765,\n",
    "        \"shuffle\": True,\n",
    "        \"valid_size\": 0.1,\n",
    "        \"test_size\": 0.1,\n",
    "        \"test_prop\": 0.2\n",
    "    }\n",
    "}"
   ]
  },
  {
   "cell_type": "code",
   "execution_count": 14,
   "metadata": {},
   "outputs": [
    {
     "name": "stderr",
     "output_type": "stream",
     "text": [
      "[10:21:35-070521]  Reading raw data file data_events.csv.\n",
      "[10:21:39-070521]  Applying filtering.\n",
      "[10:21:40-070521]  Filtered 988317 ratings.\n",
      "[10:21:40-070521]  Shuffling data.\n",
      "[10:21:40-070521]  Creating training, validation and test set.\n"
     ]
    },
    {
     "data": {
      "text/plain": [
       "Dataset(n_users=2804, n_items=5131, n_ratings=767044)"
      ]
     },
     "execution_count": 14,
     "metadata": {},
     "output_type": "execute_result"
    }
   ],
   "source": [
    "dataset = DataProcessing(cfg_data_test).process_and_split()\n",
    "dataset"
   ]
  },
  {
   "cell_type": "code",
   "execution_count": 15,
   "metadata": {},
   "outputs": [
    {
     "name": "stderr",
     "output_type": "stream",
     "text": [
      "[10:21:41-070521]  Reading raw data file data_events.csv.\n",
      "[10:21:46-070521]  Applying filtering.\n",
      "[10:21:46-070521]  Shuffling data.\n",
      "[10:21:46-070521]  Creating training, validation and test set.\n",
      "[10:21:47-070521]  Skipped 25021 ratings in validation set.\n",
      "[10:21:47-070521]  Skipped 24878 ratings in test set.\n"
     ]
    },
    {
     "data": {
      "text/plain": [
       "Dataset(n_users=3000, n_items=304953, n_ratings=1705462)"
      ]
     },
     "execution_count": 15,
     "metadata": {},
     "output_type": "execute_result"
    }
   ],
   "source": [
    "\n",
    "datasetFull = DataProcessing(cfg_data_full).process_and_split()\n",
    "datasetFull"
   ]
  },
  {
   "cell_type": "code",
   "execution_count": 18,
   "metadata": {},
   "outputs": [],
   "source": [
    "sparse_sampler = SparseDummySampler(dataset, mode=\"train\")"
   ]
  },
  {
   "cell_type": "markdown",
   "metadata": {},
   "source": [
    "### Grid Search on SLIM"
   ]
  },
  {
   "cell_type": "code",
   "execution_count": 25,
   "metadata": {},
   "outputs": [
    {
     "name": "stdout",
     "output_type": "stream",
     "text": [
      "0.5\n",
      "0.5\n"
     ]
    },
    {
     "name": "stderr",
     "output_type": "stream",
     "text": [
      "[18:54:58-270421]  | item 513/5131 | ms/user 3.70 |\n",
      "[18:55:00-270421]  | item 1026/5131 | ms/user 3.62 |\n",
      "[18:55:02-270421]  | item 1539/5131 | ms/user 3.64 |\n",
      "[18:55:03-270421]  | item 2052/5131 | ms/user 3.63 |\n",
      "[18:55:05-270421]  | item 2565/5131 | ms/user 3.65 |\n",
      "[18:55:07-270421]  | item 3078/5131 | ms/user 3.64 |\n",
      "[18:55:09-270421]  | item 3591/5131 | ms/user 3.66 |\n",
      "[18:55:11-270421]  | item 4104/5131 | ms/user 3.65 |\n",
      "[18:55:13-270421]  | item 4617/5131 | ms/user 3.65 |\n",
      "[18:55:15-270421]  | item 5130/5131 | ms/user 3.64 |\n",
      "[18:55:15-270421]  | training complete | total training time 18.74 s |\n",
      "/home/jimi/music_fairness/music_fairness/lib/python3.6/site-packages/rectorch/metrics.py:245: RuntimeWarning: invalid value encountered in multiply\n",
      "  num = pred_scores * ground_truth\n"
     ]
    },
    {
     "name": "stdout",
     "output_type": "stream",
     "text": [
      "{'ap@50000': (0.0, 0.0)}\n",
      "0.0\n",
      "0.5\n",
      "1.0\n"
     ]
    },
    {
     "name": "stderr",
     "output_type": "stream",
     "text": [
      "[18:55:17-270421]  | item 513/5131 | ms/user 3.64 |\n",
      "[18:55:18-270421]  | item 1026/5131 | ms/user 3.64 |\n",
      "[18:55:20-270421]  | item 1539/5131 | ms/user 3.64 |\n",
      "[18:55:22-270421]  | item 2052/5131 | ms/user 3.65 |\n",
      "[18:55:24-270421]  | item 2565/5131 | ms/user 3.65 |\n",
      "[18:55:26-270421]  | item 3078/5131 | ms/user 3.64 |\n",
      "[18:55:28-270421]  | item 3591/5131 | ms/user 3.64 |\n",
      "[18:55:30-270421]  | item 4104/5131 | ms/user 3.65 |\n",
      "[18:55:32-270421]  | item 4617/5131 | ms/user 3.72 |\n",
      "[18:55:33-270421]  | item 5130/5131 | ms/user 3.69 |\n",
      "[18:55:33-270421]  | training complete | total training time 18.78 s |\n",
      "/home/jimi/music_fairness/music_fairness/lib/python3.6/site-packages/rectorch/metrics.py:245: RuntimeWarning: invalid value encountered in multiply\n",
      "  num = pred_scores * ground_truth\n"
     ]
    },
    {
     "name": "stdout",
     "output_type": "stream",
     "text": [
      "{'ap@50000': (0.0, 0.0)}\n",
      "0.0\n",
      "0.5\n",
      "1.5\n"
     ]
    },
    {
     "name": "stderr",
     "output_type": "stream",
     "text": [
      "[18:55:35-270421]  | item 513/5131 | ms/user 3.65 |\n",
      "[18:55:37-270421]  | item 1026/5131 | ms/user 3.66 |\n",
      "[18:55:39-270421]  | item 1539/5131 | ms/user 3.70 |\n",
      "[18:55:41-270421]  | item 2052/5131 | ms/user 3.66 |\n",
      "[18:55:43-270421]  | item 2565/5131 | ms/user 3.65 |\n",
      "[18:55:45-270421]  | item 3078/5131 | ms/user 3.72 |\n",
      "[18:55:47-270421]  | item 3591/5131 | ms/user 3.61 |\n",
      "[18:55:49-270421]  | item 4104/5131 | ms/user 3.59 |\n",
      "[18:55:50-270421]  | item 4617/5131 | ms/user 3.56 |\n",
      "[18:55:52-270421]  | item 5130/5131 | ms/user 3.56 |\n",
      "[18:55:52-270421]  | training complete | total training time 18.68 s |\n",
      "/home/jimi/music_fairness/music_fairness/lib/python3.6/site-packages/rectorch/metrics.py:245: RuntimeWarning: invalid value encountered in multiply\n",
      "  num = pred_scores * ground_truth\n"
     ]
    },
    {
     "name": "stdout",
     "output_type": "stream",
     "text": [
      "{'ap@50000': (0.0, 0.0)}\n",
      "0.0\n",
      "0.5\n",
      "2.0\n"
     ]
    },
    {
     "name": "stderr",
     "output_type": "stream",
     "text": [
      "[18:55:54-270421]  | item 513/5131 | ms/user 3.64 |\n",
      "[18:55:56-270421]  | item 1026/5131 | ms/user 3.61 |\n",
      "[18:55:58-270421]  | item 1539/5131 | ms/user 3.60 |\n",
      "[18:56:00-270421]  | item 2052/5131 | ms/user 3.61 |\n",
      "[18:56:02-270421]  | item 2565/5131 | ms/user 3.60 |\n",
      "[18:56:03-270421]  | item 3078/5131 | ms/user 3.60 |\n",
      "[18:56:05-270421]  | item 3591/5131 | ms/user 3.61 |\n",
      "[18:56:07-270421]  | item 4104/5131 | ms/user 3.60 |\n",
      "[18:56:09-270421]  | item 4617/5131 | ms/user 3.61 |\n",
      "[18:56:11-270421]  | item 5130/5131 | ms/user 3.69 |\n",
      "[18:56:11-270421]  | training complete | total training time 18.58 s |\n",
      "/home/jimi/music_fairness/music_fairness/lib/python3.6/site-packages/rectorch/metrics.py:245: RuntimeWarning: invalid value encountered in multiply\n",
      "  num = pred_scores * ground_truth\n"
     ]
    },
    {
     "name": "stdout",
     "output_type": "stream",
     "text": [
      "{'ap@50000': (0.0, 0.0)}\n",
      "0.0\n",
      "0.5\n",
      "2.5\n"
     ]
    },
    {
     "name": "stderr",
     "output_type": "stream",
     "text": [
      "[18:56:13-270421]  | item 513/5131 | ms/user 3.60 |\n",
      "[18:56:15-270421]  | item 1026/5131 | ms/user 3.60 |\n",
      "[18:56:16-270421]  | item 1539/5131 | ms/user 3.63 |\n",
      "[18:56:18-270421]  | item 2052/5131 | ms/user 3.60 |\n",
      "[18:56:20-270421]  | item 2565/5131 | ms/user 3.63 |\n",
      "[18:56:22-270421]  | item 3078/5131 | ms/user 3.60 |\n",
      "[18:56:24-270421]  | item 3591/5131 | ms/user 3.63 |\n",
      "[18:56:26-270421]  | item 4104/5131 | ms/user 3.63 |\n",
      "[18:56:28-270421]  | item 4617/5131 | ms/user 3.64 |\n",
      "[18:56:29-270421]  | item 5130/5131 | ms/user 3.63 |\n",
      "[18:56:29-270421]  | training complete | total training time 18.60 s |\n",
      "/home/jimi/music_fairness/music_fairness/lib/python3.6/site-packages/rectorch/metrics.py:245: RuntimeWarning: invalid value encountered in multiply\n",
      "  num = pred_scores * ground_truth\n"
     ]
    },
    {
     "name": "stdout",
     "output_type": "stream",
     "text": [
      "{'ap@50000': (0.0, 0.0)}\n",
      "0.0\n",
      "0.5\n",
      "3.0\n"
     ]
    },
    {
     "name": "stderr",
     "output_type": "stream",
     "text": [
      "[18:56:31-270421]  | item 513/5131 | ms/user 3.63 |\n",
      "[18:56:33-270421]  | item 1026/5131 | ms/user 3.64 |\n",
      "[18:56:35-270421]  | item 1539/5131 | ms/user 3.63 |\n",
      "[18:56:37-270421]  | item 2052/5131 | ms/user 3.62 |\n",
      "[18:56:39-270421]  | item 2565/5131 | ms/user 3.63 |\n",
      "[18:56:41-270421]  | item 3078/5131 | ms/user 3.62 |\n",
      "[18:56:43-270421]  | item 3591/5131 | ms/user 3.62 |\n",
      "[18:56:44-270421]  | item 4104/5131 | ms/user 3.63 |\n",
      "[18:56:46-270421]  | item 4617/5131 | ms/user 3.62 |\n",
      "[18:56:48-270421]  | item 5130/5131 | ms/user 3.64 |\n",
      "[18:56:48-270421]  | training complete | total training time 18.64 s |\n",
      "/home/jimi/music_fairness/music_fairness/lib/python3.6/site-packages/rectorch/metrics.py:245: RuntimeWarning: invalid value encountered in multiply\n",
      "  num = pred_scores * ground_truth\n"
     ]
    },
    {
     "name": "stdout",
     "output_type": "stream",
     "text": [
      "{'ap@50000': (0.0, 0.0)}\n",
      "0.0\n",
      "0.5\n",
      "3.5\n"
     ]
    },
    {
     "name": "stderr",
     "output_type": "stream",
     "text": [
      "[18:56:50-270421]  | item 513/5131 | ms/user 3.62 |\n",
      "[18:56:52-270421]  | item 1026/5131 | ms/user 3.61 |\n",
      "[18:56:54-270421]  | item 1539/5131 | ms/user 3.63 |\n",
      "[18:56:56-270421]  | item 2052/5131 | ms/user 3.59 |\n",
      "[18:56:57-270421]  | item 2565/5131 | ms/user 3.57 |\n",
      "[18:56:59-270421]  | item 3078/5131 | ms/user 3.58 |\n",
      "[18:57:01-270421]  | item 3591/5131 | ms/user 3.53 |\n",
      "[18:57:03-270421]  | item 4104/5131 | ms/user 3.55 |\n",
      "[18:57:05-270421]  | item 4617/5131 | ms/user 3.63 |\n",
      "[18:57:07-270421]  | item 5130/5131 | ms/user 3.56 |\n",
      "[18:57:07-270421]  | training complete | total training time 18.43 s |\n",
      "/home/jimi/music_fairness/music_fairness/lib/python3.6/site-packages/rectorch/metrics.py:245: RuntimeWarning: invalid value encountered in multiply\n",
      "  num = pred_scores * ground_truth\n"
     ]
    },
    {
     "name": "stdout",
     "output_type": "stream",
     "text": [
      "{'ap@50000': (0.0, 0.0)}\n",
      "0.0\n",
      "0.5\n",
      "4.0\n"
     ]
    },
    {
     "name": "stderr",
     "output_type": "stream",
     "text": [
      "[18:57:09-270421]  | item 513/5131 | ms/user 3.59 |\n",
      "[18:57:10-270421]  | item 1026/5131 | ms/user 3.66 |\n",
      "[18:57:12-270421]  | item 1539/5131 | ms/user 3.72 |\n",
      "[18:57:14-270421]  | item 2052/5131 | ms/user 3.68 |\n",
      "[18:57:16-270421]  | item 2565/5131 | ms/user 3.73 |\n",
      "[18:57:18-270421]  | item 3078/5131 | ms/user 3.82 |\n",
      "[18:57:20-270421]  | item 3591/5131 | ms/user 3.57 |\n",
      "[18:57:22-270421]  | item 4104/5131 | ms/user 3.59 |\n",
      "[18:57:24-270421]  | item 4617/5131 | ms/user 3.94 |\n",
      "[18:57:26-270421]  | item 5130/5131 | ms/user 4.04 |\n",
      "[18:57:26-270421]  | training complete | total training time 19.19 s |\n",
      "/home/jimi/music_fairness/music_fairness/lib/python3.6/site-packages/rectorch/metrics.py:245: RuntimeWarning: invalid value encountered in multiply\n",
      "  num = pred_scores * ground_truth\n"
     ]
    },
    {
     "name": "stdout",
     "output_type": "stream",
     "text": [
      "{'ap@50000': (0.0, 0.0)}\n",
      "0.0\n",
      "0.5\n",
      "4.5\n"
     ]
    },
    {
     "name": "stderr",
     "output_type": "stream",
     "text": [
      "[18:57:28-270421]  | item 513/5131 | ms/user 3.84 |\n",
      "[18:57:30-270421]  | item 1026/5131 | ms/user 3.80 |\n",
      "[18:57:32-270421]  | item 1539/5131 | ms/user 3.69 |\n",
      "[18:57:34-270421]  | item 2052/5131 | ms/user 3.70 |\n",
      "[18:57:36-270421]  | item 2565/5131 | ms/user 3.80 |\n",
      "[18:57:38-270421]  | item 3078/5131 | ms/user 4.06 |\n",
      "[18:57:40-270421]  | item 3591/5131 | ms/user 3.85 |\n",
      "[18:57:42-270421]  | item 4104/5131 | ms/user 3.85 |\n",
      "[18:57:44-270421]  | item 4617/5131 | ms/user 3.81 |\n",
      "[18:57:45-270421]  | item 5130/5131 | ms/user 3.59 |\n",
      "[18:57:45-270421]  | training complete | total training time 19.53 s |\n",
      "/home/jimi/music_fairness/music_fairness/lib/python3.6/site-packages/rectorch/metrics.py:245: RuntimeWarning: invalid value encountered in multiply\n",
      "  num = pred_scores * ground_truth\n"
     ]
    },
    {
     "name": "stdout",
     "output_type": "stream",
     "text": [
      "{'ap@50000': (0.0, 0.0)}\n",
      "0.0\n",
      "0.5\n",
      "5.0\n"
     ]
    },
    {
     "name": "stderr",
     "output_type": "stream",
     "text": [
      "[18:57:47-270421]  | item 513/5131 | ms/user 3.68 |\n",
      "[18:57:49-270421]  | item 1026/5131 | ms/user 3.71 |\n",
      "[18:57:51-270421]  | item 1539/5131 | ms/user 3.78 |\n",
      "[18:57:53-270421]  | item 2052/5131 | ms/user 3.75 |\n",
      "[18:57:55-270421]  | item 2565/5131 | ms/user 3.69 |\n",
      "[18:57:57-270421]  | item 3078/5131 | ms/user 3.64 |\n",
      "[18:57:59-270421]  | item 3591/5131 | ms/user 3.63 |\n",
      "[18:58:01-270421]  | item 4104/5131 | ms/user 3.59 |\n",
      "[18:58:02-270421]  | item 4617/5131 | ms/user 3.65 |\n",
      "[18:58:04-270421]  | item 5130/5131 | ms/user 3.64 |\n",
      "[18:58:04-270421]  | training complete | total training time 18.89 s |\n",
      "/home/jimi/music_fairness/music_fairness/lib/python3.6/site-packages/rectorch/metrics.py:245: RuntimeWarning: invalid value encountered in multiply\n",
      "  num = pred_scores * ground_truth\n"
     ]
    },
    {
     "name": "stdout",
     "output_type": "stream",
     "text": [
      "{'ap@50000': (0.0, 0.0)}\n",
      "0.0\n",
      "1.0\n",
      "0.5\n"
     ]
    },
    {
     "name": "stderr",
     "output_type": "stream",
     "text": [
      "[18:58:06-270421]  | item 513/5131 | ms/user 3.64 |\n",
      "[18:58:08-270421]  | item 1026/5131 | ms/user 3.69 |\n",
      "[18:58:10-270421]  | item 1539/5131 | ms/user 3.67 |\n",
      "[18:58:12-270421]  | item 2052/5131 | ms/user 3.74 |\n",
      "[18:58:14-270421]  | item 2565/5131 | ms/user 3.70 |\n",
      "[18:58:16-270421]  | item 3078/5131 | ms/user 3.69 |\n",
      "[18:58:18-270421]  | item 3591/5131 | ms/user 3.63 |\n",
      "[18:58:20-270421]  | item 4104/5131 | ms/user 3.65 |\n",
      "[18:58:21-270421]  | item 4617/5131 | ms/user 3.64 |\n",
      "[18:58:23-270421]  | item 5130/5131 | ms/user 3.65 |\n",
      "[18:58:23-270421]  | training complete | total training time 18.86 s |\n",
      "/home/jimi/music_fairness/music_fairness/lib/python3.6/site-packages/rectorch/metrics.py:245: RuntimeWarning: invalid value encountered in multiply\n",
      "  num = pred_scores * ground_truth\n"
     ]
    },
    {
     "name": "stdout",
     "output_type": "stream",
     "text": [
      "{'ap@50000': (0.0, 0.0)}\n",
      "0.0\n",
      "1.0\n",
      "1.0\n"
     ]
    },
    {
     "name": "stderr",
     "output_type": "stream",
     "text": [
      "[18:58:25-270421]  | item 513/5131 | ms/user 3.68 |\n",
      "[18:58:27-270421]  | item 1026/5131 | ms/user 3.73 |\n",
      "[18:58:29-270421]  | item 1539/5131 | ms/user 3.82 |\n",
      "[18:58:31-270421]  | item 2052/5131 | ms/user 3.63 |\n",
      "[18:58:33-270421]  | item 2565/5131 | ms/user 3.64 |\n",
      "[18:58:35-270421]  | item 3078/5131 | ms/user 3.68 |\n",
      "[18:58:37-270421]  | item 3591/5131 | ms/user 3.67 |\n",
      "[18:58:38-270421]  | item 4104/5131 | ms/user 3.64 |\n",
      "[18:58:40-270421]  | item 4617/5131 | ms/user 3.66 |\n",
      "[18:58:42-270421]  | item 5130/5131 | ms/user 3.69 |\n",
      "[18:58:42-270421]  | training complete | total training time 18.92 s |\n",
      "/home/jimi/music_fairness/music_fairness/lib/python3.6/site-packages/rectorch/metrics.py:245: RuntimeWarning: invalid value encountered in multiply\n",
      "  num = pred_scores * ground_truth\n"
     ]
    },
    {
     "name": "stdout",
     "output_type": "stream",
     "text": [
      "{'ap@50000': (0.0, 0.0)}\n",
      "0.0\n",
      "1.0\n",
      "1.5\n"
     ]
    },
    {
     "name": "stderr",
     "output_type": "stream",
     "text": [
      "[18:58:44-270421]  | item 513/5131 | ms/user 3.79 |\n",
      "[18:58:46-270421]  | item 1026/5131 | ms/user 3.73 |\n",
      "[18:58:48-270421]  | item 1539/5131 | ms/user 3.65 |\n",
      "[18:58:50-270421]  | item 2052/5131 | ms/user 3.65 |\n",
      "[18:58:52-270421]  | item 2565/5131 | ms/user 3.67 |\n",
      "[18:58:54-270421]  | item 3078/5131 | ms/user 3.69 |\n",
      "[18:58:56-270421]  | item 3591/5131 | ms/user 3.70 |\n",
      "[18:58:57-270421]  | item 4104/5131 | ms/user 3.75 |\n",
      "[18:58:59-270421]  | item 4617/5131 | ms/user 3.66 |\n",
      "[18:59:01-270421]  | item 5130/5131 | ms/user 3.68 |\n",
      "[18:59:01-270421]  | training complete | total training time 19.00 s |\n",
      "/home/jimi/music_fairness/music_fairness/lib/python3.6/site-packages/rectorch/metrics.py:245: RuntimeWarning: invalid value encountered in multiply\n",
      "  num = pred_scores * ground_truth\n"
     ]
    },
    {
     "name": "stdout",
     "output_type": "stream",
     "text": [
      "{'ap@50000': (0.0, 0.0)}\n",
      "0.0\n",
      "1.0\n",
      "2.0\n"
     ]
    },
    {
     "name": "stderr",
     "output_type": "stream",
     "text": [
      "[18:59:03-270421]  | item 513/5131 | ms/user 3.69 |\n",
      "[18:59:05-270421]  | item 1026/5131 | ms/user 3.70 |\n",
      "[18:59:07-270421]  | item 1539/5131 | ms/user 3.70 |\n",
      "[18:59:09-270421]  | item 2052/5131 | ms/user 3.74 |\n",
      "[18:59:11-270421]  | item 2565/5131 | ms/user 3.66 |\n",
      "[18:59:13-270421]  | item 3078/5131 | ms/user 3.54 |\n",
      "[18:59:14-270421]  | item 3591/5131 | ms/user 3.57 |\n",
      "[18:59:16-270421]  | item 4104/5131 | ms/user 3.58 |\n",
      "[18:59:18-270421]  | item 4617/5131 | ms/user 3.69 |\n",
      "[18:59:20-270421]  | item 5130/5131 | ms/user 3.72 |\n",
      "[18:59:20-270421]  | training complete | total training time 18.80 s |\n",
      "/home/jimi/music_fairness/music_fairness/lib/python3.6/site-packages/rectorch/metrics.py:245: RuntimeWarning: invalid value encountered in multiply\n",
      "  num = pred_scores * ground_truth\n"
     ]
    },
    {
     "name": "stdout",
     "output_type": "stream",
     "text": [
      "{'ap@50000': (0.0, 0.0)}\n",
      "0.0\n",
      "1.0\n",
      "2.5\n"
     ]
    },
    {
     "name": "stderr",
     "output_type": "stream",
     "text": [
      "[18:59:22-270421]  | item 513/5131 | ms/user 3.67 |\n",
      "[18:59:24-270421]  | item 1026/5131 | ms/user 3.62 |\n",
      "[18:59:26-270421]  | item 1539/5131 | ms/user 3.62 |\n",
      "[18:59:28-270421]  | item 2052/5131 | ms/user 3.63 |\n",
      "[18:59:29-270421]  | item 2565/5131 | ms/user 3.62 |\n",
      "[18:59:31-270421]  | item 3078/5131 | ms/user 3.63 |\n",
      "[18:59:33-270421]  | item 3591/5131 | ms/user 3.62 |\n",
      "[18:59:35-270421]  | item 4104/5131 | ms/user 3.63 |\n",
      "[18:59:37-270421]  | item 4617/5131 | ms/user 3.63 |\n",
      "[18:59:39-270421]  | item 5130/5131 | ms/user 3.62 |\n",
      "[18:59:39-270421]  | training complete | total training time 18.65 s |\n",
      "/home/jimi/music_fairness/music_fairness/lib/python3.6/site-packages/rectorch/metrics.py:245: RuntimeWarning: invalid value encountered in multiply\n",
      "  num = pred_scores * ground_truth\n"
     ]
    },
    {
     "name": "stdout",
     "output_type": "stream",
     "text": [
      "{'ap@50000': (0.0, 0.0)}\n",
      "0.0\n",
      "1.0\n",
      "3.0\n"
     ]
    },
    {
     "name": "stderr",
     "output_type": "stream",
     "text": [
      "[18:59:41-270421]  | item 513/5131 | ms/user 3.65 |\n",
      "[18:59:43-270421]  | item 1026/5131 | ms/user 3.71 |\n",
      "[18:59:45-270421]  | item 1539/5131 | ms/user 3.67 |\n",
      "[18:59:46-270421]  | item 2052/5131 | ms/user 3.66 |\n",
      "[18:59:48-270421]  | item 2565/5131 | ms/user 3.64 |\n",
      "[18:59:50-270421]  | item 3078/5131 | ms/user 3.66 |\n",
      "[18:59:52-270421]  | item 3591/5131 | ms/user 3.65 |\n",
      "[18:59:54-270421]  | item 4104/5131 | ms/user 3.70 |\n",
      "[18:59:56-270421]  | item 4617/5131 | ms/user 3.63 |\n",
      "[18:59:58-270421]  | item 5130/5131 | ms/user 3.59 |\n",
      "[18:59:58-270421]  | training complete | total training time 18.79 s |\n",
      "/home/jimi/music_fairness/music_fairness/lib/python3.6/site-packages/rectorch/metrics.py:245: RuntimeWarning: invalid value encountered in multiply\n",
      "  num = pred_scores * ground_truth\n"
     ]
    },
    {
     "name": "stdout",
     "output_type": "stream",
     "text": [
      "{'ap@50000': (0.0, 0.0)}\n",
      "0.0\n",
      "1.0\n",
      "3.5\n"
     ]
    },
    {
     "name": "stderr",
     "output_type": "stream",
     "text": [
      "[19:00:00-270421]  | item 513/5131 | ms/user 3.61 |\n",
      "[19:00:01-270421]  | item 1026/5131 | ms/user 3.60 |\n",
      "[19:00:03-270421]  | item 1539/5131 | ms/user 3.61 |\n",
      "[19:00:05-270421]  | item 2052/5131 | ms/user 3.69 |\n",
      "[19:00:07-270421]  | item 2565/5131 | ms/user 3.71 |\n",
      "[19:00:09-270421]  | item 3078/5131 | ms/user 3.68 |\n",
      "[19:00:11-270421]  | item 3591/5131 | ms/user 3.66 |\n",
      "[19:00:13-270421]  | item 4104/5131 | ms/user 3.68 |\n",
      "[19:00:15-270421]  | item 4617/5131 | ms/user 3.68 |\n",
      "[19:00:17-270421]  | item 5130/5131 | ms/user 3.81 |\n",
      "[19:00:17-270421]  | training complete | total training time 18.88 s |\n",
      "/home/jimi/music_fairness/music_fairness/lib/python3.6/site-packages/rectorch/metrics.py:245: RuntimeWarning: invalid value encountered in multiply\n",
      "  num = pred_scores * ground_truth\n"
     ]
    },
    {
     "name": "stdout",
     "output_type": "stream",
     "text": [
      "{'ap@50000': (0.0, 0.0)}\n",
      "0.0\n",
      "1.0\n",
      "4.0\n"
     ]
    },
    {
     "name": "stderr",
     "output_type": "stream",
     "text": [
      "[19:00:19-270421]  | item 513/5131 | ms/user 3.71 |\n",
      "[19:00:20-270421]  | item 1026/5131 | ms/user 3.75 |\n",
      "[19:00:22-270421]  | item 1539/5131 | ms/user 3.75 |\n"
     ]
    },
    {
     "ename": "KeyboardInterrupt",
     "evalue": "",
     "output_type": "error",
     "traceback": [
      "\u001b[0;31m---------------------------------------------------------------------------\u001b[0m",
      "\u001b[0;31mKeyboardInterrupt\u001b[0m                         Traceback (most recent call last)",
      "\u001b[0;32m<ipython-input-25-7d74e8de1b59>\u001b[0m in \u001b[0;36m<module>\u001b[0;34m\u001b[0m\n\u001b[1;32m     14\u001b[0m \u001b[0;34m\u001b[0m\u001b[0m\n\u001b[1;32m     15\u001b[0m         \u001b[0mslim\u001b[0m \u001b[0;34m=\u001b[0m \u001b[0mSLIM\u001b[0m\u001b[0;34m(\u001b[0m\u001b[0ml1_reg\u001b[0m\u001b[0;34m=\u001b[0m\u001b[0mlambda_vals\u001b[0m\u001b[0;34m[\u001b[0m\u001b[0mi\u001b[0m\u001b[0;34m]\u001b[0m\u001b[0;34m,\u001b[0m \u001b[0ml2_reg\u001b[0m\u001b[0;34m=\u001b[0m\u001b[0mbeta_vals\u001b[0m\u001b[0;34m[\u001b[0m\u001b[0mj\u001b[0m\u001b[0;34m]\u001b[0m\u001b[0;34m)\u001b[0m\u001b[0;34m\u001b[0m\u001b[0;34m\u001b[0m\u001b[0m\n\u001b[0;32m---> 16\u001b[0;31m         \u001b[0mslim\u001b[0m\u001b[0;34m.\u001b[0m\u001b[0mtrain\u001b[0m\u001b[0;34m(\u001b[0m\u001b[0msparse_sampler\u001b[0m\u001b[0;34m)\u001b[0m\u001b[0;34m\u001b[0m\u001b[0;34m\u001b[0m\u001b[0m\n\u001b[0m\u001b[1;32m     17\u001b[0m \u001b[0;34m\u001b[0m\u001b[0m\n\u001b[1;32m     18\u001b[0m         \u001b[0msparse_sampler\u001b[0m\u001b[0;34m.\u001b[0m\u001b[0mtest\u001b[0m\u001b[0;34m(\u001b[0m\u001b[0;34m)\u001b[0m\u001b[0;34m\u001b[0m\u001b[0;34m\u001b[0m\u001b[0m\n",
      "\u001b[0;32m~/music_fairness/music_fairness/lib/python3.6/site-packages/rectorch/models/baseline.py\u001b[0m in \u001b[0;36mtrain\u001b[0;34m(self, dataset, verbose)\u001b[0m\n\u001b[1;32m    490\u001b[0m             \u001b[0mtrain_matrix\u001b[0m\u001b[0;34m.\u001b[0m\u001b[0mdata\u001b[0m\u001b[0;34m[\u001b[0m\u001b[0mstart_pos\u001b[0m\u001b[0;34m:\u001b[0m\u001b[0mend_pos\u001b[0m\u001b[0;34m]\u001b[0m \u001b[0;34m=\u001b[0m \u001b[0;36m0.0\u001b[0m\u001b[0;34m\u001b[0m\u001b[0;34m\u001b[0m\u001b[0m\n\u001b[1;32m    491\u001b[0m \u001b[0;34m\u001b[0m\u001b[0m\n\u001b[0;32m--> 492\u001b[0;31m             \u001b[0mself\u001b[0m\u001b[0;34m.\u001b[0m\u001b[0mslim\u001b[0m\u001b[0;34m.\u001b[0m\u001b[0mfit\u001b[0m\u001b[0;34m(\u001b[0m\u001b[0mtrain_matrix\u001b[0m\u001b[0;34m,\u001b[0m \u001b[0my\u001b[0m\u001b[0;34m)\u001b[0m\u001b[0;34m\u001b[0m\u001b[0;34m\u001b[0m\u001b[0m\n\u001b[0m\u001b[1;32m    493\u001b[0m \u001b[0;34m\u001b[0m\u001b[0m\n\u001b[1;32m    494\u001b[0m             \u001b[0mnnz_coef_index\u001b[0m \u001b[0;34m=\u001b[0m \u001b[0mself\u001b[0m\u001b[0;34m.\u001b[0m\u001b[0mslim\u001b[0m\u001b[0;34m.\u001b[0m\u001b[0msparse_coef_\u001b[0m\u001b[0;34m.\u001b[0m\u001b[0mindices\u001b[0m\u001b[0;34m\u001b[0m\u001b[0;34m\u001b[0m\u001b[0m\n",
      "\u001b[0;32m~/music_fairness/music_fairness/lib/python3.6/site-packages/sklearn/linear_model/_coordinate_descent.py\u001b[0m in \u001b[0;36mfit\u001b[0;34m(self, X, y, sample_weight, check_input)\u001b[0m\n\u001b[1;32m    853\u001b[0m                           \u001b[0mrandom_state\u001b[0m\u001b[0;34m=\u001b[0m\u001b[0mself\u001b[0m\u001b[0;34m.\u001b[0m\u001b[0mrandom_state\u001b[0m\u001b[0;34m,\u001b[0m\u001b[0;34m\u001b[0m\u001b[0;34m\u001b[0m\u001b[0m\n\u001b[1;32m    854\u001b[0m                           \u001b[0mselection\u001b[0m\u001b[0;34m=\u001b[0m\u001b[0mself\u001b[0m\u001b[0;34m.\u001b[0m\u001b[0mselection\u001b[0m\u001b[0;34m,\u001b[0m\u001b[0;34m\u001b[0m\u001b[0;34m\u001b[0m\u001b[0m\n\u001b[0;32m--> 855\u001b[0;31m                           check_input=False)\n\u001b[0m\u001b[1;32m    856\u001b[0m             \u001b[0mcoef_\u001b[0m\u001b[0;34m[\u001b[0m\u001b[0mk\u001b[0m\u001b[0;34m]\u001b[0m \u001b[0;34m=\u001b[0m \u001b[0mthis_coef\u001b[0m\u001b[0;34m[\u001b[0m\u001b[0;34m:\u001b[0m\u001b[0;34m,\u001b[0m \u001b[0;36m0\u001b[0m\u001b[0;34m]\u001b[0m\u001b[0;34m\u001b[0m\u001b[0;34m\u001b[0m\u001b[0m\n\u001b[1;32m    857\u001b[0m             \u001b[0mdual_gaps_\u001b[0m\u001b[0;34m[\u001b[0m\u001b[0mk\u001b[0m\u001b[0;34m]\u001b[0m \u001b[0;34m=\u001b[0m \u001b[0mthis_dual_gap\u001b[0m\u001b[0;34m[\u001b[0m\u001b[0;36m0\u001b[0m\u001b[0;34m]\u001b[0m\u001b[0;34m\u001b[0m\u001b[0;34m\u001b[0m\u001b[0m\n",
      "\u001b[0;32m~/music_fairness/music_fairness/lib/python3.6/site-packages/sklearn/utils/validation.py\u001b[0m in \u001b[0;36minner_f\u001b[0;34m(*args, **kwargs)\u001b[0m\n\u001b[1;32m     61\u001b[0m             \u001b[0mextra_args\u001b[0m \u001b[0;34m=\u001b[0m \u001b[0mlen\u001b[0m\u001b[0;34m(\u001b[0m\u001b[0margs\u001b[0m\u001b[0;34m)\u001b[0m \u001b[0;34m-\u001b[0m \u001b[0mlen\u001b[0m\u001b[0;34m(\u001b[0m\u001b[0mall_args\u001b[0m\u001b[0;34m)\u001b[0m\u001b[0;34m\u001b[0m\u001b[0;34m\u001b[0m\u001b[0m\n\u001b[1;32m     62\u001b[0m             \u001b[0;32mif\u001b[0m \u001b[0mextra_args\u001b[0m \u001b[0;34m<=\u001b[0m \u001b[0;36m0\u001b[0m\u001b[0;34m:\u001b[0m\u001b[0;34m\u001b[0m\u001b[0;34m\u001b[0m\u001b[0m\n\u001b[0;32m---> 63\u001b[0;31m                 \u001b[0;32mreturn\u001b[0m \u001b[0mf\u001b[0m\u001b[0;34m(\u001b[0m\u001b[0;34m*\u001b[0m\u001b[0margs\u001b[0m\u001b[0;34m,\u001b[0m \u001b[0;34m**\u001b[0m\u001b[0mkwargs\u001b[0m\u001b[0;34m)\u001b[0m\u001b[0;34m\u001b[0m\u001b[0;34m\u001b[0m\u001b[0m\n\u001b[0m\u001b[1;32m     64\u001b[0m \u001b[0;34m\u001b[0m\u001b[0m\n\u001b[1;32m     65\u001b[0m             \u001b[0;31m# extra_args > 0\u001b[0m\u001b[0;34m\u001b[0m\u001b[0;34m\u001b[0m\u001b[0;34m\u001b[0m\u001b[0m\n",
      "\u001b[0;32m~/music_fairness/music_fairness/lib/python3.6/site-packages/sklearn/linear_model/_coordinate_descent.py\u001b[0m in \u001b[0;36menet_path\u001b[0;34m(X, y, l1_ratio, eps, n_alphas, alphas, precompute, Xy, copy_X, coef_init, verbose, return_n_iter, positive, check_input, **params)\u001b[0m\n\u001b[1;32m    497\u001b[0m \u001b[0;34m\u001b[0m\u001b[0m\n\u001b[1;32m    498\u001b[0m     \u001b[0;32mif\u001b[0m \u001b[0;32mnot\u001b[0m \u001b[0mmulti_output\u001b[0m\u001b[0;34m:\u001b[0m\u001b[0;34m\u001b[0m\u001b[0;34m\u001b[0m\u001b[0m\n\u001b[0;32m--> 499\u001b[0;31m         \u001b[0mcoefs\u001b[0m \u001b[0;34m=\u001b[0m \u001b[0mnp\u001b[0m\u001b[0;34m.\u001b[0m\u001b[0mempty\u001b[0m\u001b[0;34m(\u001b[0m\u001b[0;34m(\u001b[0m\u001b[0mn_features\u001b[0m\u001b[0;34m,\u001b[0m \u001b[0mn_alphas\u001b[0m\u001b[0;34m)\u001b[0m\u001b[0;34m,\u001b[0m \u001b[0mdtype\u001b[0m\u001b[0;34m=\u001b[0m\u001b[0mX\u001b[0m\u001b[0;34m.\u001b[0m\u001b[0mdtype\u001b[0m\u001b[0;34m)\u001b[0m\u001b[0;34m\u001b[0m\u001b[0;34m\u001b[0m\u001b[0m\n\u001b[0m\u001b[1;32m    500\u001b[0m     \u001b[0;32melse\u001b[0m\u001b[0;34m:\u001b[0m\u001b[0;34m\u001b[0m\u001b[0;34m\u001b[0m\u001b[0m\n\u001b[1;32m    501\u001b[0m         coefs = np.empty((n_outputs, n_features, n_alphas),\n",
      "\u001b[0;31mKeyboardInterrupt\u001b[0m: "
     ]
    }
   ],
   "source": [
    "lambda_vals =  np.array([0.0001, 0.0003, 0.001, 0.003, 0.01, 0.03, 0.1, 0.3])\n",
    "beta_vals =  np.array([0.0001, 0.0003, 0.001, 0.003, 0.01, 0.03, 0.1, 0.3])\n",
    "\n",
    "\n",
    "error = np.zeros([lambda_vals.size,beta_vals.size])\n",
    "\n",
    "sparse_sampler = SparseDummySampler(dataset, mode=\"train\")\n",
    "for i in range(len(lambda_vals)):\n",
    "    for j in range(len(beta_vals)):\n",
    "        sparse_sampler.train()\n",
    "        \n",
    "        print(lambda_vals[i])\n",
    "        print(beta_vals[j])\n",
    "        \n",
    "        slim = SLIM(l1_reg=lambda_vals[i], l2_reg=beta_vals[j])\n",
    "        slim.train(sparse_sampler)\n",
    "        \n",
    "        sparse_sampler.test()\n",
    "        \n",
    "        results = evaluate(slim, sparse_sampler, [\"ap@5000\"])\n",
    "        error[i,j] = collect_results(results).get(\"ap@5000\")[0]\n",
    "        print(collect_results(results))\n",
    "        print(collect_results(results).get(\"ap@5000\")[0])\n",
    "        \n",
    "print(error)\n",
    "        \n",
    "minError = np.argwhere(error == np.amax(error))\n",
    "Lambda = lambda_vals[(minError[0][0])]\n",
    "beta = beta_vals[(minError[0][1])]\n",
    "print(Lambda)\n",
    "print(beta)\n"
   ]
  },
  {
   "cell_type": "markdown",
   "metadata": {},
   "source": [
    "### Training SLIM on Partial Dataset with Tuned Parameters"
   ]
  },
  {
   "cell_type": "code",
   "execution_count": 47,
   "metadata": {},
   "outputs": [
    {
     "name": "stderr",
     "output_type": "stream",
     "text": [
      "[13:26:59-090421]  | item 513/5131 | ms/user 13.48 |\n",
      "[13:27:06-090421]  | item 1026/5131 | ms/user 13.20 |\n",
      "[13:27:13-090421]  | item 1539/5131 | ms/user 13.07 |\n",
      "[13:27:19-090421]  | item 2052/5131 | ms/user 12.69 |\n",
      "[13:27:25-090421]  | item 2565/5131 | ms/user 12.41 |\n",
      "[13:27:32-090421]  | item 3078/5131 | ms/user 12.44 |\n",
      "[13:27:38-090421]  | item 3591/5131 | ms/user 12.23 |\n",
      "[13:27:44-090421]  | item 4104/5131 | ms/user 12.11 |\n",
      "[13:27:50-090421]  | item 4617/5131 | ms/user 11.97 |\n",
      "[13:27:56-090421]  | item 5130/5131 | ms/user 11.72 |\n",
      "[13:27:56-090421]  | training complete | total training time 64.35 s |\n"
     ]
    }
   ],
   "source": [
    "#Learned best Lambda = 0.0003 and best Beta = 0.03\n",
    "sparse_sampler.train()\n",
    "slim = SLIM(l1_reg=Lambda, l2_reg=beta)\n",
    "slim.train(sparse_sampler)"
   ]
  },
  {
   "cell_type": "code",
   "execution_count": 48,
   "metadata": {},
   "outputs": [
    {
     "name": "stderr",
     "output_type": "stream",
     "text": [
      "/home/jimi/music_fairness/music_fairness/lib/python3.6/site-packages/rectorch/metrics.py:245: RuntimeWarning: invalid value encountered in multiply\n",
      "  num = pred_scores * ground_truth\n"
     ]
    },
    {
     "data": {
      "text/plain": [
       "{'ap@5000': (0.1413211884342339, 0.08234902229175063)}"
      ]
     },
     "execution_count": 48,
     "metadata": {},
     "output_type": "execute_result"
    }
   ],
   "source": [
    "sparse_sampler.test()\n",
    "results = evaluate(slim, sparse_sampler, [\"ap@5000\"])\n",
    "collect_results(results)"
   ]
  },
  {
   "cell_type": "markdown",
   "metadata": {},
   "source": [
    "### Saving/Loading Model"
   ]
  },
  {
   "cell_type": "code",
   "execution_count": 49,
   "metadata": {},
   "outputs": [
    {
     "name": "stderr",
     "output_type": "stream",
     "text": [
      "[13:28:22-090421]  Saving SLIM model to slimHorizontal...\n",
      "[13:28:22-090421]  Model saved!\n"
     ]
    }
   ],
   "source": [
    "slim.save_model(\"slimHorizontal\")"
   ]
  },
  {
   "cell_type": "code",
   "execution_count": 29,
   "metadata": {},
   "outputs": [
    {
     "name": "stderr",
     "output_type": "stream",
     "text": [
      "[17:18:43-060521]  Loading SLIM model from slimHorizontal...\n",
      "[17:18:43-060521]  Model loaded!\n"
     ]
    }
   ],
   "source": [
    "slim2 = SLIM(l1_reg=.0003, l2_reg=.03)\n",
    "slim2 = slim2.load_model(\"slimHorizontal\")"
   ]
  },
  {
   "cell_type": "code",
   "execution_count": 30,
   "metadata": {},
   "outputs": [
    {
     "name": "stderr",
     "output_type": "stream",
     "text": [
      "[17:18:43-060521]  Sampler must be in valid or test mode. Froced switch to test mode!\n",
      "/home/jimi/music_fairness/music_fairness/lib/python3.6/site-packages/rectorch/metrics.py:245: RuntimeWarning: invalid value encountered in multiply\n",
      "  num = pred_scores * ground_truth\n"
     ]
    },
    {
     "data": {
      "text/plain": [
       "{'ap@5000': (0.1413211884342339, 0.08234902229175063)}"
      ]
     },
     "execution_count": 30,
     "metadata": {},
     "output_type": "execute_result"
    }
   ],
   "source": [
    "results = evaluate(slim2, sparse_sampler, [\"ap@5000\"])\n",
    "collect_results(results)"
   ]
  },
  {
   "cell_type": "markdown",
   "metadata": {},
   "source": [
    "### Getting Predictions Matrix"
   ]
  },
  {
   "cell_type": "code",
   "execution_count": 17,
   "metadata": {},
   "outputs": [],
   "source": [
    "def getPredictions(model, sampler):\n",
    "    \"\"\"Returns the Predictions matrix for a rectorch model\n",
    "    Args:\n",
    "        model: The rectorch model to get predictions for\n",
    "        sampler: the sampler the model used\n",
    "        \n",
    "    Returns:\n",
    "        the predictions matrix for the model\n",
    "    \"\"\"\n",
    "    sampler.test()\n",
    "    for _, (data_input, ground_truth) in enumerate(sampler):\n",
    "        data_input, ground_truth = prepare_for_prediction(data_input, ground_truth)\n",
    "        predictions = model.predict(*data_input)[0].cpu().numpy()\n",
    "    \n",
    "    return predictions"
   ]
  },
  {
   "cell_type": "code",
   "execution_count": 18,
   "metadata": {},
   "outputs": [
    {
     "ename": "NameError",
     "evalue": "name 'slim2' is not defined",
     "output_type": "error",
     "traceback": [
      "\u001b[0;31m---------------------------------------------------------------------------\u001b[0m",
      "\u001b[0;31mNameError\u001b[0m                                 Traceback (most recent call last)",
      "\u001b[0;32m<ipython-input-18-34bee9673c4c>\u001b[0m in \u001b[0;36m<module>\u001b[0;34m\u001b[0m\n\u001b[0;32m----> 1\u001b[0;31m \u001b[0mpredictions\u001b[0m \u001b[0;34m=\u001b[0m \u001b[0mgetPredictions\u001b[0m\u001b[0;34m(\u001b[0m\u001b[0mslim2\u001b[0m\u001b[0;34m,\u001b[0m \u001b[0msparse_sampler\u001b[0m\u001b[0;34m)\u001b[0m\u001b[0;34m\u001b[0m\u001b[0;34m\u001b[0m\u001b[0m\n\u001b[0m",
      "\u001b[0;31mNameError\u001b[0m: name 'slim2' is not defined"
     ]
    }
   ],
   "source": [
    "predictions = getPredictions(slim2, sparse_sampler)"
   ]
  },
  {
   "cell_type": "markdown",
   "metadata": {},
   "source": [
    "### Getting Top N Artists for SLIM (Works with Any Rectorch Algorithm)"
   ]
  },
  {
   "cell_type": "code",
   "execution_count": null,
   "metadata": {},
   "outputs": [],
   "source": [
    "def get_top_artists(predictions, back_to_user_id,back_to_artist_id, num=10):\n",
    "    \"\"\"Return the top-N recommendation for each user from a set of predictions.\n",
    "\n",
    "    Args:\n",
    "        Predictions: the Prediction vectors\n",
    "        back_to_user_id: dictionary to convert back to original user id\n",
    "        back_to_artist_id: dictionary to convert back to original artist id\n",
    "        num(int): The number of recommendation to output for each user. Default\n",
    "            is 10.\n",
    "\n",
    "    Returns:\n",
    "    A dict where keys are user (raw) ids and values are lists of tuples:\n",
    "        [(raw item id), ...] of size n.\n",
    "    \"\"\"\n",
    "    top_artists_dict = defaultdict(list)\n",
    "        # creating dictionary where user id is the key, and the val is a list of tuples of the artist id and \n",
    "        # the rating it thinks the user would give it\n",
    "        \n",
    "    for user_id in range(len(predictions)):\n",
    "        \n",
    "        rec_vector = predictions[user_id,:].copy()\n",
    "        #print(rec_vector)\n",
    "        \n",
    "        recommend_vector = rec_vector\n",
    "        \n",
    "        product_idx = np.argsort(recommend_vector)[::-1][:num] # Sort the indices of the items into order \n",
    "        # of best recommendations\n",
    "        rec_list = [] # start empty list to store items\n",
    "        actual_user_id = back_to_user_id[user_id]\n",
    "        #print(actual_user_id)\n",
    "        \n",
    "        for index in product_idx:\n",
    "            actual_artist_id = back_to_artist_id[index]\n",
    "            rec_list.append(actual_artist_id)\n",
    "            \n",
    "        top_artists_dict[actual_user_id] = rec_list\n",
    "    print(\"done\")\n",
    "    return top_artists_dict\n",
    "    \n",
    "    "
   ]
  },
  {
   "cell_type": "markdown",
   "metadata": {},
   "source": [
    "#### Reversing the matrices given by the dataset so we can get the original artist and user ids"
   ]
  },
  {
   "cell_type": "code",
   "execution_count": null,
   "metadata": {},
   "outputs": [],
   "source": [
    "def get_reverse_matrices(dataset):\n",
    "    \"\"\"Simply reverses the dictionaries in a rectorch dataset to be used to \n",
    "    reference back to the original ids\"\"\"\n",
    "    id2u =  dict(map(reversed, dataset.u2id.items())) #dict for putting user ids back to normal\n",
    "    id2i = dict(map(reversed, dataset.i2id.items())) #dict for translating artist ids back to normal\n",
    "    return id2u, id2i"
   ]
  },
  {
   "cell_type": "code",
   "execution_count": 58,
   "metadata": {},
   "outputs": [],
   "source": [
    "id2u, id2i = get_reverse_matrices(dataset)"
   ]
  },
  {
   "cell_type": "code",
   "execution_count": 59,
   "metadata": {},
   "outputs": [
    {
     "name": "stdout",
     "output_type": "stream",
     "text": [
      "done\n"
     ]
    }
   ],
   "source": [
    "rectorch_top_n = get_top_artists(predictions, id2u, id2i)"
   ]
  },
  {
   "cell_type": "code",
   "execution_count": 47,
   "metadata": {},
   "outputs": [
    {
     "data": {
      "text/plain": [
       "[2836, 17292, 6443, 17302, 35098, 7941, 7463, 1804, 15629, 18830]"
      ]
     },
     "execution_count": 47,
     "metadata": {},
     "output_type": "execute_result"
    }
   ],
   "source": [
    "rectorch_top_n[6532902]"
   ]
  },
  {
   "cell_type": "markdown",
   "metadata": {},
   "source": [
    "### Calculating GAPr and Delta GAP for Rectorch Algorithms (SLIM)"
   ]
  },
  {
   "cell_type": "code",
   "execution_count": 19,
   "metadata": {},
   "outputs": [],
   "source": [
    "def calcGapR_rectorch(algs_to_test, samplers, dataset, artist_dist, get_top_artists, get_reverse_matrices, get_predictions):\n",
    "    \"\"\"Returns the list of GAPrs for all categories given a list of algorithms\n",
    "        ALGORITHMS MUST ALREADY BE TRAINED SEPARATELY TO CONSERVE TIME\n",
    "        Args:\n",
    "            algs_to_test: list of already trained models\n",
    "            samplers: the sampler used for each algorithm (must be same length as algs_to_test)\n",
    "            dataset: the rectorch dataset object that everything is trained on\n",
    "            artist_dist: pandas df of how many times each artist was listened to by unique users\n",
    "            get_top_artists: function to get top n artists for each alg\n",
    "            get_reverse_matrices: function to reverse matrices to get user and artist ids back to their original form\n",
    "            get_predictions: function to get predictions for the models of each alg\n",
    "            \n",
    "        Returns:\n",
    "            low_gap_r_list: list of GAPr for low pop group\n",
    "            medium_gap_r_list: list of GAPr for med pop group\n",
    "            high_gap_r_list: list of GAPr for high pop group\n",
    "            total_gap_r_list: list of GAPr across entire dataset\n",
    "            all indexed in the same order as algs_to_test\"\"\"\n",
    "    # Train and test the four algorithms on our data set\n",
    "    low_gap_r_list = []\n",
    "    medium_gap_r_list = []\n",
    "    high_gap_r_list = []\n",
    "    total_gap_r_list= []\n",
    "    #keeps track of the GAPr of each of the algs\n",
    "\n",
    "    alg_recommendations = [] #Keeps track of how many times each artist was recommended\n",
    "\n",
    "    #Will put for loop here with training, but for now we already have predictions\n",
    "    for i in range(len(algs_to_test)):   \n",
    "\n",
    "        num_times_recommended = pd.DataFrame(artist_dist)\n",
    "        num_times_recommended.columns = ['Recommendation Frequency']\n",
    "        num_times_recommended['Recommendation Frequency'] = 0 #resets for each algorithm\n",
    "\n",
    "\n",
    "        # resets to 0 before calculating for new alg\n",
    "        low_gap_r = 0\n",
    "        medium_gap_r = 0\n",
    "        high_gap_r = 0\n",
    "\n",
    "        #keeps track of group size since it is unpredictable since the test set is selected randomly\n",
    "        num_low_users = 0\n",
    "        num_medium_users = 0\n",
    "        num_high_users = 0\n",
    "\n",
    "        #keeps track of the mean absolute error of the current alg\n",
    "        low_mae = 0\n",
    "        medium_mae = 0\n",
    "        high_mae = 0\n",
    "\n",
    "        predictions = get_predictions(algs_to_test[i], samplers[i])\n",
    "        userBack, artistBack = get_reverse_matrices(dataset)\n",
    "        top_artists = get_top_artists(predictions, userBack, artistBack) #Gets the top N recommendations for each user\n",
    "\n",
    "\n",
    "        for user_id, ratings in top_artists.items():\n",
    "            artist_id_list = [] #user profile size to compute top fraction in GAPr\n",
    "            for artist_id in ratings:\n",
    "\n",
    "                artist_id_list.append(artist_id)\n",
    "                num_times_recommended.loc[artist_id] += 1 #increments the number of times the artist was recommended\n",
    "\n",
    "            gap = sum(artist_dist[artist_id_list]/ num_users) / len(artist_id_list) #fraction in numerator for GAPr\n",
    "            #print(\"gap:\" ,gap)\n",
    "            if user_id in low_users.index: #summation of all of the top fractions to compute numerator for GAPr\n",
    "                low_gap_r += gap\n",
    "                num_low_users += 1 #increments group size to get the denominator to compute GAPr\n",
    "\n",
    "            elif user_id in medium_users.index:\n",
    "                medium_gap_r += gap\n",
    "                num_medium_users += 1\n",
    "\n",
    "            elif user_id in high_users.index:\n",
    "                high_gap_r += gap\n",
    "                num_high_users += 1\n",
    "        alg_recommendations.append(num_times_recommended)\n",
    "\n",
    "        total_gap_r = (low_gap_r + medium_gap_r + high_gap_r) / (num_low_users + num_medium_users + num_high_users)\n",
    "        low_gap_r = low_gap_r / num_low_users #Computing GAPr for each group size for each algorithm\n",
    "        medium_gap_r = medium_gap_r / num_medium_users\n",
    "        high_gap_r = high_gap_r / num_high_users\n",
    "\n",
    "        total_gap_r_list.append(total_gap_r)\n",
    "        low_gap_r_list.append(low_gap_r)\n",
    "        medium_gap_r_list.append(medium_gap_r)\n",
    "        high_gap_r_list.append(high_gap_r)\n",
    "\n",
    "    return low_gap_r_list, medium_gap_r_list, high_gap_r_list, total_gap_r_list\n",
    "\n",
    "    print(\"done\")"
   ]
  },
  {
   "cell_type": "code",
   "execution_count": 20,
   "metadata": {},
   "outputs": [],
   "source": [
    "#Computes change in GAP for each RecSys alg\n",
    "def calc_delta_gap_rectorch(gap_p_list, gap_r_list):\n",
    "    \"\"\"Computes delta gap of all recsys data recorded given the gap_r_list, should be in order of algs_list if used\n",
    "        with function above\n",
    "\n",
    "        Args:\n",
    "            gap_p_list: list of the computed gapPs (in order of low,med,high,total)\n",
    "            gap_r_list: list of the computed gapRs (in order of low,med,high,total)\n",
    "        Returns:\n",
    "            delta_gap_low_list: list of all computed delta gaps for all algs for the low user group\n",
    "            delta_gap_medium_list: list of all computed delta gaps for all algs for the med user group\n",
    "            delta_gap_high_list: list of all computed delta gaps for all algs for the high user group\n",
    "            delta_gap_total_list: list of all computed delta gaps for all algs for all users\n",
    "    \"\"\"\n",
    "    delta_gap_low_list = []\n",
    "    delta_gap_medium_list = []\n",
    "    delta_gap_high_list = []\n",
    "    delta_gap_total_list = []\n",
    "\n",
    "    low_gap_p = gap_p_list[0]\n",
    "    medium_gap_p = gap_p_list[1]\n",
    "    high_gap_p = gap_p_list[2]\n",
    "    total_gap_p = gap_p_list[3]\n",
    "\n",
    "    low_gap_r_list = gap_r_list[0]\n",
    "    medium_gap_r_list = gap_r_list[1]\n",
    "    high_gap_r_list = gap_r_list[2]\n",
    "    total_gap_r_list = gap_r_list[3]\n",
    "\n",
    "    for i in range(len(low_gap_r_list)):\n",
    "        delta_gap_low = ((low_gap_r_list[i] - low_gap_p) / low_gap_p)\n",
    "        delta_gap_medium = ((medium_gap_r_list[i] - medium_gap_p) / medium_gap_p)\n",
    "        delta_gap_high = ((high_gap_r_list[i] - high_gap_p) / high_gap_p)\n",
    "        delta_gap_total = ((total_gap_r_list[i] - total_gap_p) / total_gap_p)\n",
    "\n",
    "        delta_gap_low_list.append(delta_gap_low)\n",
    "        delta_gap_medium_list.append(delta_gap_medium)\n",
    "        delta_gap_high_list.append(delta_gap_high)\n",
    "        delta_gap_total_list.append(delta_gap_total)\n",
    "\n",
    "    \n",
    "    return delta_gap_low_list, delta_gap_medium_list, delta_gap_high_list, delta_gap_total_list"
   ]
  },
  {
   "cell_type": "code",
   "execution_count": 66,
   "metadata": {},
   "outputs": [
    {
     "name": "stdout",
     "output_type": "stream",
     "text": [
      "done\n",
      "2.663266993343709\n",
      "2.720945436349978\n",
      "2.409118205863711\n",
      "2.5877539912773777\n"
     ]
    },
    {
     "data": {
      "text/plain": [
       "([2.663266993343709],\n",
       " [2.720945436349978],\n",
       " [2.409118205863711],\n",
       " [2.5877539912773777])"
      ]
     },
     "execution_count": 66,
     "metadata": {},
     "output_type": "execute_result"
    }
   ],
   "source": [
    "low_gap_r_list, medium_gap_r_list,high_gap_r_list,total_gap_r_list = calcGapR([slim2],[sparse_sampler], dataset, artist_dist, get_top_artists, get_reverse_matrices, getPredictions)\n",
    "\n",
    "calc_delta_gap([low_gap_p, medium_gap_p,high_gap_p, total_gap_p],[low_gap_r_list,medium_gap_r_list,high_gap_r_list,total_gap_r_list])"
   ]
  },
  {
   "cell_type": "code",
   "execution_count": 23,
   "metadata": {},
   "outputs": [],
   "source": [
    "sparse_sampler_full = SparseDummySampler(datasetFull, mode=\"train\")"
   ]
  },
  {
   "cell_type": "code",
   "execution_count": 20,
   "metadata": {},
   "outputs": [
    {
     "name": "stderr",
     "output_type": "stream",
     "text": [
      "[19:24:04-140421]  | item 30495/304953 | ms/user 338.65 |\n",
      "[22:14:27-140421]  | item 60990/304953 | ms/user 335.23 |\n",
      "[01:06:36-150421]  | item 91485/304953 | ms/user 338.72 |\n",
      "[03:59:30-150421]  | item 121980/304953 | ms/user 340.17 |\n",
      "[06:52:59-150421]  | item 152475/304953 | ms/user 341.34 |\n",
      "[09:48:10-150421]  | item 182970/304953 | ms/user 344.68 |\n",
      "[12:44:32-150421]  | item 213465/304953 | ms/user 347.00 |\n",
      "[15:44:01-150421]  | item 243960/304953 | ms/user 353.15 |\n",
      "[18:44:57-150421]  | item 274455/304953 | ms/user 355.98 |\n",
      "[21:47:56-150421]  | item 304950/304953 | ms/user 360.02 |\n",
      "[21:48:00-150421]  | training complete | total training time 105362.39 s |\n",
      "/home/jimi/music_fairness/music_fairness/lib/python3.6/site-packages/rectorch/metrics.py:245: RuntimeWarning: invalid value encountered in multiply\n",
      "  num = pred_scores * ground_truth\n",
      "[21:50:09-150421]  Saving SLIM model to slim_full...\n",
      "[21:50:15-150421]  Model saved!\n"
     ]
    }
   ],
   "source": [
    "sparse_sampler_full.train()\n",
    "slimFull = SLIM(l1_reg=.0003, l2_reg=.03)\n",
    "slimFull.train(sparse_sampler_full)\n",
    "\n",
    "sparse_sampler_full.test()\n",
    "results = evaluate(slimFull, sparse_sampler_full, [\"ap@5000\"])\n",
    "collect_results(results)\n",
    "\n",
    "slimFull.save_model(\"slim_full\")"
   ]
  },
  {
   "cell_type": "code",
   "execution_count": 34,
   "metadata": {
    "scrolled": true
   },
   "outputs": [
    {
     "name": "stderr",
     "output_type": "stream",
     "text": [
      "[17:09:29-060521]  Loading SLIM model from slim_full...\n",
      "[17:09:34-060521]  Model loaded!\n"
     ]
    }
   ],
   "source": [
    "slimFull = SLIM(l1_reg=.0003, l2_reg=.03)\n",
    "slimFull = slimFull.load_model(\"slim_full\")"
   ]
  },
  {
   "cell_type": "code",
   "execution_count": 30,
   "metadata": {},
   "outputs": [
    {
     "data": {
      "text/plain": [
       "{'ap@300000': (0.0942114012661564, 0.06139575710541383)}"
      ]
     },
     "execution_count": 30,
     "metadata": {},
     "output_type": "execute_result"
    }
   ],
   "source": [
    "sparse_sampler_full.test()\n",
    "results = evaluate(slimFull, sparse_sampler_full, [\"ap@300000\"])\n",
    "collect_results(results)"
   ]
  },
  {
   "cell_type": "code",
   "execution_count": 28,
   "metadata": {},
   "outputs": [
    {
     "data": {
      "text/plain": [
       "{'auc': (0.960984, 0.033264134)}"
      ]
     },
     "execution_count": 28,
     "metadata": {},
     "output_type": "execute_result"
    }
   ],
   "source": [
    "results = evaluate(slimFull, sparse_sampler_full, [\"auc\"])\n",
    "collect_results(results)"
   ]
  },
  {
   "cell_type": "code",
   "execution_count": 27,
   "metadata": {},
   "outputs": [
    {
     "name": "stdout",
     "output_type": "stream",
     "text": [
      "done\n",
      "2.723715030009914\n",
      "2.5596250781661016\n",
      "2.141520294075726\n",
      "2.450969770363109\n"
     ]
    },
    {
     "data": {
      "text/plain": [
       "([2.723715030009914],\n",
       " [2.5596250781661016],\n",
       " [2.141520294075726],\n",
       " [2.450969770363109])"
      ]
     },
     "execution_count": 27,
     "metadata": {},
     "output_type": "execute_result"
    }
   ],
   "source": [
    "low_gap_r_list, medium_gap_r_list,high_gap_r_list,total_gap_r_list = calcGapR_rectorch([slimFull],[sparse_sampler_full], datasetFull, artist_dist, get_top_artists, get_reverse_matrices, getPredictions)\n"
   ]
  },
  {
   "cell_type": "code",
   "execution_count": 28,
   "metadata": {},
   "outputs": [
    {
     "name": "stdout",
     "output_type": "stream",
     "text": [
      "done\n"
     ]
    }
   ],
   "source": [
    "calc_delta_gap_rectorch([low_gap_p, medium_gap_p,high_gap_p, total_gap_p],[low_gap_r_list,medium_gap_r_list,high_gap_r_list,total_gap_r_list])"
   ]
  },
  {
   "cell_type": "code",
   "execution_count": 25,
   "metadata": {},
   "outputs": [],
   "source": [
    "array_sampler_full = ArrayDummySampler(datasetFull, mode=\"train\")\n",
    "array_sampler_test = ArrayDummySampler(dataset,mode=\"train\")"
   ]
  },
  {
   "cell_type": "code",
   "execution_count": 20,
   "metadata": {},
   "outputs": [
    {
     "name": "stderr",
     "output_type": "stream",
     "text": [
      "[16:50:03-040521]  EASE - start tarining (lam=500.0000)\n"
     ]
    },
    {
     "ename": "MemoryError",
     "evalue": "Unable to allocate 693. GiB for an array with shape (304953, 304953) and data type float64",
     "output_type": "error",
     "traceback": [
      "\u001b[0;31m---------------------------------------------------------------------------\u001b[0m",
      "\u001b[0;31mMemoryError\u001b[0m                               Traceback (most recent call last)",
      "\u001b[0;32m<ipython-input-20-f681c2d48ade>\u001b[0m in \u001b[0;36m<module>\u001b[0;34m\u001b[0m\n\u001b[1;32m      1\u001b[0m \u001b[0mease\u001b[0m \u001b[0;34m=\u001b[0m \u001b[0mEASE\u001b[0m\u001b[0;34m(\u001b[0m\u001b[0;36m500\u001b[0m\u001b[0;34m)\u001b[0m\u001b[0;34m\u001b[0m\u001b[0;34m\u001b[0m\u001b[0m\n\u001b[0;32m----> 2\u001b[0;31m \u001b[0mease\u001b[0m\u001b[0;34m.\u001b[0m\u001b[0mtrain\u001b[0m\u001b[0;34m(\u001b[0m\u001b[0marray_sampler_full\u001b[0m\u001b[0;34m)\u001b[0m\u001b[0;34m\u001b[0m\u001b[0;34m\u001b[0m\u001b[0m\n\u001b[0m\u001b[1;32m      3\u001b[0m \u001b[0;34m\u001b[0m\u001b[0m\n\u001b[1;32m      4\u001b[0m \u001b[0marray_sampler_test\u001b[0m\u001b[0;34m.\u001b[0m\u001b[0mtest\u001b[0m\u001b[0;34m(\u001b[0m\u001b[0;34m)\u001b[0m\u001b[0;34m\u001b[0m\u001b[0;34m\u001b[0m\u001b[0m\n\u001b[1;32m      5\u001b[0m \u001b[0mresults\u001b[0m \u001b[0;34m=\u001b[0m \u001b[0mevaluate\u001b[0m\u001b[0;34m(\u001b[0m\u001b[0mease\u001b[0m\u001b[0;34m,\u001b[0m \u001b[0marray_sampler_full\u001b[0m\u001b[0;34m,\u001b[0m \u001b[0;34m[\u001b[0m\u001b[0;34m\"ap@5000\"\u001b[0m\u001b[0;34m]\u001b[0m\u001b[0;34m)\u001b[0m\u001b[0;34m\u001b[0m\u001b[0;34m\u001b[0m\u001b[0m\n",
      "\u001b[0;32m~/music_fairness/music_fairness/lib/python3.6/site-packages/rectorch/models/mf.py\u001b[0m in \u001b[0;36mtrain\u001b[0;34m(self, dataset)\u001b[0m\n\u001b[1;32m     92\u001b[0m             \u001b[0;32mraise\u001b[0m \u001b[0mValueError\u001b[0m\u001b[0;34m(\u001b[0m\u001b[0;34m\"Wrong sampler type.\"\u001b[0m\u001b[0;34m)\u001b[0m\u001b[0;34m\u001b[0m\u001b[0;34m\u001b[0m\u001b[0m\n\u001b[1;32m     93\u001b[0m \u001b[0;34m\u001b[0m\u001b[0m\n\u001b[0;32m---> 94\u001b[0;31m         \u001b[0mG\u001b[0m \u001b[0;34m=\u001b[0m \u001b[0mnp\u001b[0m\u001b[0;34m.\u001b[0m\u001b[0mdot\u001b[0m\u001b[0;34m(\u001b[0m\u001b[0mX\u001b[0m\u001b[0;34m.\u001b[0m\u001b[0mT\u001b[0m\u001b[0;34m,\u001b[0m \u001b[0mX\u001b[0m\u001b[0;34m)\u001b[0m\u001b[0;34m\u001b[0m\u001b[0;34m\u001b[0m\u001b[0m\n\u001b[0m\u001b[1;32m     95\u001b[0m         \u001b[0menv\u001b[0m\u001b[0;34m.\u001b[0m\u001b[0mlogger\u001b[0m\u001b[0;34m.\u001b[0m\u001b[0minfo\u001b[0m\u001b[0;34m(\u001b[0m\u001b[0;34m\"EASE - linear kernel computed\"\u001b[0m\u001b[0;34m)\u001b[0m\u001b[0;34m\u001b[0m\u001b[0;34m\u001b[0m\u001b[0m\n\u001b[1;32m     96\u001b[0m         \u001b[0mdiag_idx\u001b[0m \u001b[0;34m=\u001b[0m \u001b[0mnp\u001b[0m\u001b[0;34m.\u001b[0m\u001b[0mdiag_indices\u001b[0m\u001b[0;34m(\u001b[0m\u001b[0mG\u001b[0m\u001b[0;34m.\u001b[0m\u001b[0mshape\u001b[0m\u001b[0;34m[\u001b[0m\u001b[0;36m0\u001b[0m\u001b[0;34m]\u001b[0m\u001b[0;34m)\u001b[0m\u001b[0;34m\u001b[0m\u001b[0;34m\u001b[0m\u001b[0m\n",
      "\u001b[0;32m<__array_function__ internals>\u001b[0m in \u001b[0;36mdot\u001b[0;34m(*args, **kwargs)\u001b[0m\n",
      "\u001b[0;31mMemoryError\u001b[0m: Unable to allocate 693. GiB for an array with shape (304953, 304953) and data type float64"
     ]
    }
   ],
   "source": [
    "ease = EASE(500)\n",
    "ease.train(array_sampler_full)\n",
    "\n",
    "array_sampler_test.test()\n",
    "results = evaluate(ease, array_sampler_full, [\"ap@5000\"])\n",
    "collect_results(results)\n"
   ]
  },
  {
   "cell_type": "code",
   "execution_count": 30,
   "metadata": {},
   "outputs": [
    {
     "name": "stderr",
     "output_type": "stream",
     "text": [
      "[19:54:40-270421]  EASE - start tarining (lam=100.0000)\n"
     ]
    },
    {
     "name": "stdout",
     "output_type": "stream",
     "text": [
      "100\n"
     ]
    },
    {
     "name": "stderr",
     "output_type": "stream",
     "text": [
      "[19:54:40-270421]  EASE - linear kernel computed\n",
      "[19:54:42-270421]  EASE - training complete\n",
      "[19:54:44-270421]  EASE - start tarining (lam=150.0000)\n"
     ]
    },
    {
     "name": "stdout",
     "output_type": "stream",
     "text": [
      "{'ap@5000': (0.1179903148670593, 0.0778611649631584)}\n",
      "0.1179903148670593\n",
      "150\n"
     ]
    },
    {
     "name": "stderr",
     "output_type": "stream",
     "text": [
      "[19:54:44-270421]  EASE - linear kernel computed\n",
      "[19:54:46-270421]  EASE - training complete\n",
      "[19:54:48-270421]  EASE - start tarining (lam=200.0000)\n"
     ]
    },
    {
     "name": "stdout",
     "output_type": "stream",
     "text": [
      "{'ap@5000': (0.12337434998215327, 0.07900532355629937)}\n",
      "0.12337434998215327\n",
      "200\n"
     ]
    },
    {
     "name": "stderr",
     "output_type": "stream",
     "text": [
      "[19:54:48-270421]  EASE - linear kernel computed\n",
      "[19:54:50-270421]  EASE - training complete\n",
      "[19:54:51-270421]  EASE - start tarining (lam=250.0000)\n"
     ]
    },
    {
     "name": "stdout",
     "output_type": "stream",
     "text": [
      "{'ap@5000': (0.126492318514919, 0.07963787725992458)}\n",
      "0.126492318514919\n",
      "250\n"
     ]
    },
    {
     "name": "stderr",
     "output_type": "stream",
     "text": [
      "[19:54:52-270421]  EASE - linear kernel computed\n",
      "[19:54:54-270421]  EASE - training complete\n",
      "[19:54:55-270421]  EASE - start tarining (lam=300.0000)\n"
     ]
    },
    {
     "name": "stdout",
     "output_type": "stream",
     "text": [
      "{'ap@5000': (0.12857187513476598, 0.08012493077934621)}\n",
      "0.12857187513476598\n",
      "300\n"
     ]
    },
    {
     "name": "stderr",
     "output_type": "stream",
     "text": [
      "[19:54:56-270421]  EASE - linear kernel computed\n",
      "[19:54:58-270421]  EASE - training complete\n",
      "[19:54:59-270421]  EASE - start tarining (lam=350.0000)\n"
     ]
    },
    {
     "name": "stdout",
     "output_type": "stream",
     "text": [
      "{'ap@5000': (0.1298890251835875, 0.08022766815696428)}\n",
      "0.1298890251835875\n",
      "350\n"
     ]
    },
    {
     "name": "stderr",
     "output_type": "stream",
     "text": [
      "[19:55:00-270421]  EASE - linear kernel computed\n",
      "[19:55:02-270421]  EASE - training complete\n",
      "[19:55:03-270421]  EASE - start tarining (lam=400.0000)\n"
     ]
    },
    {
     "name": "stdout",
     "output_type": "stream",
     "text": [
      "{'ap@5000': (0.13084361445296902, 0.08063322956534863)}\n",
      "0.13084361445296902\n",
      "400\n"
     ]
    },
    {
     "name": "stderr",
     "output_type": "stream",
     "text": [
      "[19:55:04-270421]  EASE - linear kernel computed\n",
      "[19:55:06-270421]  EASE - training complete\n",
      "[19:55:07-270421]  EASE - start tarining (lam=450.0000)\n"
     ]
    },
    {
     "name": "stdout",
     "output_type": "stream",
     "text": [
      "{'ap@5000': (0.13139021994619446, 0.08065568987775001)}\n",
      "0.13139021994619446\n",
      "450\n"
     ]
    },
    {
     "name": "stderr",
     "output_type": "stream",
     "text": [
      "[19:55:07-270421]  EASE - linear kernel computed\n",
      "[19:55:10-270421]  EASE - training complete\n",
      "[19:55:11-270421]  EASE - start tarining (lam=500.0000)\n"
     ]
    },
    {
     "name": "stdout",
     "output_type": "stream",
     "text": [
      "{'ap@5000': (0.13160641688534572, 0.08074255447480981)}\n",
      "0.13160641688534572\n",
      "500\n"
     ]
    },
    {
     "name": "stderr",
     "output_type": "stream",
     "text": [
      "[19:55:11-270421]  EASE - linear kernel computed\n",
      "[19:55:14-270421]  EASE - training complete\n",
      "[19:55:15-270421]  EASE - start tarining (lam=550.0000)\n"
     ]
    },
    {
     "name": "stdout",
     "output_type": "stream",
     "text": [
      "{'ap@5000': (0.13180846894672282, 0.08078918435269586)}\n",
      "0.13180846894672282\n",
      "550\n"
     ]
    },
    {
     "name": "stderr",
     "output_type": "stream",
     "text": [
      "[19:55:15-270421]  EASE - linear kernel computed\n",
      "[19:55:17-270421]  EASE - training complete\n",
      "[19:55:19-270421]  EASE - start tarining (lam=600.0000)\n"
     ]
    },
    {
     "name": "stdout",
     "output_type": "stream",
     "text": [
      "{'ap@5000': (0.1316883755184622, 0.08061286693923611)}\n",
      "0.1316883755184622\n",
      "600\n"
     ]
    },
    {
     "name": "stderr",
     "output_type": "stream",
     "text": [
      "[19:55:19-270421]  EASE - linear kernel computed\n",
      "[19:55:21-270421]  EASE - training complete\n",
      "[19:55:23-270421]  EASE - start tarining (lam=650.0000)\n"
     ]
    },
    {
     "name": "stdout",
     "output_type": "stream",
     "text": [
      "{'ap@5000': (0.13164560079163398, 0.08061008742781052)}\n",
      "0.13164560079163398\n",
      "650\n"
     ]
    },
    {
     "name": "stderr",
     "output_type": "stream",
     "text": [
      "[19:55:23-270421]  EASE - linear kernel computed\n",
      "[19:55:25-270421]  EASE - training complete\n",
      "[19:55:26-270421]  EASE - start tarining (lam=700.0000)\n"
     ]
    },
    {
     "name": "stdout",
     "output_type": "stream",
     "text": [
      "{'ap@5000': (0.13141524492738188, 0.08018292350720423)}\n",
      "0.13141524492738188\n",
      "700\n"
     ]
    },
    {
     "name": "stderr",
     "output_type": "stream",
     "text": [
      "[19:55:27-270421]  EASE - linear kernel computed\n",
      "[19:55:29-270421]  EASE - training complete\n",
      "[19:55:30-270421]  EASE - start tarining (lam=750.0000)\n"
     ]
    },
    {
     "name": "stdout",
     "output_type": "stream",
     "text": [
      "{'ap@5000': (0.13113942966458147, 0.08014753181176151)}\n",
      "0.13113942966458147\n",
      "750\n"
     ]
    },
    {
     "name": "stderr",
     "output_type": "stream",
     "text": [
      "[19:55:31-270421]  EASE - linear kernel computed\n",
      "[19:55:33-270421]  EASE - training complete\n",
      "[19:55:35-270421]  EASE - start tarining (lam=800.0000)\n"
     ]
    },
    {
     "name": "stdout",
     "output_type": "stream",
     "text": [
      "{'ap@5000': (0.13102866974516203, 0.08008700420087392)}\n",
      "0.13102866974516203\n",
      "800\n"
     ]
    },
    {
     "name": "stderr",
     "output_type": "stream",
     "text": [
      "[19:55:35-270421]  EASE - linear kernel computed\n",
      "[19:55:37-270421]  EASE - training complete\n",
      "[19:55:39-270421]  EASE - start tarining (lam=850.0000)\n"
     ]
    },
    {
     "name": "stdout",
     "output_type": "stream",
     "text": [
      "{'ap@5000': (0.13073164716464822, 0.07976555845352133)}\n",
      "0.13073164716464822\n",
      "850\n"
     ]
    },
    {
     "name": "stderr",
     "output_type": "stream",
     "text": [
      "[19:55:39-270421]  EASE - linear kernel computed\n",
      "[19:55:41-270421]  EASE - training complete\n",
      "[19:55:42-270421]  EASE - start tarining (lam=900.0000)\n"
     ]
    },
    {
     "name": "stdout",
     "output_type": "stream",
     "text": [
      "{'ap@5000': (0.13045312113764976, 0.07955909810241284)}\n",
      "0.13045312113764976\n",
      "900\n"
     ]
    },
    {
     "name": "stderr",
     "output_type": "stream",
     "text": [
      "[19:55:43-270421]  EASE - linear kernel computed\n",
      "[19:55:45-270421]  EASE - training complete\n",
      "[19:55:46-270421]  EASE - start tarining (lam=950.0000)\n"
     ]
    },
    {
     "name": "stdout",
     "output_type": "stream",
     "text": [
      "{'ap@5000': (0.13017729393471678, 0.07946441590788961)}\n",
      "0.13017729393471678\n",
      "950\n"
     ]
    },
    {
     "name": "stderr",
     "output_type": "stream",
     "text": [
      "[19:55:47-270421]  EASE - linear kernel computed\n",
      "[19:55:49-270421]  EASE - training complete\n",
      "[19:55:50-270421]  EASE - start tarining (lam=1000.0000)\n"
     ]
    },
    {
     "name": "stdout",
     "output_type": "stream",
     "text": [
      "{'ap@5000': (0.12984975869899804, 0.07938022028209238)}\n",
      "0.12984975869899804\n",
      "1000\n"
     ]
    },
    {
     "name": "stderr",
     "output_type": "stream",
     "text": [
      "[19:55:51-270421]  EASE - linear kernel computed\n",
      "[19:55:53-270421]  EASE - training complete\n"
     ]
    },
    {
     "name": "stdout",
     "output_type": "stream",
     "text": [
      "{'ap@5000': (0.1294967565823914, 0.07918547487211418)}\n",
      "0.1294967565823914\n",
      "[0.11799031 0.12337435 0.12649232 0.12857188 0.12988903 0.13084361\n",
      " 0.13139022 0.13160642 0.13180847 0.13168838 0.1316456  0.13141524\n",
      " 0.13113943 0.13102867 0.13073165 0.13045312 0.13017729 0.12984976\n",
      " 0.12949676]\n",
      "[500]\n"
     ]
    }
   ],
   "source": [
    "lambda_vals =  np.array([100,150,200,250,300,350,400,450,500,550,600,650,700,750,800,850,900,950,1000])\n",
    "\n",
    "error = np.zeros([lambda_vals.size])\n",
    "\n",
    "\n",
    "for i in range(len(lambda_vals)):\n",
    "        array_sampler_test.train()\n",
    "        \n",
    "        print(lambda_vals[i])\n",
    "        \n",
    "        ease = EASE(lambda_vals[i])\n",
    "        ease.train(array_sampler_test)\n",
    "        \n",
    "        array_sampler_test.test()\n",
    "        \n",
    "        results = evaluate(ease, array_sampler_test, [\"ap@5000\"])\n",
    "        error[i] = collect_results(results).get(\"ap@5000\")[0]\n",
    "        print(collect_results(results))\n",
    "        print(collect_results(results).get(\"ap@5000\")[0])\n",
    "        \n",
    "print(error)\n",
    "        \n",
    "minError = np.argwhere(error == np.amax(error))\n",
    "Lambda = lambda_vals[(minError[0])]\n",
    "print(Lambda)\n"
   ]
  },
  {
   "cell_type": "code",
   "execution_count": 25,
   "metadata": {},
   "outputs": [
    {
     "name": "stdout",
     "output_type": "stream",
     "text": [
      "[NbConvertApp] Converting notebook Research.ipynb to script\n",
      "[NbConvertApp] Writing 24630 bytes to Research.py\n"
     ]
    }
   ],
   "source": [
    "!jupyter nbconvert --to script Research.ipynb"
   ]
  },
  {
   "cell_type": "code",
   "execution_count": null,
   "metadata": {},
   "outputs": [],
   "source": [
    "# 500 is best lambda"
   ]
  },
  {
   "cell_type": "code",
   "execution_count": 26,
   "metadata": {},
   "outputs": [],
   "source": [
    "rnd = Random(datasetFull.n_items)\n",
    "rnd.train(array_sampler_full)\n",
    "pop = Popularity(datasetFull.n_items)\n",
    "pop.train(array_sampler_full)"
   ]
  },
  {
   "cell_type": "code",
   "execution_count": 27,
   "metadata": {},
   "outputs": [
    {
     "name": "stderr",
     "output_type": "stream",
     "text": [
      "/home/jimi/music_fairness/music_fairness/lib/python3.6/site-packages/rectorch/metrics.py:245: RuntimeWarning: invalid value encountered in multiply\n",
      "  num = pred_scores * ground_truth\n"
     ]
    },
    {
     "data": {
      "text/plain": [
       "{'ap@300000': (0.00011144557044211913, 0.0002787907011472907),\n",
       " 'auc': (0.49934548, 0.05818758)}"
      ]
     },
     "execution_count": 27,
     "metadata": {},
     "output_type": "execute_result"
    }
   ],
   "source": [
    "array_sampler_full.test()\n",
    "results = evaluate(rnd, array_sampler_full, [\"ap@300000\",\"auc\"])\n",
    "collect_results(results)"
   ]
  },
  {
   "cell_type": "code",
   "execution_count": 28,
   "metadata": {},
   "outputs": [
    {
     "data": {
      "text/plain": [
       "{'ap@300000': (0.017057322749954452, 0.018254320891572272),\n",
       " 'auc': (0.9198649, 0.05330277)}"
      ]
     },
     "execution_count": 28,
     "metadata": {},
     "output_type": "execute_result"
    }
   ],
   "source": [
    "results = evaluate(pop, array_sampler_full, [\"ap@300000\",\"auc\"])\n",
    "collect_results(results)"
   ]
  },
  {
   "cell_type": "code",
   "execution_count": 34,
   "metadata": {},
   "outputs": [
    {
     "name": "stdout",
     "output_type": "stream",
     "text": [
      "done\n",
      "done\n",
      "-0.9631437682399542\n",
      "-0.9670995676674233\n",
      "-0.9702689870631357\n",
      "-0.9671168964772376\n"
     ]
    }
   ],
   "source": [
    "low_gap_r_list, medium_gap_r_list,high_gap_r_list,total_gap_r_list = calcGapR([rnd,pop,slimFull],[array_sampler_full,array_sampler_full], datasetFull, artist_dist, get_top_artists, get_reverse_matrices, getPredictions)\n",
    "delta_gap_low_rectorch, delta_gap_med_rectorch, delta_gap_high-rectorch, delta_gap_tot_rectorch = calc_delta_gap([low_gap_p, medium_gap_p,high_gap_p, total_gap_p],[low_gap_r_list,medium_gap_r_list,high_gap_r_list,total_gap_r_list])\n"
   ]
  },
  {
   "cell_type": "code",
   "execution_count": 39,
   "metadata": {},
   "outputs": [
    {
     "name": "stdout",
     "output_type": "stream",
     "text": [
      "Rand \t\t\t Pop\n",
      "-0.9631437682399542 \t 7.517133380448607\n",
      "----------------------------------\n",
      "-0.9670995676674233 \t 6.774961014473743\n",
      "----------------------------------\n",
      "-0.9702689870631357 \t 5.724966666047944\n",
      "----------------------------------\n",
      "-0.9671168964772376 \t 6.600169748341781\n"
     ]
    }
   ],
   "source": [
    "print(\"Rand \\t\\t\\t Pop\")\n",
    "print(d_gap_low[0] , \"\\t\" , d_gap_low[1])\n",
    "print(\"----------------------------------\")\n",
    "print(d_gap_med[0] , \"\\t\" , d_gap_med[1])\n",
    "print(\"----------------------------------\")\n",
    "print(d_gap_high[0] , \"\\t\" , d_gap_high[1])\n",
    "print(\"----------------------------------\")\n",
    "print(d_gap_tot[0] , \"\\t\" , d_gap_tot[1])"
   ]
  },
  {
   "cell_type": "code",
   "execution_count": 42,
   "metadata": {},
   "outputs": [],
   "source": [
    "a = np.random.rand(10,5)\n",
    "b = np.random.rand(5,2)"
   ]
  },
  {
   "cell_type": "code",
   "execution_count": 48,
   "metadata": {},
   "outputs": [],
   "source": [
    "am = np.memmap(\"a\", dtype='float64', mode='w+', shape=(10,5))"
   ]
  },
  {
   "cell_type": "code",
   "execution_count": 49,
   "metadata": {},
   "outputs": [
    {
     "data": {
      "text/plain": [
       "memmap([[0.4122438 , 0.94355029, 0.20695488, 0.35159221, 0.66423523],\n",
       "        [0.02890088, 0.59391916, 0.49491518, 0.29965446, 0.27447989],\n",
       "        [0.15836222, 0.20191039, 0.68435666, 0.20265116, 0.2792757 ],\n",
       "        [0.37711331, 0.1137091 , 0.26286622, 0.56935083, 0.48655931],\n",
       "        [0.13088702, 0.69850903, 0.4149465 , 0.13716754, 0.55585308],\n",
       "        [0.88393806, 0.76781751, 0.32151671, 0.47386284, 0.51898483],\n",
       "        [0.80916518, 0.07746234, 0.52304658, 0.99374914, 0.41957344],\n",
       "        [0.00101277, 0.01112728, 0.00911397, 0.64833208, 0.95944097],\n",
       "        [0.97459299, 0.69782636, 0.6333146 , 0.18911293, 0.9827707 ],\n",
       "        [0.45599157, 0.0714055 , 0.02264248, 0.10613457, 0.86642709]])"
      ]
     },
     "execution_count": 49,
     "metadata": {},
     "output_type": "execute_result"
    }
   ],
   "source": [
    "am[:] = a[:]\n",
    "am"
   ]
  },
  {
   "cell_type": "code",
   "execution_count": 51,
   "metadata": {},
   "outputs": [
    {
     "data": {
      "text/plain": [
       "memmap([[0.95832632, 0.72264421],\n",
       "        [0.91171932, 0.12955058],\n",
       "        [0.53743577, 0.39026898],\n",
       "        [0.53204516, 0.19660909],\n",
       "        [0.35568222, 0.94941565]])"
      ]
     },
     "execution_count": 51,
     "metadata": {},
     "output_type": "execute_result"
    }
   ],
   "source": [
    "bm = np.memmap(\"b\", dtype='float64', mode='w+', shape=(5,2))\n",
    "bm[:] = b[:]\n",
    "bm"
   ]
  },
  {
   "cell_type": "code",
   "execution_count": 22,
   "metadata": {},
   "outputs": [],
   "source": [
    "def _block_slices(dim_size, block_size):\n",
    "    \"\"\"Generator that yields slice objects for indexing into \n",
    "    sequential blocks of an array along a particular axis\n",
    "    \"\"\"\n",
    "    count = 0\n",
    "    while True:\n",
    "        yield slice(count, int(count + block_size), 1)\n",
    "        count += block_size\n",
    "        if count > dim_size:\n",
    "            raise StopIteration\n",
    "\n",
    "def blockwise_dot(A, B, max_elements=int(2**27), out=None):\n",
    "    \"\"\"\n",
    "    Computes the dot product of two matrices in a block-wise fashion. \n",
    "    Only blocks of `A` with a maximum size of `max_elements` will be \n",
    "    processed simultaneously.\n",
    "    \"\"\"\n",
    "\n",
    "    m,  n = A.shape\n",
    "    n1, o = B.shape\n",
    "    print(max_elements)\n",
    "\n",
    "    if n1 != n:\n",
    "        raise ValueError('matrices are not aligned')\n",
    "\n",
    "    if A.flags.f_contiguous:\n",
    "        # prioritize processing as many columns of A as possible\n",
    "        max_cols = max(1, max_elements / m)\n",
    "        max_rows =  max_elements / max_cols\n",
    "\n",
    "    else:\n",
    "        # prioritize processing as many rows of A as possible\n",
    "        max_rows = int(max(1, max_elements / n))\n",
    "        max_cols =  int(max_elements / max_rows)\n",
    "\n",
    "    if out is None:\n",
    "        out = np.empty((m, o), dtype=np.result_type(A, B))\n",
    "    elif out.shape != (m, o):\n",
    "        raise ValueError('output array has incorrect dimensions')\n",
    "\n",
    "    for mm in _block_slices(m, max_rows):\n",
    "        print(mm)\n",
    "        print(max_rows)\n",
    "        print(m)\n",
    "        out[mm, :] = 0\n",
    "        for nn in _block_slices(n, max_cols):\n",
    "            A_block = A[mm, nn].copy()  # copy to force a read\n",
    "            out[mm, :] += np.dot(A_block, B[nn, :])\n",
    "            del A_block\n",
    "\n",
    "    return out"
   ]
  },
  {
   "cell_type": "code",
   "execution_count": 11,
   "metadata": {},
   "outputs": [],
   "source": [
    "data_samplerf = ArrayDummySampler(dataset)\n",
    "X = data_samplerf.data_tr"
   ]
  },
  {
   "cell_type": "code",
   "execution_count": 23,
   "metadata": {},
   "outputs": [],
   "source": [
    "Xfull = np.memmap(\"../../../../../media/jimi/Shaddoll/x\", dtype='float32', mode='w+', shape=(304953, 304953))"
   ]
  },
  {
   "cell_type": "code",
   "execution_count": 24,
   "metadata": {},
   "outputs": [
    {
     "name": "stdout",
     "output_type": "stream",
     "text": [
      "134217728\n",
      "slice(0, 304953, 1)\n",
      "304953.0\n",
      "304953\n"
     ]
    },
    {
     "ename": "MemoryError",
     "evalue": "Unable to allocate 693. GiB for an array with shape (304953, 304953) and data type float64",
     "output_type": "error",
     "traceback": [
      "\u001b[0;31m---------------------------------------------------------------------------\u001b[0m",
      "\u001b[0;31mMemoryError\u001b[0m                               Traceback (most recent call last)",
      "\u001b[0;32m<ipython-input-24-ee9c453f2525>\u001b[0m in \u001b[0;36m<module>\u001b[0;34m\u001b[0m\n\u001b[0;32m----> 1\u001b[0;31m \u001b[0mtot\u001b[0m \u001b[0;34m=\u001b[0m \u001b[0mblockwise_dot\u001b[0m\u001b[0;34m(\u001b[0m\u001b[0mX\u001b[0m\u001b[0;34m.\u001b[0m\u001b[0mT\u001b[0m\u001b[0;34m,\u001b[0m\u001b[0mX\u001b[0m\u001b[0;34m,\u001b[0m \u001b[0mout\u001b[0m\u001b[0;34m=\u001b[0m\u001b[0mXfull\u001b[0m\u001b[0;34m)\u001b[0m\u001b[0;34m\u001b[0m\u001b[0;34m\u001b[0m\u001b[0m\n\u001b[0m",
      "\u001b[0;32m<ipython-input-22-aebc71d2b702>\u001b[0m in \u001b[0;36mblockwise_dot\u001b[0;34m(A, B, max_elements, out)\u001b[0m\n\u001b[1;32m     46\u001b[0m         \u001b[0;32mfor\u001b[0m \u001b[0mnn\u001b[0m \u001b[0;32min\u001b[0m \u001b[0m_block_slices\u001b[0m\u001b[0;34m(\u001b[0m\u001b[0mn\u001b[0m\u001b[0;34m,\u001b[0m \u001b[0mmax_cols\u001b[0m\u001b[0;34m)\u001b[0m\u001b[0;34m:\u001b[0m\u001b[0;34m\u001b[0m\u001b[0;34m\u001b[0m\u001b[0m\n\u001b[1;32m     47\u001b[0m             \u001b[0mA_block\u001b[0m \u001b[0;34m=\u001b[0m \u001b[0mA\u001b[0m\u001b[0;34m[\u001b[0m\u001b[0mmm\u001b[0m\u001b[0;34m,\u001b[0m \u001b[0mnn\u001b[0m\u001b[0;34m]\u001b[0m\u001b[0;34m.\u001b[0m\u001b[0mcopy\u001b[0m\u001b[0;34m(\u001b[0m\u001b[0;34m)\u001b[0m  \u001b[0;31m# copy to force a read\u001b[0m\u001b[0;34m\u001b[0m\u001b[0;34m\u001b[0m\u001b[0m\n\u001b[0;32m---> 48\u001b[0;31m             \u001b[0mout\u001b[0m\u001b[0;34m[\u001b[0m\u001b[0mmm\u001b[0m\u001b[0;34m,\u001b[0m \u001b[0;34m:\u001b[0m\u001b[0;34m]\u001b[0m \u001b[0;34m+=\u001b[0m \u001b[0mnp\u001b[0m\u001b[0;34m.\u001b[0m\u001b[0mdot\u001b[0m\u001b[0;34m(\u001b[0m\u001b[0mA_block\u001b[0m\u001b[0;34m,\u001b[0m \u001b[0mB\u001b[0m\u001b[0;34m[\u001b[0m\u001b[0mnn\u001b[0m\u001b[0;34m,\u001b[0m \u001b[0;34m:\u001b[0m\u001b[0;34m]\u001b[0m\u001b[0;34m)\u001b[0m\u001b[0;34m\u001b[0m\u001b[0;34m\u001b[0m\u001b[0m\n\u001b[0m\u001b[1;32m     49\u001b[0m             \u001b[0;32mdel\u001b[0m \u001b[0mA_block\u001b[0m\u001b[0;34m\u001b[0m\u001b[0;34m\u001b[0m\u001b[0m\n\u001b[1;32m     50\u001b[0m \u001b[0;34m\u001b[0m\u001b[0m\n",
      "\u001b[0;32m<__array_function__ internals>\u001b[0m in \u001b[0;36mdot\u001b[0;34m(*args, **kwargs)\u001b[0m\n",
      "\u001b[0;31mMemoryError\u001b[0m: Unable to allocate 693. GiB for an array with shape (304953, 304953) and data type float64"
     ]
    }
   ],
   "source": [
    "tot = blockwise_dot(X.T,X, out=Xfull)"
   ]
  },
  {
   "cell_type": "markdown",
   "metadata": {},
   "source": [
    "# Explicit Recommendations with Surprise"
   ]
  },
  {
   "cell_type": "code",
   "execution_count": 16,
   "metadata": {},
   "outputs": [],
   "source": [
    "# reading in data into a form that surprise can work with\n",
    "reader = Reader(rating_scale=(1,1000))\n",
    "data = Dataset.load_from_df(df_events,reader)"
   ]
  },
  {
   "cell_type": "code",
   "execution_count": 17,
   "metadata": {},
   "outputs": [],
   "source": [
    "# 80/20 train/test split\n",
    "# to my knowledge random_state doesnt matter as long as its some number?\n",
    "trainset, testset = train_test_split(data, test_size = 0.2, random_state=5) "
   ]
  },
  {
   "cell_type": "code",
   "execution_count": 18,
   "metadata": {},
   "outputs": [],
   "source": [
    "def get_top_artists(predictions, num=10):\n",
    "    \"\"\"Return the top-N recommendation for each user from a set of predictions.\n",
    "\n",
    "    Args:\n",
    "        predictions(list of Prediction objects): The list of predictions, as\n",
    "            returned by the test method of an algorithm.\n",
    "        n(int): The number of recommendation to output for each user. Default\n",
    "            is 10.\n",
    "\n",
    "    Returns:\n",
    "    A dict where keys are user (raw) ids and values are lists of tuples:\n",
    "        [(raw item id, rating estimation), ...] of size n.\n",
    "    \"\"\"\n",
    "    top_artists_dict = defaultdict(list)\n",
    "        # creating dictionary where user id is the key, and the val is a list of tuples of the artist id and \n",
    "        # the rating it thinks the user would give it\n",
    "        \n",
    "    for user_id, artist_id, actual_val, predicted_val, details in predictions:\n",
    "        top_artists_dict[user_id].append((artist_id,predicted_val))\n",
    "        \n",
    "    #sorts user ratings based off of the predicted val rating and get the top n rated artists\n",
    "    \n",
    "    for user_id, ratings in top_artists_dict.items():\n",
    "        ratings.sort(key = lambda x: x[1], reverse=True)\n",
    "        top_artists_dict[user_id] = ratings[:num]\n",
    "    return top_artists_dict\n",
    "        \n",
    "        "
   ]
  },
  {
   "cell_type": "code",
   "execution_count": 19,
   "metadata": {},
   "outputs": [],
   "source": [
    "# Given list of predictions, prints out the Mean Absolute Error of each of the 3 groups\n",
    "def get_mae_of_groups(predictions):\n",
    "    predictions_low = []\n",
    "    predictions_medium = []\n",
    "    predictions_high = []\n",
    "    \n",
    "    for prediction_obj in predictions:\n",
    "        if prediction_obj.uid in low_users.index:\n",
    "            predictions_low.append(prediction_obj)\n",
    "            \n",
    "        elif prediction_obj.uid in medium_users.index:\n",
    "            predictions_medium.append(prediction_obj)\n",
    "            \n",
    "        elif prediction_obj.uid in high_users.index:\n",
    "            predictions_high.append(prediction_obj)\n",
    "        \n",
    "    mae_low = accuracy.mae(predictions_low)\n",
    "    mae_medium = accuracy.mae(predictions_medium)\n",
    "    mae_high = accuracy.mae(predictions_high)\n",
    "            \n",
    "    print(\"Low Predictions:\", mae_low)\n",
    "    print(\"Med Predictions: \", mae_medium)\n",
    "    print(\"High Predictions: \", mae_high)\n",
    "    \n",
    "    return mae_low, mae_medium, mae_high\n",
    "            "
   ]
  },
  {
   "cell_type": "code",
   "execution_count": 20,
   "metadata": {},
   "outputs": [],
   "source": [
    "def precision_at_k(predictions, k=10, threshold=1):\n",
    "    \"\"\"Return precision and recall at k metrics for each user\"\"\"\n",
    "\n",
    "    # First map the predictions to each user.\n",
    "    user_est_true = defaultdict(list)\n",
    "    for uid, _, true_r, est, _ in predictions:\n",
    "        user_est_true[uid].append((est, true_r))\n",
    "\n",
    "    precisions = dict()\n",
    "    for uid, user_ratings in user_est_true.items():\n",
    "\n",
    "        # Sort user ratings by estimated value\n",
    "        user_ratings.sort(key=lambda x: x[0], reverse=True)\n",
    "\n",
    "        # Number of relevant items\n",
    "        n_rel = sum((true_r >= threshold) for (_, true_r) in user_ratings)\n",
    "\n",
    "        # Number of recommended items in top k\n",
    "        n_rec_k = sum((est >= threshold) for (est, _) in user_ratings[:k])\n",
    "        print(n_rec_k)\n",
    "\n",
    "        # Number of relevant and recommended items in top k\n",
    "        n_rel_and_rec_k = sum(((true_r >= threshold) and (est >= threshold))\n",
    "                              for (est, true_r) in user_ratings[:k])\n",
    "\n",
    "        # Precision@K: Proportion of recommended items that are relevant\n",
    "        # When n_rec_k is 0, Precision is undefined. We here set it to 0.\n",
    "\n",
    "        precisions[uid] = n_rel_and_rec_k / n_rec_k if n_rec_k != 0 else 0\n",
    "\n",
    "\n",
    "    return precisions, recalls"
   ]
  },
  {
   "cell_type": "code",
   "execution_count": 22,
   "metadata": {},
   "outputs": [
    {
     "ename": "SyntaxError",
     "evalue": "unexpected EOF while parsing (<ipython-input-22-748c2ffe5673>, line 2)",
     "output_type": "error",
     "traceback": [
      "\u001b[0;36m  File \u001b[0;32m\"<ipython-input-22-748c2ffe5673>\"\u001b[0;36m, line \u001b[0;32m2\u001b[0m\n\u001b[0;31m    \u001b[0m\n\u001b[0m    ^\u001b[0m\n\u001b[0;31mSyntaxError\u001b[0m\u001b[0;31m:\u001b[0m unexpected EOF while parsing\n"
     ]
    }
   ],
   "source": [
    "def average_precision_at_k(predictions, k=10, threshold=1):\n",
    "    "
   ]
  },
  {
   "cell_type": "code",
   "execution_count": 21,
   "metadata": {},
   "outputs": [],
   "source": [
    "#Normalize data to compare artist popularity vs recommendations\n",
    "#Normalize artist popularity\n",
    "normalized_artist_dist = pd.DataFrame(artist_dist)\n",
    "normalized_artist_dist.columns = ['count']\n",
    "normalized_artist_dist['count'] /= num_users\n",
    "normalized_artist_dist.head()\n",
    "\n",
    "num_times_recommended = pd.DataFrame(artist_dist)\n",
    "num_times_recommended.columns = ['Recommendation Frequency']\n",
    "num_times_recommended['Recommendation Frequency'] = 0\n",
    "#num_times_recommended.head()\n",
    "#normalized_artist_dist.head()"
   ]
  },
  {
   "cell_type": "code",
   "execution_count": null,
   "metadata": {
    "scrolled": true
   },
   "outputs": [
    {
     "name": "stdout",
     "output_type": "stream",
     "text": [
      "Estimating biases using als...\n",
      "MAE:  19.3323\n",
      "MAE:  22.7299\n",
      "MAE:  15.9747\n",
      "MAE:  20.6602\n",
      "Low Predictions: 22.729882110843228\n",
      "Med Predictions:  15.974697020326417\n",
      "High Predictions:  20.66016101269839\n",
      "Computing the msd similarity matrix...\n",
      "Done computing similarity matrix.\n",
      "MAE:  20.4186\n",
      "MAE:  22.9923\n",
      "MAE:  17.8368\n",
      "MAE:  21.4758\n",
      "Low Predictions: 22.99232139442925\n",
      "Med Predictions:  17.836797975178353\n",
      "High Predictions:  21.475791278792332\n",
      "Computing the msd similarity matrix...\n",
      "Done computing similarity matrix.\n",
      "MAE:  21.1223\n",
      "MAE:  23.9811\n",
      "MAE:  17.9279\n",
      "MAE:  22.7326\n",
      "Low Predictions: 23.981092166238255\n",
      "Med Predictions:  17.927860341511355\n",
      "High Predictions:  22.732603481637668\n",
      "MAE:  18.3872\n",
      "MAE:  21.1673\n",
      "MAE:  15.2595\n",
      "MAE:  19.9816\n",
      "Low Predictions: 21.167305682981294\n",
      "Med Predictions:  15.25946184855975\n",
      "High Predictions:  19.981589206728863\n"
     ]
    }
   ],
   "source": [
    "# Train and test the four algorithms on our data set\n",
    "low_gap_r_list = []\n",
    "medium_gap_r_list = []\n",
    "high_gap_r_list = []\n",
    "total_gap_r_list = []\n",
    "\n",
    "trained_alg_predictions = []\n",
    "#keeps track of the GAPr of each of the algs\n",
    "\n",
    "low_mae_list = []\n",
    "medium_mae_list = []\n",
    "high_mae_list = []\n",
    "overall_mae_list = []\n",
    "#keeps track of the mean absolute error of each of the algs\n",
    "alg_recommendations = [] #Keeps track of how many times each artist was recommended\n",
    "for alg in [ BaselineOnly(), KNNBasic(sim_options = {'name': 'msd'}), KNNWithMeans(), NMF(), SVDpp()]:\n",
    "    \n",
    "    num_times_recommended = pd.DataFrame(artist_dist)\n",
    "    num_times_recommended.columns = ['Recommendation Frequency']\n",
    "    num_times_recommended['Recommendation Frequency'] = 0 #resets for each algorithm\n",
    "    \n",
    "    base = alg.fit(trainset)\n",
    "    predictions = base.test(testset)\n",
    "    overall_mae = accuracy.mae(predictions)\n",
    "    \n",
    "    trained_alg_predictions.append(predictions)\n",
    "    \n",
    "    # resets to 0 before calculating for new alg\n",
    "    low_gap_r = 0\n",
    "    medium_gap_r = 0\n",
    "    high_gap_r = 0\n",
    "    \n",
    "    #keeps track of group size since it is unpredictable since the test set is selected randomly\n",
    "    num_low_users = 0\n",
    "    num_medium_users = 0\n",
    "    num_high_users = 0\n",
    "    \n",
    "    #keeps track of the mean absolute error of the current alg\n",
    "    low_mae = 0\n",
    "    medium_mae = 0\n",
    "    high_mae = 0\n",
    "    top_artists = get_top_artists(predictions, num=10) #Gets the top N recommendations for each user\n",
    "    low_mae, medium_mae, high_mae = get_mae_of_groups(predictions)\n",
    "    \n",
    "    low_mae_list.append(low_mae)\n",
    "    medium_mae_list.append(medium_mae)\n",
    "    high_mae_list.append(high_mae)\n",
    "    overall_mae_list.append(overall_mae)\n",
    "\n",
    "    for user_id, ratings in top_artists.items():\n",
    "        artist_id_list = [] #user profile size to compute top fraction in GAPr\n",
    "        for artist_id, predicted_rating in ratings:\n",
    "            \n",
    "            artist_id_list.append(artist_id)\n",
    "            num_times_recommended.loc[artist_id] += 1 #increments the number of times the artist was recommended\n",
    "\n",
    "        gap = sum(artist_dist[artist_id_list]/ num_users) / len(artist_id_list) #fraction in numerator for GAPr\n",
    "        #print(\"gap:\" ,gap)\n",
    "        if user_id in low_users.index: #summation of all of the top fractions to compute numerator for GAPr\n",
    "            low_gap_r += gap\n",
    "            num_low_users += 1 #increments group size to get the denominator to compute GAPr\n",
    "\n",
    "        elif user_id in medium_users.index:\n",
    "            medium_gap_r += gap\n",
    "            num_medium_users += 1\n",
    "\n",
    "        elif user_id in high_users.index:\n",
    "            high_gap_r += gap\n",
    "            num_high_users += 1\n",
    "    alg_recommendations.append(num_times_recommended)\n",
    "    \n",
    "    total_gap_r = (low_gap_r + medium_gap_r + high_gap_r) / (num_low_users + num_medium_users + num_high_users)        \n",
    "    low_gap_r = low_gap_r / num_low_users #Computing GAPr for each group size for each algorithm\n",
    "    medium_gap_r = medium_gap_r / num_medium_users\n",
    "    high_gap_r = high_gap_r / num_high_users\n",
    "    \n",
    "    low_gap_r_list.append(low_gap_r)\n",
    "    medium_gap_r_list.append(medium_gap_r)\n",
    "    high_gap_r_list.append(high_gap_r)\n",
    "    total_gap_r_list.append(total_gap_r)\n",
    "\n",
    "    \n",
    "\n",
    "\n",
    "    "
   ]
  },
  {
   "cell_type": "markdown",
   "metadata": {},
   "source": [
    "## Graphs based on RecSys algorithms"
   ]
  },
  {
   "cell_type": "code",
   "execution_count": 26,
   "metadata": {},
   "outputs": [
    {
     "data": {
      "image/png": "[encoded data removed]",
      "text/plain": [
       "<Figure size 432x288 with 1 Axes>"
      ]
     },
     "metadata": {
      "needs_background": "light"
     },
     "output_type": "display_data"
    },
    {
     "data": {
      "image/png": "[encoded data removed]",
      "text/plain": [
       "<Figure size 432x288 with 1 Axes>"
      ]
     },
     "metadata": {
      "needs_background": "light"
     },
     "output_type": "display_data"
    },
    {
     "data": {
      "image/png": "[encoded data removed]",
      "text/plain": [
       "<Figure size 432x288 with 1 Axes>"
      ]
     },
     "metadata": {
      "needs_background": "light"
     },
     "output_type": "display_data"
    },
    {
     "data": {
      "image/png": "[encoded data removed]",
      "text/plain": [
       "<Figure size 432x288 with 1 Axes>"
      ]
     },
     "metadata": {
      "needs_background": "light"
     },
     "output_type": "display_data"
    }
   ],
   "source": [
    "#Create graphs of  the correlation of artist popularity and recommendation frequency\n",
    "alg_names = ['Baseline', 'KNN', 'KNNMeans', 'NMF']\n",
    "\n",
    "for i in range(len(alg_names)):\n",
    "    plot.figure()\n",
    "    plot.plot(normalized_artist_dist, alg_recommendations[i], 'o')\n",
    "    plot.xlabel(\"Artist Popuarity (Normalized)\")\n",
    "    plot.ylabel(\"Recommendation Frequency\")\n",
    "    plot.title(alg_names[i])\n",
    "    plot.ylim([0,300])\n",
    "    plot.show()\n",
    "    "
   ]
  },
  {
   "cell_type": "code",
   "execution_count": 27,
   "metadata": {},
   "outputs": [
    {
     "name": "stdout",
     "output_type": "stream",
     "text": [
      "0.15310015211871414\n",
      "0.23623848767865244\n",
      "0.32524226091849673\n"
     ]
    }
   ],
   "source": [
    "#Computes change in GAP for each RecSys alg\n",
    "delta_gap_low_list = []\n",
    "delta_gap_medium_list = []\n",
    "delta_gap_high_list = []\n",
    "for i in range(len(low_gap_r_list)):\n",
    "    delta_gap_low = ((low_gap_r_list[i] - low_gap_p) / low_gap_p)\n",
    "    delta_gap_medium = ((medium_gap_r_list[i] - medium_gap_p) / medium_gap_p)\n",
    "    delta_gap_high = ((high_gap_r_list[i] - high_gap_p) / high_gap_p)\n",
    "    \n",
    "    delta_gap_low_list.append(delta_gap_low)\n",
    "    delta_gap_medium_list.append(delta_gap_medium)\n",
    "    delta_gap_high_list.append(delta_gap_high)\n",
    "    \n",
    "print(delta_gap_low_list[2])\n",
    "\n",
    "print(delta_gap_medium_list[2])\n",
    "\n",
    "print(delta_gap_high_list[2])\n"
   ]
  },
  {
   "cell_type": "code",
   "execution_count": 28,
   "metadata": {},
   "outputs": [
    {
     "data": {
      "image/png": "[encoded data removed]",
      "text/plain": [
       "<Figure size 432x288 with 1 Axes>"
      ]
     },
     "metadata": {
      "needs_background": "light"
     },
     "output_type": "display_data"
    }
   ],
   "source": [
    "# Bar graph for comparing Delta GAP for each algorithm\n",
    "x_labels = [\"LowMS\", \"MedMS\", \"HighMS\"]\n",
    "width = 0.15\n",
    "\n",
    "bar1 = [delta_gap_low_list[0] * 100, delta_gap_medium_list[0] * 100, delta_gap_high_list[0]* 100]\n",
    "bar2 = [delta_gap_low_list[1] * 100, delta_gap_medium_list[1] * 100, delta_gap_high_list[1] * 100]\n",
    "bar3 = [delta_gap_low_list[2] * 100, delta_gap_medium_list[2] * 100, delta_gap_high_list[2] * 100]\n",
    "bar4 = [delta_gap_low_list[3] * 100, delta_gap_medium_list[3] * 100, delta_gap_high_list[3] * 100]\n",
    "\n",
    "x1 = np.arange(3) #low/md/and high\n",
    "x2 = [i+width for i in x1]\n",
    "x3 = [i+width for i in x2]\n",
    "x4 = [i+width for i in x3]\n",
    "plot.bar(x1, bar1, width = 0.15, label =\"Baseline\")\n",
    "plot.bar(x2, bar2, width = 0.15, label =\"KNN\")\n",
    "plot.bar(x3, bar3, width = 0.15, label =\"KNNMeans\")\n",
    "plot.bar(x4, bar4, width = 0.15, label =\"NMF\")\n",
    "\n",
    "plot.xlabel(\"User Group\")\n",
    "plot.ylabel(\"Change in GAP %\")\n",
    "plot.legend(bbox_to_anchor=(1,1), loc=\"upper left\", ncol=1)\n",
    "plot.xticks(x1 + width, x_labels)\n",
    "plot.show()"
   ]
  },
  {
   "cell_type": "code",
   "execution_count": 29,
   "metadata": {},
   "outputs": [
    {
     "data": {
      "image/png": "[encoded data removed]",
      "text/plain": [
       "<Figure size 432x288 with 1 Axes>"
      ]
     },
     "metadata": {
      "needs_background": "light"
     },
     "output_type": "display_data"
    }
   ],
   "source": [
    "# bar graph comparing the GAP of each alg + the actual GAP on the dataset\n",
    "x_labels = [\"LowMS\", \"MedMS\", \"HighMS\"]\n",
    "bar1 = [low_gap_p * 100, medium_gap_p * 100, high_gap_p * 100]\n",
    "bar2 = [low_gap_r_list[0] * 100, medium_gap_r_list[0] * 100, high_gap_r_list[0] * 100]\n",
    "bar3 = [low_gap_r_list[1] * 100, medium_gap_r_list[1] * 100, high_gap_r_list[1] * 100]\n",
    "bar4 = [low_gap_r_list[2] * 100, medium_gap_r_list[2] * 100, high_gap_r_list[2] * 100]\n",
    "bar5 = [low_gap_r_list[3] * 100, medium_gap_r_list[3] * 100, high_gap_r_list[3] * 100]\n",
    "\n",
    "x1 = np.arange(3) #low/md/and high\n",
    "x2 = [i+width for i in x1]\n",
    "x3 = [i+width for i in x2]\n",
    "x4 = [i+width for i in x3]\n",
    "x5 = [i+width for i in x4]\n",
    "plot.bar(x1, bar1, width = 0.15, label =\"Actual\")\n",
    "plot.bar(x2, bar2, width = 0.15, label =\"Baseline\")\n",
    "plot.bar(x3, bar3, width = 0.15, label =\"KNN\")\n",
    "plot.bar(x4, bar4, width = 0.15, label =\"KNNMeans\")\n",
    "plot.bar(x5, bar5, width = 0.15, label =\"NMF\")\n",
    "\n",
    "plot.xlabel(\"User Group\")\n",
    "plot.ylabel(\"Average Popularity of Artists (GAP) %\")\n",
    "plot.legend(bbox_to_anchor=(1,1), loc=\"upper left\", ncol=1)\n",
    "plot.xticks(x1 + width, x_labels)\n",
    "plot.show()"
   ]
  },
  {
   "cell_type": "code",
   "execution_count": null,
   "metadata": {},
   "outputs": [],
   "source": []
  }
 ],
 "metadata": {
  "kernelspec": {
   "display_name": "Python 3",
   "language": "python",
   "name": "python3"
  },
  "language_info": {
   "codemirror_mode": {
    "name": "ipython",
    "version": 3
   },
   "file_extension": ".py",
   "mimetype": "text/x-python",
   "name": "python",
   "nbconvert_exporter": "python",
   "pygments_lexer": "ipython3",
   "version": "3.6.9"
  }
 },
 "nbformat": 4,
 "nbformat_minor": 4
}
