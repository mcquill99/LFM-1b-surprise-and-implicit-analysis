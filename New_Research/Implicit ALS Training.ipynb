{
 "cells": [
  {
   "cell_type": "code",
   "execution_count": 1,
   "id": "broad-digit",
   "metadata": {},
   "outputs": [],
   "source": [
    "import pandas as pd\n",
    "import numpy as np\n",
    "import matplotlib.pyplot as plot\n",
    "from scipy import stats\n",
    "from scipy import sparse\n",
    "import scipy\n",
    "from collections import defaultdict\n",
    "import implicit\n",
    "from implicit.als import AlternatingLeastSquares\n",
    "import random\n",
    "from sklearn.preprocessing import MinMaxScaler\n",
    "from sklearn import metrics\n",
    "from surprise import Reader, Dataset\n",
    "from surprise.model_selection import train_test_split\n",
    "from surprise import SVDpp\n",
    "import rectorch\n",
    "from rectorch.models.baseline import SLIM, Random, Popularity\n",
    "from rectorch.models.mf import EASE\n",
    "from rectorch.data import DataProcessing\n",
    "from rectorch.samplers import ArrayDummySampler, SparseDummySampler\n",
    "from rectorch.evaluation import evaluate\n",
    "from rectorch.utils import collect_results, prepare_for_prediction"
   ]
  },
  {
   "cell_type": "markdown",
   "id": "varied-compilation",
   "metadata": {},
   "source": [
    "# Data Parsing"
   ]
  },
  {
   "cell_type": "code",
   "execution_count": 11,
   "id": "whole-transcription",
   "metadata": {},
   "outputs": [],
   "source": [
    "# initialize data\n",
    "item_threshold = 1 # used to filter out user/artist pairs that have been \n",
    "                   #listened to less than the threshold number of times\n",
    "popular_artist_fraction = 0.2 # top cutoff for what we consider popular artists, in this case the top 20%\n",
    "\n",
    "user_events_file = 'data/user_events.txt'\n",
    "low_user_file = 'data/low_main_users.txt'\n",
    "medium_user_file = 'data/medium_main_users.txt'\n",
    "high_user_file = 'data/high_main_users.txt'"
   ]
  },
  {
   "cell_type": "code",
   "execution_count": 12,
   "id": "wireless-pizza",
   "metadata": {},
   "outputs": [
    {
     "name": "stdout",
     "output_type": "stream",
     "text": [
      "No. of user events: 28718087\n"
     ]
    },
    {
     "data": {
      "text/html": [
       "<div>\n",
       "<style scoped>\n",
       "    .dataframe tbody tr th:only-of-type {\n",
       "        vertical-align: middle;\n",
       "    }\n",
       "\n",
       "    .dataframe tbody tr th {\n",
       "        vertical-align: top;\n",
       "    }\n",
       "\n",
       "    .dataframe thead th {\n",
       "        text-align: right;\n",
       "    }\n",
       "</style>\n",
       "<table border=\"1\" class=\"dataframe\">\n",
       "  <thead>\n",
       "    <tr style=\"text-align: right;\">\n",
       "      <th></th>\n",
       "      <th>user</th>\n",
       "      <th>artist</th>\n",
       "      <th>album</th>\n",
       "      <th>track</th>\n",
       "      <th>timestamp</th>\n",
       "    </tr>\n",
       "  </thead>\n",
       "  <tbody>\n",
       "    <tr>\n",
       "      <th>0</th>\n",
       "      <td>31435741</td>\n",
       "      <td>2</td>\n",
       "      <td>4</td>\n",
       "      <td>4</td>\n",
       "      <td>1385212958</td>\n",
       "    </tr>\n",
       "    <tr>\n",
       "      <th>1</th>\n",
       "      <td>31435741</td>\n",
       "      <td>2</td>\n",
       "      <td>4</td>\n",
       "      <td>4</td>\n",
       "      <td>1385212642</td>\n",
       "    </tr>\n",
       "    <tr>\n",
       "      <th>2</th>\n",
       "      <td>31435741</td>\n",
       "      <td>2</td>\n",
       "      <td>4</td>\n",
       "      <td>4</td>\n",
       "      <td>1385212325</td>\n",
       "    </tr>\n",
       "    <tr>\n",
       "      <th>3</th>\n",
       "      <td>31435741</td>\n",
       "      <td>2</td>\n",
       "      <td>4</td>\n",
       "      <td>4</td>\n",
       "      <td>1385209508</td>\n",
       "    </tr>\n",
       "    <tr>\n",
       "      <th>4</th>\n",
       "      <td>31435741</td>\n",
       "      <td>2</td>\n",
       "      <td>4</td>\n",
       "      <td>4</td>\n",
       "      <td>1385209191</td>\n",
       "    </tr>\n",
       "  </tbody>\n",
       "</table>\n",
       "</div>"
      ],
      "text/plain": [
       "       user  artist  album  track   timestamp\n",
       "0  31435741       2      4      4  1385212958\n",
       "1  31435741       2      4      4  1385212642\n",
       "2  31435741       2      4      4  1385212325\n",
       "3  31435741       2      4      4  1385209508\n",
       "4  31435741       2      4      4  1385209191"
      ]
     },
     "execution_count": 12,
     "metadata": {},
     "output_type": "execute_result"
    }
   ],
   "source": [
    "#read in user events file\n",
    "cols = ['user', 'artist', 'album', 'track', 'timestamp']\n",
    "df_events = pd.read_csv(user_events_file, sep='\\t', names=cols)\n",
    "print('No. of user events: ' + str(len(df_events)))\n",
    "df_events.head() # check it is all read in properly"
   ]
  },
  {
   "cell_type": "markdown",
   "id": "tutorial-screening",
   "metadata": {},
   "source": [
    "## User-Artist Matrix"
   ]
  },
  {
   "cell_type": "code",
   "execution_count": 13,
   "id": "assigned-pastor",
   "metadata": {},
   "outputs": [
    {
     "name": "stdout",
     "output_type": "stream",
     "text": [
      "No. user-artist pairs: 1755361\n"
     ]
    }
   ],
   "source": [
    "# create unique user-artist matrix\n",
    "df_events = df_events.groupby(['user', 'artist']).size().reset_index(name='listens')\n",
    "print('No. user-artist pairs: ' + str(len(df_events)))\n",
    "# each row contains a unique user-artist pair, along with how many times the\n",
    "# user has listened to the artist\n",
    "#df_events.sort_values(by=['user'])"
   ]
  },
  {
   "cell_type": "code",
   "execution_count": 14,
   "id": "modified-prize",
   "metadata": {},
   "outputs": [
    {
     "data": {
      "text/html": [
       "<div>\n",
       "<style scoped>\n",
       "    .dataframe tbody tr th:only-of-type {\n",
       "        vertical-align: middle;\n",
       "    }\n",
       "\n",
       "    .dataframe tbody tr th {\n",
       "        vertical-align: top;\n",
       "    }\n",
       "\n",
       "    .dataframe thead th {\n",
       "        text-align: right;\n",
       "    }\n",
       "</style>\n",
       "<table border=\"1\" class=\"dataframe\">\n",
       "  <thead>\n",
       "    <tr style=\"text-align: right;\">\n",
       "      <th></th>\n",
       "      <th>user</th>\n",
       "      <th>artist</th>\n",
       "      <th>listens</th>\n",
       "    </tr>\n",
       "  </thead>\n",
       "  <tbody>\n",
       "    <tr>\n",
       "      <th>0</th>\n",
       "      <td>1021445</td>\n",
       "      <td>12</td>\n",
       "      <td>43</td>\n",
       "    </tr>\n",
       "    <tr>\n",
       "      <th>1</th>\n",
       "      <td>1021445</td>\n",
       "      <td>16</td>\n",
       "      <td>1</td>\n",
       "    </tr>\n",
       "    <tr>\n",
       "      <th>2</th>\n",
       "      <td>1021445</td>\n",
       "      <td>28</td>\n",
       "      <td>7</td>\n",
       "    </tr>\n",
       "    <tr>\n",
       "      <th>3</th>\n",
       "      <td>1021445</td>\n",
       "      <td>29</td>\n",
       "      <td>1</td>\n",
       "    </tr>\n",
       "    <tr>\n",
       "      <th>4</th>\n",
       "      <td>1021445</td>\n",
       "      <td>46</td>\n",
       "      <td>1</td>\n",
       "    </tr>\n",
       "    <tr>\n",
       "      <th>...</th>\n",
       "      <td>...</td>\n",
       "      <td>...</td>\n",
       "      <td>...</td>\n",
       "    </tr>\n",
       "    <tr>\n",
       "      <th>1395</th>\n",
       "      <td>1021445</td>\n",
       "      <td>1864220</td>\n",
       "      <td>3</td>\n",
       "    </tr>\n",
       "    <tr>\n",
       "      <th>1396</th>\n",
       "      <td>1021445</td>\n",
       "      <td>1864221</td>\n",
       "      <td>4</td>\n",
       "    </tr>\n",
       "    <tr>\n",
       "      <th>1397</th>\n",
       "      <td>1021445</td>\n",
       "      <td>1864222</td>\n",
       "      <td>1</td>\n",
       "    </tr>\n",
       "    <tr>\n",
       "      <th>1398</th>\n",
       "      <td>1045479</td>\n",
       "      <td>3</td>\n",
       "      <td>9</td>\n",
       "    </tr>\n",
       "    <tr>\n",
       "      <th>1399</th>\n",
       "      <td>1045479</td>\n",
       "      <td>11</td>\n",
       "      <td>1</td>\n",
       "    </tr>\n",
       "  </tbody>\n",
       "</table>\n",
       "<p>1400 rows × 3 columns</p>\n",
       "</div>"
      ],
      "text/plain": [
       "         user   artist  listens\n",
       "0     1021445       12       43\n",
       "1     1021445       16        1\n",
       "2     1021445       28        7\n",
       "3     1021445       29        1\n",
       "4     1021445       46        1\n",
       "...       ...      ...      ...\n",
       "1395  1021445  1864220        3\n",
       "1396  1021445  1864221        4\n",
       "1397  1021445  1864222        1\n",
       "1398  1045479        3        9\n",
       "1399  1045479       11        1\n",
       "\n",
       "[1400 rows x 3 columns]"
      ]
     },
     "execution_count": 14,
     "metadata": {},
     "output_type": "execute_result"
    }
   ],
   "source": [
    "df_events.head(1400)"
   ]
  },
  {
   "cell_type": "code",
   "execution_count": 15,
   "id": "immune-figure",
   "metadata": {},
   "outputs": [
    {
     "name": "stdout",
     "output_type": "stream",
     "text": [
      "No. filtered user-artist pairs: 1755361\n",
      "No. unique artists: 352805\n"
     ]
    }
   ],
   "source": [
    "# filters out artist/user pairs who havent been listened two more than\n",
    "# item_threshold amount of times to reduce potential load\n",
    "# kept to 1 currently, so we dont filter out any data\n",
    "df_events = df_events[df_events['listens'] >= item_threshold] \n",
    "\n",
    "# With 1, we see no difference between user-artist pairs here\n",
    "print('No. filtered user-artist pairs: ' + str(len(df_events))) \n",
    "\n",
    "# here, we see the number of unique artists in our matrix\n",
    "print('No. unique artists: ' + str(len(df_events['artist'].unique())))"
   ]
  },
  {
   "cell_type": "markdown",
   "id": "defensive-andrew",
   "metadata": {},
   "source": [
    "#### How many artists have users listened to?"
   ]
  },
  {
   "cell_type": "code",
   "execution_count": 16,
   "id": "funny-complexity",
   "metadata": {},
   "outputs": [
    {
     "name": "stdout",
     "output_type": "stream",
     "text": [
      "Mean artists of all users: 585.1203333333333\n",
      "Min artists of all users: 18\n",
      "Max artists of all users: 4011\n"
     ]
    },
    {
     "data": {
      "text/plain": [
       "41888522    4011\n",
       "4393555     3700\n",
       "40029632    3678\n",
       "26874346    3544\n",
       "29736410    3529\n",
       "Name: user, dtype: int64"
      ]
     },
     "execution_count": 16,
     "metadata": {},
     "output_type": "execute_result"
    }
   ],
   "source": [
    "# get matrix where each row is a user-id and how many artists they've \n",
    "#listened to\n",
    "user_dist = df_events['user'].value_counts() \n",
    "\n",
    "# counts how many unique users there are. prints out user id & a count of how \n",
    "# many rows they're included in, which effectively shows how many artists \n",
    "# they listen to\n",
    "num_users = len(user_dist)\n",
    "print('Mean artists of all users: ' + str(user_dist.mean()))\n",
    "print('Min artists of all users: ' + str(user_dist.min()))\n",
    "print('Max artists of all users: ' + str(user_dist.max()))\n",
    "\n",
    "user_dist.head()"
   ]
  },
  {
   "cell_type": "markdown",
   "id": "sonic-newton",
   "metadata": {},
   "source": [
    "#### How many users listen to an artist?"
   ]
  },
  {
   "cell_type": "code",
   "execution_count": 17,
   "id": "instrumental-classic",
   "metadata": {},
   "outputs": [
    {
     "name": "stdout",
     "output_type": "stream",
     "text": [
      "No. artists: 352805\n"
     ]
    },
    {
     "data": {
      "text/plain": [
       "<bound method NDFrame.head of 135        1389\n",
       "1602       1359\n",
       "46         1325\n",
       "320        1297\n",
       "27         1290\n",
       "           ... \n",
       "3124286       1\n",
       "1029181       1\n",
       "1023032       1\n",
       "1008679       1\n",
       "3087545       1\n",
       "Name: artist, Length: 352805, dtype: int64>"
      ]
     },
     "execution_count": 17,
     "metadata": {},
     "output_type": "execute_result"
    }
   ],
   "source": [
    "# get artist distribution\n",
    "# same as previous but with artists, shows artist-id and how many times they\n",
    "# were listened to buy unique users\n",
    "artist_dist = df_events['artist'].value_counts()\n",
    "num_artists = len(artist_dist)\n",
    "print('No. artists: ' + str(num_artists))\n",
    "df_events['artist'].value_counts().head"
   ]
  },
  {
   "cell_type": "code",
   "execution_count": 18,
   "id": "underlying-hindu",
   "metadata": {},
   "outputs": [
    {
     "name": "stdout",
     "output_type": "stream",
     "text": [
      "No. top artists: 70561\n"
     ]
    }
   ],
   "source": [
    "# get number of  popular artists\n",
    "num_top_artists = int(popular_artist_fraction * num_artists)\n",
    "\n",
    "# getting the top top_fraction (0.2) percent of artists, so finding how many\n",
    "# artists make up 20% of total artists, and then only using the artists those\n",
    "#number of the most popular aritsts\n",
    "top_artist_dist = artist_dist[:num_top_artists]\n",
    "print('No. top artists: ' + str(len(top_artist_dist)))"
   ]
  },
  {
   "cell_type": "code",
   "execution_count": 19,
   "id": "backed-coordinate",
   "metadata": {},
   "outputs": [
    {
     "name": "stdout",
     "output_type": "stream",
     "text": [
      "Num users: 3000\n"
     ]
    }
   ],
   "source": [
    "# read in users\n",
    "# user file is just user_id and their mainstreaminess value \n",
    "low_users = pd.read_csv(low_user_file, sep=',').set_index('user_id')\n",
    "medium_users = pd.read_csv(medium_user_file, sep=',').set_index('user_id')\n",
    "high_users = pd.read_csv(high_user_file, sep=',').set_index('user_id')\n",
    "num_users = len(low_users) + len(medium_users) + len(high_users)\n",
    "print('Num users: ' + str(num_users))"
   ]
  },
  {
   "cell_type": "markdown",
   "id": "representative-plane",
   "metadata": {},
   "source": [
    "## Getting Users From Each Popularity Group & Their 10 Most Listened To Artists "
   ]
  },
  {
   "cell_type": "markdown",
   "id": "chubby-monster",
   "metadata": {},
   "source": [
    "### (For Analysis of Streaming Service Algorithmic Bias)"
   ]
  },
  {
   "cell_type": "code",
   "execution_count": 20,
   "id": "damaged-performance",
   "metadata": {},
   "outputs": [
    {
     "data": {
      "text/html": [
       "<div>\n",
       "<style scoped>\n",
       "    .dataframe tbody tr th:only-of-type {\n",
       "        vertical-align: middle;\n",
       "    }\n",
       "\n",
       "    .dataframe tbody tr th {\n",
       "        vertical-align: top;\n",
       "    }\n",
       "\n",
       "    .dataframe thead th {\n",
       "        text-align: right;\n",
       "    }\n",
       "</style>\n",
       "<table border=\"1\" class=\"dataframe\">\n",
       "  <thead>\n",
       "    <tr style=\"text-align: right;\">\n",
       "      <th></th>\n",
       "      <th>user</th>\n",
       "      <th>artist</th>\n",
       "      <th>listens</th>\n",
       "    </tr>\n",
       "  </thead>\n",
       "  <tbody>\n",
       "    <tr>\n",
       "      <th>1513514</th>\n",
       "      <td>42845367</td>\n",
       "      <td>495</td>\n",
       "      <td>205</td>\n",
       "    </tr>\n",
       "    <tr>\n",
       "      <th>1513639</th>\n",
       "      <td>42845367</td>\n",
       "      <td>15624</td>\n",
       "      <td>201</td>\n",
       "    </tr>\n",
       "    <tr>\n",
       "      <th>1513657</th>\n",
       "      <td>42845367</td>\n",
       "      <td>27107</td>\n",
       "      <td>171</td>\n",
       "    </tr>\n",
       "    <tr>\n",
       "      <th>1513483</th>\n",
       "      <td>42845367</td>\n",
       "      <td>163</td>\n",
       "      <td>156</td>\n",
       "    </tr>\n",
       "    <tr>\n",
       "      <th>1513485</th>\n",
       "      <td>42845367</td>\n",
       "      <td>172</td>\n",
       "      <td>156</td>\n",
       "    </tr>\n",
       "  </tbody>\n",
       "</table>\n",
       "</div>"
      ],
      "text/plain": [
       "             user  artist  listens\n",
       "1513514  42845367     495      205\n",
       "1513639  42845367   15624      201\n",
       "1513657  42845367   27107      171\n",
       "1513483  42845367     163      156\n",
       "1513485  42845367     172      156"
      ]
     },
     "execution_count": 20,
     "metadata": {},
     "output_type": "execute_result"
    }
   ],
   "source": [
    "toList = df_events.loc[df_events['user'] == 42845367].sort_values(by=['listens'], ascending=False)\n",
    "toList.head() #grabbing random users top 10 artists in 1 of the 3 groups"
   ]
  },
  {
   "cell_type": "code",
   "execution_count": 21,
   "id": "unknown-weapon",
   "metadata": {},
   "outputs": [
    {
     "name": "stdout",
     "output_type": "stream",
     "text": [
      "[495, 15624, 27107, 163, 172, 4311, 8047, 7, 56, 245, 52741, 173416, 140, 1703, 3887, 42794, 1092, 2558, 54, 42835]\n"
     ]
    }
   ],
   "source": [
    "to_list_2 = toList['artist'].tolist()[:20]\n",
    "print(to_list_2)"
   ]
  },
  {
   "cell_type": "markdown",
   "id": "electrical-infrared",
   "metadata": {},
   "source": [
    "# Calculating GAP of User Profiles"
   ]
  },
  {
   "cell_type": "code",
   "execution_count": 22,
   "id": "charming-equivalent",
   "metadata": {},
   "outputs": [
    {
     "name": "stdout",
     "output_type": "stream",
     "text": [
      "Low count (for check): 1000\n",
      "Med count (for check): 1000\n",
      "High count (for check): 1000\n",
      "0.04963328792099549\n",
      "0.054371119359489226\n",
      "0.06286028679778642\n"
     ]
    }
   ],
   "source": [
    "# placeholder vars for numerator of GAPp, waiting to be divided by sie of group\n",
    "low_gap_p = 0\n",
    "medium_gap_p = 0\n",
    "high_gap_p = 0\n",
    "total_gap_p = 0\n",
    "#Count for sanity check\n",
    "low_count = 0\n",
    "med_count = 0\n",
    "high_count = 0\n",
    "\n",
    "for u, df in df_events.groupby('user'):\n",
    "    \n",
    "    no_user_artists = len(set(df['artist'])) # profile size //number of artists in users profile\n",
    "    # get popularity (= fraction of users interacted with item) of user items and calculate average of it\n",
    "    user_pop_artist_fraq = sum(artist_dist[df['artist']] / num_users) / no_user_artists \n",
    "    \n",
    "    if u in low_users.index: # get user group-specific values\n",
    "        low_gap_p += user_pop_artist_fraq\n",
    "        low_count += 1\n",
    "    elif u in medium_users.index:\n",
    "        medium_gap_p += user_pop_artist_fraq\n",
    "        med_count += 1\n",
    "    else:\n",
    "        high_gap_p += user_pop_artist_fraq\n",
    "        high_count += 1\n",
    "\n",
    "total_gap_p = (low_gap_p + medium_gap_p + high_gap_p) / num_users\n",
    "low_gap_p /= len(low_users) # average popularity of items/artists in low/med/high groups (gap = group average popularity)\n",
    "medium_gap_p /= len(medium_users)\n",
    "high_gap_p /= len(high_users)\n",
    "print('Low count (for check): ' + str(low_count))\n",
    "print('Med count (for check): ' + str(med_count))\n",
    "print('High count (for check): ' + str(high_count))\n",
    "print(low_gap_p)\n",
    "print(medium_gap_p)\n",
    "print(high_gap_p)"
   ]
  },
  {
   "cell_type": "markdown",
   "id": "juvenile-friday",
   "metadata": {},
   "source": [
    "### Min-Max Scaling Ratings (Not Using Right Now)"
   ]
  },
  {
   "cell_type": "code",
   "execution_count": null,
   "id": "unauthorized-moral",
   "metadata": {},
   "outputs": [],
   "source": [
    "### Scale listening counts on a scale from 1-1000\n",
    "\"\"\"scaled_df_events = pd.DataFrame()\n",
    "for user_id, group in df_events.groupby('user'):\n",
    "    #print(group)\n",
    "    min_listens = group['listens'].min()\n",
    "    max_listens = group['listens'].max()\n",
    "    std = (group['listens'] - min_listens) / (max_listens - min_listens)\n",
    "    scaled_listens = std * 999 + 1\n",
    "    to_replace = group.copy()\n",
    "    to_replace['listens'] = scaled_listens\n",
    "    #print(to_replace)\n",
    "    scaled_df_events = scaled_df_events.append(to_replace)\n",
    "scaled_df_events.head()  \"\"\" \n",
    "#df_events.groupby('user').head()"
   ]
  },
  {
   "cell_type": "markdown",
   "id": "deluxe-holly",
   "metadata": {},
   "source": [
    "# Analysis of Alternating Least Squares with the Implicit Library"
   ]
  },
  {
   "cell_type": "markdown",
   "id": "ceramic-potter",
   "metadata": {},
   "source": [
    "### Shaping the Data"
   ]
  },
  {
   "cell_type": "code",
   "execution_count": 64,
   "id": "lined-feedback",
   "metadata": {},
   "outputs": [],
   "source": [
    "#Normalize data to compare artist popularity vs recommendations\n",
    "#Normalize artist popularity\n",
    "normalized_artist_dist = pd.DataFrame(artist_dist)\n",
    "normalized_artist_dist.columns = ['listens']\n",
    "normalized_artist_dist['listens'] /= num_users\n",
    "normalized_artist_dist.head()\n",
    "\n",
    "num_times_recommended = pd.DataFrame(artist_dist)\n",
    "num_times_recommended.columns = ['Recommendation Frequency']\n",
    "num_times_recommended['Recommendation Frequency'] = 0\n",
    "#num_times_recommended.head()\n",
    "#normalized_artist_dist.head()\n",
    "#For potential use with graphs, not being used right now"
   ]
  },
  {
   "cell_type": "code",
   "execution_count": 65,
   "id": "metric-cedar",
   "metadata": {},
   "outputs": [],
   "source": [
    "def user_events_file_to_lil_matrix():\n",
    "    # Artist to User matrix where artist_user_matrix[a, u] = num of times user u listened to artist a\n",
    "\n",
    "    # 352805, 3000 (total artists, users)\n",
    "    rows, cols = 352805, 3000\n",
    "    artist_user_matrix = scipy.sparse.lil_matrix((rows, cols), dtype=int)\n",
    "\n",
    "    # user\tartist\talbum\ttrack\ttimestamp\n",
    "\n",
    "    user_dict = {}  # simplify user id to 1, 2, 3 ...\n",
    "    artist_dict = {}\n",
    "\n",
    "    # populate with user_events_file\n",
    "    with open(\"/home/jimi/music_fairness/LFM-1b-surprise-and-implicit-analysis/ML_Base_Project/data/user_events.txt\", 'r') as fp:\n",
    "        line = fp.readline()\n",
    "        loop_count = 0\n",
    "        while line:\n",
    "            # get data from line\n",
    "            line = fp.readline()\n",
    "            parts = line.split(\"\\t\")\n",
    "\n",
    "            # end case\n",
    "            try:\n",
    "                user_id = int(parts[0])\n",
    "                artist_id = int(parts[1])\n",
    "            except ValueError:\n",
    "                print(\"end of file \" + line)\n",
    "                break\n",
    "\n",
    "            # use user_dict to shorten user_id\n",
    "            if user_id not in user_dict:\n",
    "                # this user_id has not bee seen\n",
    "                user_dict[user_id] = len(user_dict)\n",
    "            user_idx = user_dict[user_id]\n",
    "\n",
    "            # use track_dict to shorten track_id\n",
    "            if artist_id not in artist_dict:\n",
    "                # this user_id has not bee seen\n",
    "                artist_dict[artist_id] = len(artist_dict)\n",
    "            artist_idx = artist_dict[artist_id]\n",
    "\n",
    "            # increment count of user to track\n",
    "            artist_user_matrix[artist_idx, user_idx] += 1\n",
    "\n",
    "            # progress marker\n",
    "            loop_count = loop_count + 1\n",
    "            if loop_count % 10000000 == 0:\n",
    "                print(str(loop_count) + \"/ 28718087\")  # / num of lines in file\n",
    "\n",
    "    print(len(user_dict))\n",
    "    print(len(artist_dict))\n",
    "\n",
    "    # helpful dicts for converting artist and user count back to their ids\n",
    "    user_count_to_id_dict = {v: k for k, v in user_dict.items()}\n",
    "    artist_count_to_id_dict = {v: k for k, v in artist_dict.items()}\n",
    "\n",
    "    return artist_user_matrix, user_dict, artist_dict, user_count_to_id_dict, artist_count_to_id_dict\n",
    "\n",
    "\n",
    "## FUNCTIONS FROM from jmsteinw's blog post ## a_u_tuple\n"
   ]
  },
  {
   "cell_type": "code",
   "execution_count": 42,
   "id": "royal-appointment",
   "metadata": {},
   "outputs": [],
   "source": [
    "def make_train(ratings, pct_test=0.2):\n",
    "    '''\n",
    "    This function will take in the original user-item matrix and \"mask\" a percentage of the original ratings where a\n",
    "    user-item interaction has taken place for use as a test set. The test set will contain all of the original ratings,\n",
    "    while the training set replaces the specified percentage of them with a zero in the original ratings matrix.\n",
    "\n",
    "    parameters:\n",
    "\n",
    "    ratings - the original ratings matrix from which you want to generate a train/test set. Test is just a complete\n",
    "    copy of the original set. This is in the form of a sparse csr_matrix.\n",
    "\n",
    "    pct_test - The percentage of user-item interactions where an interaction took place that you want to mask in the\n",
    "    training set for later comparison to the test set, which contains all of the original ratings.\n",
    "\n",
    "    returns:\n",
    "\n",
    "    training_set - The altered version of the original data with a certain percentage of the user-item pairs\n",
    "    that originally had interaction set back to zero.\n",
    "\n",
    "    test_set - A copy of the original ratings matrix, unaltered, so it can be used to see how the rank order\n",
    "    compares with the actual interactions.\n",
    "\n",
    "    user_inds - From the randomly selected user-item indices, which user rows were altered in the training data.\n",
    "    This will be necessary later when evaluating the performance via AUC.\n",
    "    '''\n",
    "    test_set = ratings.copy()  # Make a copy of the original set to be the test set.\n",
    "    test_set[test_set != 0] = 1  # Store the test set as a binary preference matrix\n",
    "    training_set = ratings.copy()  # Make a copy of the original data we can alter as our training set.\n",
    "    nonzero_inds = training_set.nonzero()  # Find the indices in the ratings data where an interaction exists\n",
    "    nonzero_pairs = list(zip(nonzero_inds[0], nonzero_inds[1]))  # Zip these pairs together of user,item index into list\n",
    "    random.seed(0)  # Set the random seed to zero for reproducibility\n",
    "    num_samples = int(\n",
    "        np.ceil(pct_test * len(nonzero_pairs)))  # Round the number of samples needed to the nearest integer\n",
    "    samples = random.sample(nonzero_pairs, num_samples)  # Sample a random number of user-item pairs without replacement\n",
    "    user_inds = [index[0] for index in samples]  # Get the user row indices\n",
    "    item_inds = [index[1] for index in samples]  # Get the item column indices\n",
    "    training_set[user_inds, item_inds] = 0  # Assign all of the randomly chosen user-item pairs to zero\n",
    "    training_set.eliminate_zeros()  # Get rid of zeros in sparse array storage after update to save space\n",
    "    return training_set, test_set, list(set(user_inds))  # Output the unique list of user rows that were altered\n",
    "\n",
    "\n",
    "# Usage\n",
    "# a_to_u_train, a_to_u_test, altered_users = make_train(csr_sparse_matrix, pct_test = 0.2)"
   ]
  },
  {
   "cell_type": "code",
   "execution_count": 43,
   "id": "plastic-gateway",
   "metadata": {},
   "outputs": [
    {
     "name": "stdout",
     "output_type": "stream",
     "text": [
      "10000000/ 28718087\n",
      "20000000/ 28718087\n",
      "end of file \n",
      "3000\n",
      "352805\n",
      "done\n"
     ]
    }
   ],
   "source": [
    "a_u_tuple = user_events_file_to_lil_matrix()\n",
    "a_u_matrix = a_u_tuple[0] #artist/user matrix\n",
    "back_to_user_id = a_u_tuple[3] #dictionary to convert smaller user ids to original\n",
    "back_to_artist_id = a_u_tuple[4]# same above but for artists\n",
    "print(\"done\")"
   ]
  },
  {
   "cell_type": "code",
   "execution_count": 44,
   "id": "grateful-architecture",
   "metadata": {},
   "outputs": [
    {
     "name": "stdout",
     "output_type": "stream",
     "text": [
      "done\n"
     ]
    }
   ],
   "source": [
    "u_to_a_train, u_to_a_test, altered_users = make_train(a_u_matrix.T.tocsr(), pct_test=0.2) #makes training/test set\n",
    "print(\"done\")"
   ]
  },
  {
   "cell_type": "markdown",
   "id": "eligible-invention",
   "metadata": {},
   "source": [
    "### Training the Algorithm"
   ]
  },
  {
   "cell_type": "code",
   "execution_count": 45,
   "id": "artistic-criminal",
   "metadata": {},
   "outputs": [
    {
     "name": "stderr",
     "output_type": "stream",
     "text": [
      "[15:35:08-140421]  This method is deprecated. Please use the AlternatingLeastSquares class instead\n",
      "[15:35:08-140421]  GPU training requires factor size to be a multiple of 32. Increasing factors from 50 to 64.\n",
      "[15:35:08-140421]  OpenBLAS detected. Its highly recommend to set the environment variable 'export OPENBLAS_NUM_THREADS=1' to disable its internal multithreading\n"
     ]
    },
    {
     "data": {
      "application/vnd.jupyter.widget-view+json": {
       "model_id": "f2ddc14c626a4a4a83cfce88a9310fb1",
       "version_major": 2,
       "version_minor": 0
      },
      "text/plain": [
       "  0%|          | 0/50 [00:00<?, ?it/s]"
      ]
     },
     "metadata": {},
     "output_type": "display_data"
    },
    {
     "name": "stdout",
     "output_type": "stream",
     "text": [
      "done\n"
     ]
    }
   ],
   "source": [
    "# split original matrix into user vector and artist vector through ALS\n",
    "user_vecs, artists_vecs = implicit.alternating_least_squares((u_to_a_train).astype('double'),iterations=50, factors=50)\n",
    "print(\"done\")"
   ]
  },
  {
   "cell_type": "code",
   "execution_count": 46,
   "id": "approved-unknown",
   "metadata": {},
   "outputs": [
    {
     "name": "stdout",
     "output_type": "stream",
     "text": [
      "[0.7734145  0.9261155  0.50536424 0.83280516 0.9921204  0.84349346\n",
      " 0.86699915 0.72439003 0.8522642  0.24458975]\n"
     ]
    }
   ],
   "source": [
    "print(np.array(user_vecs[0,:].dot(artists_vecs.T))[:10]) # gets first 5 recommendations"
   ]
  },
  {
   "cell_type": "markdown",
   "id": "final-following",
   "metadata": {},
   "source": [
    "### Get Top N Recommendations"
   ]
  },
  {
   "cell_type": "code",
   "execution_count": 47,
   "id": "democratic-point",
   "metadata": {},
   "outputs": [],
   "source": [
    "def get_top_artists_implicit(user_vecs, artists_vecs, mf_train, back_to_user_id,back_to_artist_id, num=10):\n",
    "    \"\"\"Return the top-N recommendation for each user from a set of predictions.\n",
    "\n",
    "    Args:\n",
    "        user_vecs: the feature vector for users\n",
    "        mf_train: training matrix\n",
    "        artists_vecs: the feature vector for artists\n",
    "        back_to_user_id: dictionary to convert back to original user id\n",
    "        back_to_artist_id: dictionary to convert back to original artist id\n",
    "        n(int): The number of recommendation to output for each user. Default\n",
    "            is 10.\n",
    "\n",
    "    Returns:\n",
    "    A dict where keys are user (raw) ids and values are lists of tuples:\n",
    "        [(raw item id), ...] of size n.\n",
    "    \"\"\"\n",
    "    top_artists_dict = defaultdict(list)\n",
    "        # creating dictionary where user id is the key, and the val is a list of tuples of the artist id and \n",
    "        # the rating it thinks the user would give it\n",
    "        \n",
    "    for user_id in range(len(user_vecs)):\n",
    "        \n",
    "        pref_vec = mf_train[user_id,:].toarray() # Get the ratings from the training set ratings matrix\n",
    "        pref_vec = pref_vec.reshape(-1)\n",
    "        pref_vec =  pref_vec + 1 # Add 1 to everything, so that artists not listened to yet are equal to 1\n",
    "        pref_vec[pref_vec > 1] = 0 # Make everything already purchased zero\n",
    "        \n",
    "        rec_vector = user_vecs[user_id,:].dot(artists_vecs.T) # Get dot product of user vector and all artist vectors\n",
    "        # Scale this recommendation vector between 0 and 1\n",
    "        \n",
    "        min_max = MinMaxScaler()\n",
    "        rec_vector_scaled = min_max.fit_transform(rec_vector.reshape(-1,1))[:,0] \n",
    "        recommend_vector = pref_vec*rec_vector_scaled \n",
    "        # Items already purchased have their recommendation multiplied by zero\n",
    "        \n",
    "        product_idx = np.argsort(recommend_vector)[::-1][:num] # Sort the indices of the items into order \n",
    "        # of best recommendations\n",
    "        rec_list = [] # start empty list to store items\n",
    "        actual_user_id = back_to_user_id[user_id]\n",
    "        #print(actual_user_id)\n",
    "        \n",
    "        for index in product_idx:\n",
    "            actual_artist_id = back_to_artist_id[index]\n",
    "            rec_list.append(actual_artist_id)\n",
    "            \n",
    "        top_artists_dict[actual_user_id] = rec_list\n",
    "    print(\"done\")\n",
    "    return top_artists_dict\n",
    "    \n",
    "    "
   ]
  },
  {
   "cell_type": "code",
   "execution_count": 48,
   "id": "permanent-berkeley",
   "metadata": {},
   "outputs": [
    {
     "name": "stdout",
     "output_type": "stream",
     "text": [
      "done\n",
      "done\n"
     ]
    }
   ],
   "source": [
    "implixit_top_n = get_top_artists_implicit(user_vecs, artists_vecs, u_to_a_train,back_to_user_id, back_to_artist_id,num = 10) \n",
    "#gets top n artists for all the users in the dataset\n",
    "print(\"done\")"
   ]
  },
  {
   "cell_type": "code",
   "execution_count": 49,
   "id": "minimal-toronto",
   "metadata": {},
   "outputs": [
    {
     "name": "stdout",
     "output_type": "stream",
     "text": [
      "[2908, 15483, 6443, 43, 2836, 1998, 93, 3103, 6236, 2562]\n"
     ]
    }
   ],
   "source": [
    "print(implicit_top_n[6532902]) #testing out getting top recommendations for a user"
   ]
  },
  {
   "cell_type": "code",
   "execution_count": 50,
   "id": "differential-assembly",
   "metadata": {},
   "outputs": [
    {
     "name": "stdout",
     "output_type": "stream",
     "text": [
      "180\n"
     ]
    }
   ],
   "source": [
    "print(artist_dist[6443]) #getting popularity of artist by indexing by id"
   ]
  },
  {
   "cell_type": "markdown",
   "id": "indoor-westminster",
   "metadata": {},
   "source": [
    "### Calculating GAPr and Delta GAP for ALS"
   ]
  },
  {
   "cell_type": "code",
   "execution_count": 52,
   "id": "spatial-spyware",
   "metadata": {},
   "outputs": [
    {
     "name": "stdout",
     "output_type": "stream",
     "text": [
      "done\n"
     ]
    }
   ],
   "source": [
    "# Train and test the four algorithms on our data set\n",
    "low_gap_r_list = []\n",
    "medium_gap_r_list = []\n",
    "high_gap_r_list = []\n",
    "total_gap_r_list= []\n",
    "#keeps track of the GAPr of each of the algs\n",
    "\n",
    "alg_recommendations = [] #Keeps track of how many times each artist was recommended\n",
    "\n",
    "#Will put for loop here with training, but for now we already have predictions\n",
    "    \n",
    "num_times_recommended = pd.DataFrame(artist_dist)\n",
    "num_times_recommended.columns = ['Recommendation Frequency']\n",
    "num_times_recommended['Recommendation Frequency'] = 0 #resets for each algorithm\n",
    "    \n",
    "    \n",
    "# resets to 0 before calculating for new alg\n",
    "low_gap_r = 0\n",
    "medium_gap_r = 0\n",
    "high_gap_r = 0\n",
    "    \n",
    "#keeps track of group size since it is unpredictable since the test set is selected randomly\n",
    "num_low_users = 0\n",
    "num_medium_users = 0\n",
    "num_high_users = 0\n",
    "    \n",
    "#keeps track of the mean absolute error of the current alg\n",
    "low_mae = 0\n",
    "medium_mae = 0\n",
    "high_mae = 0\n",
    "top_artists = implicit_top_n #Gets the top N recommendations for each user\n",
    "    \n",
    "\n",
    "for user_id, ratings in top_artists.items():\n",
    "    artist_id_list = [] #user profile size to compute top fraction in GAPr\n",
    "    for artist_id in ratings:\n",
    "            \n",
    "        artist_id_list.append(artist_id)\n",
    "        num_times_recommended.loc[artist_id] += 1 #increments the number of times the artist was recommended\n",
    "\n",
    "    gap = sum(artist_dist[artist_id_list]/ num_users) / len(artist_id_list) #fraction in numerator for GAPr\n",
    "    #print(\"gap:\" ,gap)\n",
    "    if user_id in low_users.index: #summation of all of the top fractions to compute numerator for GAPr\n",
    "        low_gap_r += gap\n",
    "        num_low_users += 1 #increments group size to get the denominator to compute GAPr\n",
    "\n",
    "    elif user_id in medium_users.index:\n",
    "        medium_gap_r += gap\n",
    "        num_medium_users += 1\n",
    "\n",
    "    elif user_id in high_users.index:\n",
    "        high_gap_r += gap\n",
    "        num_high_users += 1\n",
    "alg_recommendations.append(num_times_recommended)\n",
    "            \n",
    "total_gap_r = (low_gap_r + medium_gap_r + high_gap_r) / (num_low_users + num_medium_users + num_high_users)\n",
    "low_gap_r = low_gap_r / num_low_users #Computing GAPr for each group size for each algorithm\n",
    "medium_gap_r = medium_gap_r / num_medium_users\n",
    "high_gap_r = high_gap_r / num_high_users\n",
    "\n",
    "total_gap_r_list.append(total_gap_r)\n",
    "low_gap_r_list.append(low_gap_r)\n",
    "medium_gap_r_list.append(medium_gap_r)\n",
    "high_gap_r_list.append(high_gap_r)\n",
    "\n",
    "print(\"done\")"
   ]
  },
  {
   "cell_type": "code",
   "execution_count": 53,
   "id": "atlantic-emerald",
   "metadata": {},
   "outputs": [
    {
     "name": "stdout",
     "output_type": "stream",
     "text": [
      "1.5132151940425258\n",
      "1.7332807395549104\n",
      "1.7789633524148147\n",
      "1.6850323399738416\n"
     ]
    }
   ],
   "source": [
    "#Computes change in GAP for each RecSys alg\n",
    "delta_gap_low_list = []\n",
    "delta_gap_medium_list = []\n",
    "delta_gap_high_list = []\n",
    "delta_gap_total_list = []\n",
    "\n",
    "for i in range(len(low_gap_r_list)):\n",
    "    delta_gap_low = ((low_gap_r_list[i] - low_gap_p) / low_gap_p)\n",
    "    delta_gap_medium = ((medium_gap_r_list[i] - medium_gap_p) / medium_gap_p)\n",
    "    delta_gap_high = ((high_gap_r_list[i] - high_gap_p) / high_gap_p)\n",
    "    delta_gap_total = ((total_gap_r_list[i] - total_gap_p) / total_gap_p)\n",
    "    \n",
    "    delta_gap_low_list.append(delta_gap_low)\n",
    "    delta_gap_medium_list.append(delta_gap_medium)\n",
    "    delta_gap_high_list.append(delta_gap_high)\n",
    "    delta_gap_total_list.append(delta_gap_total)\n",
    "    \n",
    "print(delta_gap_low_list[0])\n",
    "\n",
    "print(delta_gap_medium_list[0])\n",
    "\n",
    "print(delta_gap_high_list[0])\n",
    "\n",
    "print(delta_gap_total_list[0])\n"
   ]
  },
  {
   "cell_type": "markdown",
   "id": "effective-technician",
   "metadata": {},
   "source": [
    "### Calculating AUC for ALS"
   ]
  },
  {
   "cell_type": "code",
   "execution_count": null,
   "id": "cross-whole",
   "metadata": {},
   "outputs": [],
   "source": [
    "def auc_score(predictions, test):\n",
    "    '''\n",
    "    This simple function will output the area under the curve using sklearn's metrics.\n",
    "\n",
    "    parameters:\n",
    "\n",
    "    - predictions: your prediction output\n",
    "\n",
    "    - test: the actual target result you are comparing to\n",
    "\n",
    "    returns:\n",
    "\n",
    "    - AUC (area under the Receiver Operating Characterisic curve)\n",
    "    '''\n",
    "    # shuffle list of predictions (shuffle function)\n",
    "    # shuffling dissassociates link to artist - > roc of .5 (random)\n",
    "    fpr, tpr, thresholds = metrics.roc_curve(test, predictions)\n",
    "    return metrics.auc(fpr, tpr)"
   ]
  },
  {
   "cell_type": "code",
   "execution_count": null,
   "id": "scenic-toyota",
   "metadata": {},
   "outputs": [],
   "source": [
    "def calc_mean_auc(training_set, altered_users, predictions, test_set):\n",
    "    '''\n",
    "    This function will calculate the mean AUC by user for any user that had their user-item matrix altered.\n",
    "\n",
    "    parameters:\n",
    "\n",
    "    training_set - The training set resulting from make_train, where a certain percentage of the original\n",
    "    user/item interactions are reset to zero to hide them from the model\n",
    "\n",
    "    predictions - The matrix of your predicted ratings for each user/item pair as output from the implicit MF.\n",
    "    These should be stored in a list, with user vectors as item zero and item vectors as item one.\n",
    "\n",
    "    altered_users - The indices of the users where at least one user/item pair was altered from make_train function\n",
    "\n",
    "    test_set - The test set constucted earlier from make_train function\n",
    "\n",
    "    returns:\n",
    "\n",
    "    The mean AUC (area under the Receiver Operator Characteristic curve) of the test set only on user-item interactions\n",
    "    there were originally zero to test ranking ability in addition to the most popular items as a benchmark.\n",
    "    '''\n",
    "\n",
    "    store_auc = []  # An empty list to store the AUC for each user that had an item removed from the training set\n",
    "    popularity_auc = []  # To store popular AUC scores\n",
    "    pop_items = np.array(test_set.sum(axis=0)).reshape(-1)  # Get sum of item iteractions to find most popular\n",
    "    item_vecs = predictions[1]\n",
    "    for user in altered_users:  # Iterate through each user that had an item altered\n",
    "        training_row = training_set[user, :].toarray().reshape(-1)  # Get the training set row\n",
    "        zero_inds = np.where(training_row == 0)  # Find where the interaction had not yet occurred\n",
    "        # Get the predicted values based on our user/item vectors\n",
    "        user_vec = predictions[0][user, :]\n",
    "        pred = user_vec.dot(item_vecs).toarray()[0, zero_inds].reshape(-1)\n",
    "        # Get only the items that were originally zero\n",
    "        # Select all ratings from the MF prediction for this user that originally had no iteraction\n",
    "        actual = test_set[user, :].toarray()[0, zero_inds].reshape(-1)\n",
    "        # Select the binarized yes/no interaction pairs from the original full data\n",
    "        # that align with the same pairs in training\n",
    "        pop = pop_items[zero_inds]  # Get the item popularity for our chosen items\n",
    "        curr_auc_score = auc_score(pred, actual)\n",
    "        store_auc.append(curr_auc_score)  # Calculate AUC for the given user and store\n",
    "        curr_pop_score = auc_score(pop, actual)\n",
    "        popularity_auc.append(curr_pop_score)  # Calculate AUC using most popular and score\n",
    "        # print(user, \"\\t\", curr_auc_score , \"\\t\", curr_pop_score)\n",
    "    # End users iteration\n",
    "\n",
    "    return float('%.3f' % np.mean(store_auc)), float('%.3f' % np.mean(popularity_auc))\n",
    "    # Return the mean AUC rounded to three decimal places for both test and popularity benchmark\n"
   ]
  },
  {
   "cell_type": "code",
   "execution_count": null,
   "id": "occasional-hospital",
   "metadata": {},
   "outputs": [],
   "source": [
    "rec_auc, pop_auc = calc_mean_auc(u_to_a_train, altered_users,[sparse.csr_matrix(user_vecs), sparse.csr_matrix(artists_vecs.T)],\n",
    "                                             u_to_a_test)\n",
    "print(rec_auc)\n",
    "print(pop_auc)"
   ]
  },
  {
   "cell_type": "code",
   "execution_count": null,
   "id": "quiet-pocket",
   "metadata": {},
   "outputs": [],
   "source": []
  }
 ],
 "metadata": {
  "kernelspec": {
   "display_name": "Python 3",
   "language": "python",
   "name": "python3"
  },
  "language_info": {
   "codemirror_mode": {
    "name": "ipython",
    "version": 3
   },
   "file_extension": ".py",
   "mimetype": "text/x-python",
   "name": "python",
   "nbconvert_exporter": "python",
   "pygments_lexer": "ipython3",
   "version": "3.6.9"
  }
 },
 "nbformat": 4,
 "nbformat_minor": 5
}
